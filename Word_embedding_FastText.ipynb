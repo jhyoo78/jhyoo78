{
  "nbformat": 4,
  "nbformat_minor": 0,
  "metadata": {
    "colab": {
      "private_outputs": true,
      "provenance": [],
      "authorship_tag": "ABX9TyOIBIQ/X7lWuor8Mv6PwNuJ",
      "include_colab_link": true
    },
    "kernelspec": {
      "name": "python3",
      "display_name": "Python 3"
    },
    "language_info": {
      "name": "python"
    }
  },
  "cells": [
    {
      "cell_type": "markdown",
      "metadata": {
        "id": "view-in-github",
        "colab_type": "text"
      },
      "source": [
        "<a href=\"https://colab.research.google.com/github/jhyoo78/jhyoo78/blob/main/Word_embedding_FastText.ipynb\" target=\"_parent\"><img src=\"https://colab.research.google.com/assets/colab-badge.svg\" alt=\"Open In Colab\"/></a>"
      ]
    },
    {
      "cell_type": "code",
      "execution_count": null,
      "metadata": {
        "id": "IuKnTvZHUDng"
      },
      "outputs": [],
      "source": [
        "# https://wikidocs.net/22660 교재의 Word2vec 코드를 수정함\n",
        "\n",
        "import numpy as np\n",
        "import nltk\n",
        "nltk.download('punkt')\n",
        "import zipfile\n",
        "import re\n",
        "from nltk.tokenize import word_tokenize, sent_tokenize\n",
        "from nltk.corpus import  stopwords                        # 향후 전처리로 to, for 등을 제거할 것"
      ]
    },
    {
      "cell_type": "code",
      "source": [
        "# PC 에서 test1.txt(log file 이름)를 upload\n",
        "\n",
        "from google.colab import files     # Colab에서 local PC내의 file 읽어 들이는 라이브러리\n",
        "uploaded = files.upload()          # 파일을  선택"
      ],
      "metadata": {
        "id": "40yr9g_2mItp"
      },
      "execution_count": null,
      "outputs": []
    },
    {
      "cell_type": "code",
      "source": [
        "# Google Drive를 이용할 경우에 실행\n",
        "from google.colab import drive\n",
        "drive.mount('./mount')"
      ],
      "metadata": {
        "id": "EMzCyGnFmI3J"
      },
      "execution_count": null,
      "outputs": []
    },
    {
      "cell_type": "code",
      "source": [
        "f = open('test1.txt', 'r', encoding='UTF8')          # 1,100 줄의 log 파일\n",
        "raw = f.read()\n",
        "\n",
        "sent_text = sent_tokenize(raw)     #  log msg를 줄 단위로 sentence로 토큰화\n",
        "print(\"sent_text==========\", sent_text)\n",
        "\n",
        "# 각 문장에 대해서 구두점, LF 등을 제거하고, 대문자를 소문자로 변환.\n",
        "pre_processed_text = []\n",
        "for string in sent_text:\n",
        "    tokens = re.sub(r\"[^a-z0-9]+\", \" \", string.lower())\n",
        "    pre_processed_text.append(tokens)\n",
        "print(\"pre_processed_text=\", pre_processed_text)\n",
        "\n",
        "# 각 문장에 대해서 NLTK를 이용하여 단어 토큰화를 수행.\n",
        "result = [word_tokenize(sentence) for sentence in pre_processed_text]\n",
        "\n",
        "print('총 샘플의 개수 : {}'.format(len(result)))\n",
        "print(result)\n"
      ],
      "metadata": {
        "id": "E_Bv4M7wmI9g"
      },
      "execution_count": null,
      "outputs": []
    },
    {
      "cell_type": "code",
      "source": [
        "# Word2Vec으로 sentence 학습시키기\n",
        "\n",
        "from gensim.models import Word2Vec\n",
        "model = Word2Vec(sentences = result, size=100, window=4, min_count=2, workers=4, sg=1)   # skip-gram 사용--> CBOW와 다른 결과 나옴\n"
      ],
      "metadata": {
        "id": "nSMblJf0mJAi"
      },
      "execution_count": null,
      "outputs": []
    },
    {
      "cell_type": "code",
      "source": [
        "model_result = model.wv.most_similar(\"system\")\n",
        "print(model_result)\n"
      ],
      "metadata": {
        "id": "HMyUXtj9mJDb"
      },
      "execution_count": null,
      "outputs": []
    },
    {
      "cell_type": "code",
      "source": [
        "# Word2Vec 모델 저장하고 로드하기\n",
        "\n",
        "from gensim.models import KeyedVectors\n",
        "model.wv.save_word2vec_format('word2vec_log') # 모델 저장\n",
        "loaded_model = KeyedVectors.load_word2vec_format(\"word2vec_log\") # 모델 로드\n"
      ],
      "metadata": {
        "id": "xOcQeO8zmJGI"
      },
      "execution_count": null,
      "outputs": []
    },
    {
      "cell_type": "code",
      "source": [
        "model_result1 = loaded_model.most_similar(\"failed\")\n",
        "print(model_result1)    #####  -----> 반의어의 유사도가 높게 나오는 문제 !!!!!!!!!!!!!!!! Word2Vec보다 FastText가 더 정확함.\n",
        "model_result2 = loaded_model.most_similar(\"starting\")\n",
        "print(model_result2)"
      ],
      "metadata": {
        "id": "MqaKYsIzmJJJ"
      },
      "execution_count": null,
      "outputs": []
    },
    {
      "cell_type": "code",
      "source": [
        "# FastText로 훈련하기\n",
        "\n",
        "from gensim.models import FastText\n",
        "model = FastText(result, size=100, window=4, min_count=2, workers=4, sg=1)\n",
        "\n",
        "model.save('fasttext_log')"
      ],
      "metadata": {
        "id": "goKpjusS1rMk"
      },
      "execution_count": null,
      "outputs": []
    },
    {
      "cell_type": "code",
      "source": [
        "print(model['syste'])   # get the vector of the word 'syste'"
      ],
      "metadata": {
        "id": "cFc38qy91rXa"
      },
      "execution_count": null,
      "outputs": []
    },
    {
      "cell_type": "code",
      "source": [
        "model.wv.most_similar('syste', topn=5)"
      ],
      "metadata": {
        "id": "6RG5KUSQ1rwU"
      },
      "execution_count": null,
      "outputs": []
    },
    {
      "cell_type": "code",
      "source": [
        "model.wv.most_similar(negative=['syste'], topn=5, )   # 반의어 찾기에 해당"
      ],
      "metadata": {
        "id": "Ioc3b_yBFC6t"
      },
      "execution_count": null,
      "outputs": []
    },
    {
      "cell_type": "code",
      "source": [
        "model.most_similar('fail', topn=5)"
      ],
      "metadata": {
        "id": "tHjAX7lLrMaT"
      },
      "execution_count": null,
      "outputs": []
    },
    {
      "cell_type": "code",
      "source": [
        "model.most_similar('finished rotate log', topn=5)"
      ],
      "metadata": {
        "id": "lKNPX21nVq_Y"
      },
      "execution_count": null,
      "outputs": []
    },
    {
      "cell_type": "code",
      "source": [
        "!apt-get install glove_python  # !pip도 build 오류 발생함, toy로 소개되어 있어서 ???"
      ],
      "metadata": {
        "id": "S447aaXsmJNR"
      },
      "execution_count": null,
      "outputs": []
    },
    {
      "cell_type": "code",
      "source": [
        "# Glove로 훈련하기  --> import\n",
        "from glove import Glove, Corpus\n",
        "#from gensim.models import Glove, Corpus\n",
        "corpus = Corpus()\n",
        "corpus.fit(result, window=5)\n",
        "# 훈련 데이터로부터 GloVe에서 사용할 동시 등장 행렬 생성\n",
        "\n",
        "glove = Glove(no_components=100, learning_rate=0.05)\n",
        "glove.fit(corpus.matrix, epochs=20, no_threads=4, verbose=True)\n",
        "glove.add_dictionary(corpus.dictionary)\n",
        "# 학습에 이용할 쓰레드의 개수는 4로 설정, 에포크는 20.\n"
      ],
      "metadata": {
        "id": "CvvELgQmmJQh"
      },
      "execution_count": null,
      "outputs": []
    },
    {
      "cell_type": "code",
      "source": [],
      "metadata": {
        "id": "R2pipAcGmJTo"
      },
      "execution_count": null,
      "outputs": []
    },
    {
      "cell_type": "code",
      "source": [],
      "metadata": {
        "id": "TMj1ZIkrmJYu"
      },
      "execution_count": null,
      "outputs": []
    },
    {
      "cell_type": "code",
      "source": [],
      "metadata": {
        "id": "HWvkBo3SmJcG"
      },
      "execution_count": null,
      "outputs": []
    },
    {
      "cell_type": "code",
      "source": [],
      "metadata": {
        "id": "EbX4RJSCmJfW"
      },
      "execution_count": null,
      "outputs": []
    },
    {
      "cell_type": "code",
      "source": [],
      "metadata": {
        "id": "zFuazyDKmJi7"
      },
      "execution_count": null,
      "outputs": []
    },
    {
      "cell_type": "code",
      "source": [],
      "metadata": {
        "id": "bb5ISPcImJmG"
      },
      "execution_count": null,
      "outputs": []
    },
    {
      "cell_type": "code",
      "source": [],
      "metadata": {
        "id": "kpjHmwAlmJqL"
      },
      "execution_count": null,
      "outputs": []
    }
  ]
}