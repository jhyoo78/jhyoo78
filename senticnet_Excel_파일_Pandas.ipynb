{
  "nbformat": 4,
  "nbformat_minor": 0,
  "metadata": {
    "colab": {
      "private_outputs": true,
      "provenance": [],
      "authorship_tag": "ABX9TyNnYlCeU/0SGHymnyK5nVdJ",
      "include_colab_link": true
    },
    "kernelspec": {
      "name": "python3",
      "display_name": "Python 3"
    },
    "language_info": {
      "name": "python"
    }
  },
  "cells": [
    {
      "cell_type": "markdown",
      "metadata": {
        "id": "view-in-github",
        "colab_type": "text"
      },
      "source": [
        "<a href=\"https://colab.research.google.com/github/jhyoo78/jhyoo78/blob/main/senticnet_Excel_%ED%8C%8C%EC%9D%BC_Pandas.ipynb\" target=\"_parent\"><img src=\"https://colab.research.google.com/assets/colab-badge.svg\" alt=\"Open In Colab\"/></a>"
      ]
    },
    {
      "cell_type": "code",
      "source": [
        "!pip install xlrd   # pandas.read_excel()이 excel 파일을 읽고 쓸 때 사용하는 library. Colab이 지원하므로 설치 불필요"
      ],
      "metadata": {
        "id": "C5h1QhDZgNrC"
      },
      "execution_count": null,
      "outputs": []
    },
    {
      "cell_type": "code",
      "execution_count": null,
      "metadata": {
        "id": "2foPVxacgMIN"
      },
      "outputs": [],
      "source": [
        "from google.colab import files     # Colab에서 local PC내의 file 읽어 들이는 라이브러리  ==> 28 MB, 6 ~ 7 분 소요\n",
        "uploaded = files.upload()          # 파일을 여러 개 선택 가능함\n",
        "\n",
        "filenames = uploaded.keys()\n",
        "print(filenames)"
      ]
    },
    {
      "cell_type": "code",
      "source": [
        "str1 = \"systemd starting daily mandb regeneration\"\n",
        "str2=  \"systemd logrotateservice succeeded\"\n",
        "str3 = \"systemd logrotateservice succeeded\"\n",
        "\n",
        "words1 = str1.split()    # 문장을 단어로 토큰화\n",
        "words2 = str2.split()\n",
        "words3 = str3.split()\n",
        "print(len(words1))\n",
        "\n",
        "for i in words2:\n",
        "    if i in words1:\n",
        "        words1.remove(i)   # 하나씩 제거해야 함.\n",
        "for i in words3:\n",
        "    if i in words1:\n",
        "        words1.remove(i)   # 하나씩 제거해야 함.\n",
        "words1"
      ],
      "metadata": {
        "id": "gt2mVyIrZMA-"
      },
      "execution_count": null,
      "outputs": []
    },
    {
      "cell_type": "markdown",
      "source": [
        "# Senticnet으로 감성 분석하기"
      ],
      "metadata": {
        "id": "gwbhe2V6ZRg8"
      }
    },
    {
      "cell_type": "code",
      "source": [
        "import pandas as pd\n",
        "import numpy as np\n",
        "\n",
        "df = pd.read_excel('senticnet.xlsx', header= None, usecols=[0, 8]) #, names = ['word', 'polarity'])\n",
        "#df = pd.read_excel('senticnet_small.xlsx', header= None, usecols=[0, 8]) #,names = ['word', 'polarity'])\n",
        "\n",
        "# read에 1분 35초 소요, senticnet_test.xlsx는 30초 소요.\n",
        "#$%  Excel file의 extension은 xlsx 이어야 함.  xls로 구버전이면 오류 발생함\n",
        "# header = 파일 최상단의 빈 줄, 파일 제목 등을 제거하는 데 사용, usecols 는 불러 올 칼럼을 숫자로 지정하는 데 사용함\n",
        "# names는 새로운 column 명\n",
        "print('df = ', df)"
      ],
      "metadata": {
        "id": "PpEeZZh0gOxJ"
      },
      "execution_count": null,
      "outputs": []
    },
    {
      "cell_type": "code",
      "source": [
        "#df.to_excel(\"senticnet_test.xlsx\")   # 액셀 파일로 저장 --> 30 MB가 8MB로 줄었고 47초 소요\n",
        "df.to_excel(\"senticnet_test.xlsx\")   # 액셀 파일로 저장 --> 30 MB가 8MB로 줄었고 47초 소요\n",
        "\n"
      ],
      "metadata": {
        "id": "lyye-xGMgPRh"
      },
      "execution_count": null,
      "outputs": []
    },
    {
      "cell_type": "code",
      "source": [
        "df.info()\n",
        "df.head()\n",
        "\n",
        "#print(\"Column=\", df.columns)\n",
        "#print(\"Index=\", df.index)"
      ],
      "metadata": {
        "id": "TruD2bUQUvKx"
      },
      "execution_count": null,
      "outputs": []
    },
    {
      "cell_type": "code",
      "source": [
        "# df.loc[]은 행렬의 숫자와 이름으로 지정,  df.iloc[])은 integer location으로서 행렬의 숫자로만 지정한다. df.ix()은 df.loc과 같으나 deprecated됨\n",
        "\n",
        "display(df.iloc[0,1])\n",
        "display(df.loc[1,8])                 # df.loc[]에서 행은 index 값(숫자)로 사용하지만 column 명을 숫자로 지정하면 오류 발생함\n",
        "display(df.loc([0] == 'take_long'))\n",
        "\n",
        "a = df.index[df[0] == 'fail' ].tolist()  # word가 없으면 error 발생\n",
        "print(a)\n",
        "display(df.loc[a[0], 8])\n",
        "\n",
        "display(df.loc[a[0]])  # take_long에 대한 모든 정보\n",
        "#display(df.loc[a[0], 8 ])\n",
        "\n",
        "print(df.iloc[0:3, 1:2] )   # 0,1,2 행에 대해 1, 2 열을 출력한다.\n",
        "\n",
        "df[[0, 8]].head()   # 지정한 순서대로 2개의 column을 출력\n",
        "print(df[[0]].head())\n"
      ],
      "metadata": {
        "id": "07n8CWpXgPW1"
      },
      "execution_count": null,
      "outputs": []
    },
    {
      "cell_type": "code",
      "source": [
        "import numpy as np\n",
        "\n",
        "str1= 'systemd starting rotate log files fail systemd starting daily mandb regeneration failed systemd log rotate service succeeded failure'\n",
        "str2= 'systemd starting daily mandb regeneration'\n",
        "\n",
        "words1 = str1.split()    # 문장을 단어로 토큰화\n",
        "words2 = str2.split()\n",
        "\n",
        "for i in words2:\n",
        "    if i in words1:\n",
        "        words1.remove(i)   # 하나씩 제거해야 함.\n",
        "print(words1)\n",
        "print(\"\\n\")\n",
        "\n",
        "#val_dict = df.to_dict()   # dict 변환 기본 명령\n",
        "# df의 특정 column을 key로 사용하여 value를 list로 출력하고자 할때, 여기서는 column = 0을 key로 사용함\n",
        "val_dict= df.set_index(0).T.to_dict('list')   #  df를  {'fags': [-0.879],...} 형태로 변환, ==> 32 초 소요\n",
        "#print(\"val_dict=\", val_dict)\n",
        "#print(\"\\n\")\n",
        "\n",
        "polar = []\n",
        "for i in words1:\n",
        "    #if i in get_word.values():   # dict에서 value를 검색할 때\n",
        "    if i in val_dict:             # key를 검색할 때만 in dict 를 사용 가능\n",
        "        print(i)\n",
        "        c = val_dict.get(i)\n",
        "        polar.append(c)\n",
        "print(\"polarity =\", polar)\n",
        "\n",
        "p_list = np.concatenate(polar).tolist()  # 2차원 리스트를 1차원으로 변경\n",
        "print(sum(p_list))                       # List 값의 합계 계산하기\n"
      ],
      "metadata": {
        "id": "lGqEOkHDgPaj"
      },
      "execution_count": null,
      "outputs": []
    },
    {
      "cell_type": "code",
      "source": [],
      "metadata": {
        "id": "5rEFok0o4-lx"
      },
      "execution_count": null,
      "outputs": []
    }
  ]
}