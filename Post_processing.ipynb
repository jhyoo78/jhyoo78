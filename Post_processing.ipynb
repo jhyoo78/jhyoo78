{
  "nbformat": 4,
  "nbformat_minor": 0,
  "metadata": {
    "colab": {
      "private_outputs": true,
      "provenance": [],
      "authorship_tag": "ABX9TyPU31J+OtQPTpucsGfSfsIW",
      "include_colab_link": true
    },
    "kernelspec": {
      "name": "python3",
      "display_name": "Python 3"
    },
    "language_info": {
      "name": "python"
    }
  },
  "cells": [
    {
      "cell_type": "markdown",
      "metadata": {
        "id": "view-in-github",
        "colab_type": "text"
      },
      "source": [
        "<a href=\"https://colab.research.google.com/github/jhyoo78/jhyoo78/blob/main/Post_processing.ipynb\" target=\"_parent\"><img src=\"https://colab.research.google.com/assets/colab-badge.svg\" alt=\"Open In Colab\"/></a>"
      ]
    },
    {
      "cell_type": "code",
      "source": [
        "from google.colab import files     # Colab에서 local PC내의 file 읽어 들이는 라이브러리  ==> 28 MB, 6분소요\n",
        "uploaded = files.upload()          # 파일을 여러 개 선택 가능함\n",
        "\n",
        "filenames = uploaded.keys()\n",
        "print(filenames)"
      ],
      "metadata": {
        "id": "Qe9JxojICavg"
      },
      "execution_count": null,
      "outputs": []
    },
    {
      "cell_type": "markdown",
      "source": [
        "# 단어 뺄셈 시험"
      ],
      "metadata": {
        "id": "FzTm4u9EV7Qs"
      }
    },
    {
      "cell_type": "markdown",
      "source": [
        "# 컴퓨터 시각(time) 다루기**"
      ],
      "metadata": {
        "id": "cSQNEL5bW0HD"
      }
    },
    {
      "cell_type": "code",
      "source": [
        "import sys\n",
        "print(\"{0:,}\".format(sys.maxsize))\n",
        "print('\\n')\n",
        "# 리스트의 최대 크기, sys.maxsize 는 ,platform의 pointer size를 출력한다. 이것은 파이썬의 데이터 구조(string, list 등)의 최대치의 한계이다.\n",
        "\n",
        "\n",
        "\n",
        "'''-----------Daylight Saving Time (DST) 3월 중순~11월 첫 주에 변경 필요 -----------------------'''\n",
        "import datetime\n",
        "from datetime import timedelta\n",
        "\n",
        "current = datetime.datetime.now() + timedelta(hours = 9)        # 한국 시간으로 변환... tiemdelta는 days, hours 등을 연산하는 데 사용됨\n",
        "begin = current.replace(hour = 0, minute = 0, second = 7)\n",
        "print(\"current=\", current, \"begin=\", begin)\n",
        "\n",
        "if current < begin:   # 0시 0분 0초에 list를 초기화함.  sleep(5)를 사용하는 경우에... 0시0분 0초 ~ 7초 사이에 이 코드가 실행되면 list를 초기화 하게됨.\n",
        "    list=[0]\n",
        "else:\n",
        "    print(current)  # --> Greenwich Mean Time (런던)이 출력됨.\n",
        "\n",
        "print('\\n')\n",
        "'''-----------------------------------------------------------'''\n",
        "from time import time\n",
        "from time import localtime\n",
        "\n",
        "t=time()                      # Unix(또는 epoch) timestamp를 출력함, 1970년 1월1일 0시0분0초 이후의 경과 시간을 초 단위로 표시함.\n",
        "print(t)\n",
        "tm = localtime(t)             # timestamp를 읽을 수 있는 시간으로 변환\n",
        "\n",
        "print(\"hour:\", tm.tm_hour + 9)  # 한국 시간으로 변환함\n",
        "print(\"minute:\", tm.tm_min)\n",
        "print(\"second:\", tm.tm_sec)\n",
        "\n",
        "'''---------------- 기타 시험 ----------------'''\n",
        "list_ptr=[0]\n",
        "print(list_ptr[-1])\n",
        "\n",
        "for i in range(1, 1):\n",
        "    print(\"a\")"
      ],
      "metadata": {
        "id": "4SZa1s2wXZoh"
      },
      "execution_count": null,
      "outputs": []
    },
    {
      "cell_type": "code",
      "source": [
        "a = 'abc'\n",
        "print(len(a))\n",
        "a = ['abc']\n",
        "print(len(a))\n",
        "a = ['']\n",
        "print(len(a))\n",
        "a=[]\n",
        "print(len(a))"
      ],
      "metadata": {
        "id": "Qk62pIteNWYg"
      },
      "execution_count": null,
      "outputs": []
    },
    {
      "cell_type": "markdown",
      "source": [
        "\n",
        "# line을 하나씩 읽고 2개씩 출력하기 최종 시험 완료 0308\n",
        "--- readline()과 tell(), seek() 및 list를 이전 상태 저장에 사용 ---"
      ],
      "metadata": {
        "id": "lK-gMKr5YzWe"
      }
    },
    {
      "cell_type": "code",
      "source": [
        "import os\n",
        "import time   # sleep()\n",
        "import datetime\n",
        "from datetime import timedelta\n",
        "\n",
        "####--------------- log 파일의 lines 수 세기 ----------------###\n",
        "\n",
        "rpt = 0          # while loop 반복 횟수 초기화\n",
        "list_ptr = [0]   # pointer(f.tell())의 위치 저장\n",
        "list_line = [0]  # 파일의 line 번호\n",
        "\n",
        "'''==============  비정상 log 파일 이름을 입력 ================      '''\n",
        "while True:\n",
        "    with open(\"test_small_file.txt\", 'r') as f1:          # 비정상 log 파일 이름을 입력\n",
        "        for count, line in enumerate(f1):                 # enumerate()는 최소한의 메모리로 iterable 개체(string)를 count 하는데 사용됨\n",
        "            pass\n",
        "    #print('Total Lines', count + 1 )                      # 파일의 line 수 세기\n",
        "\n",
        "    '''---Daylight Saving Time (DST) 3월 중순~11월 첫 주에 변경 필요 ------'''\n",
        "    current = datetime.datetime.now() + timedelta(hours = 9)        # 한국 시간( +9)으로 변환... tiemdelta는 days, hours 등을 연산하는 데 사용됨\n",
        "    begin = current.replace(hour = 0, minute = 0, second = 7)       # sleep(5) 사용 시의 설정임(변경 필요)\n",
        "    #print(\"current=\", current, \"begin=\", begin)\n",
        "\n",
        "    # 0시 0분 0초에 list를 초기화함.  sleep(5)를 사용하는 경우에는... 0시0분 0초 ~ 7초 사이에 이 코드가 실행되면 list를 초기화 하게됨.\n",
        "    if current < begin:\n",
        "        list_ptr = [0]\n",
        "        list_line =[0]\n",
        "    else:\n",
        "        pass\n",
        "\n",
        "    #if list_line[-1] != count :\n",
        "    if count > list_line[-1]+1 : # 파일에 2 lines 이상의 log가 생성되어 있으면...\n",
        "        list_line.append(count)\n",
        "        print(\"list_line\", list_line)\n",
        "\n",
        "        ####---------------- (lines 수 - 1) 만큼 파일에서 읽기 --------------------###\n",
        "        loc1 = 0\n",
        "        for i in range(list_line[rpt], count):        # list_ine[rpt] 째 줄로부터 total_line -1 줄까지만 반복(처리)\n",
        "\n",
        "            with open(\"test_small_file.txt\", 'r') as f2:\n",
        "                two_line = []\n",
        "\n",
        "                f2.seek(loc1 + list_ptr[rpt], 0)          # seek()로 위치 변경\n",
        "                line_1 = f2.readline()                   # 한줄 읽기\n",
        "\n",
        "                loc1=f2.tell()                            # tell()로 한 줄을 읽은 후의 pointer 위치 측정\n",
        "                print(\"loc_1=\", loc1)\n",
        "\n",
        "                two_line.append(line_1)\n",
        "                line_2 = f2.readline()                   # 둘째 줄 읽기\n",
        "                two_line.append(line_2)\n",
        "\n",
        "                line_3 = f2.readline()      # 뺄셈에 피감수로 시용할 라인 읽기\n",
        "                print(\"line_3=\", line_3)\n",
        "\n",
        "                # ''를 ' '로 변경함. map(함수, iterable) : iterable(=two_line)에 지정한 함수(\\n,tab 등을 제거)를 실행, 참고: https://nem0.tistory.com/31\n",
        "                out = list(map(lambda s : ' '.join(s.split()), two_line))\n",
        "\n",
        "                if len(out) == 2:\n",
        "                    print(out)\n",
        "                    ''' out 으로 다음 문장을 예측하도록 구현한다'''\n",
        "                elif len(out[1])==0:\n",
        "                    break\n",
        "\n",
        "                loc2 = f2.tell()\n",
        "                #time.sleep(0.01)   #### 불필요\n",
        "\n",
        "            print(\"loc_2=\", loc2)\n",
        "\n",
        "            i=i+1\n",
        "    else:\n",
        "        pass\n",
        "\n",
        "    rpt = rpt + 1    # while loop 반복할 때마다 1씩  증가\n",
        "\n",
        "    if list_ptr[-1] != loc2:\n",
        "        list_ptr.append(loc2)\n",
        "    else: pass\n",
        "\n",
        "    print(\"list_ptr=\", list_ptr)\n",
        "\n",
        "    time.sleep(5)    ##########  5초 대기 ---> 시간 조정할 것\n",
        "\n",
        "    # rpt = 20만회 반복 시험 이상 무"
      ],
      "metadata": {
        "id": "fQ7x_6rrDYdT"
      },
      "execution_count": null,
      "outputs": []
    },
    {
      "cell_type": "markdown",
      "source": [
        "# 예측 대상 로그 라인에서 예측한 문장의 단어를 빼기(원본)"
      ],
      "metadata": {
        "id": "EP5JXqhWaBLs"
      }
    },
    {
      "cell_type": "code",
      "source": [
        "str1= 'systemd starting rotate log files fail systemd starting daily mandb regeneration failed systemd log rotate service succeeded failure'\n",
        "str2= 'systemd starting daily mandb regeneration'\n",
        "\n",
        "words1 = str1.split()    # 문장을 단어로 토큰화\n",
        "words2 = str2.split()\n",
        "\n",
        "print(words1)\n",
        "\n",
        "for i in words2:\n",
        "    if i in words1:\n",
        "        words1.remove(i)   # 하나씩 제거해야 함.\n",
        "print(words1)\n",
        "print(\"\\n\")\n",
        "\n",
        "#val_dict = df.to_dict()   # dict 변환 기본 명령\n",
        "# df의 특정 column을 key로 사용하여 value를 list로 출력하고자 할때, 여기서는 column = 0을 key로 사용함\n",
        "val_dict= df.set_index(0).T.to_dict('list')   #  df를  {'fags': [-0.879],...} 형태로 변환, ==> 32 초 소요\n",
        "#print(\"val_dict=\", val_dict)\n",
        "#print(\"\\n\")\n",
        "\n",
        "polar = [[0]]                     # 뺄셈으로 polar=[] 이 되면 아래에서 concatenate 오류가 발생함\n",
        "for i in words1:\n",
        "    #if i in get_word.values():   # dict에서 value를 검색할 때\n",
        "    if i in val_dict:             # key를 검색할 때만 in dict 를 사용 가능\n",
        "        print(i)\n",
        "        c = val_dict.get(i)\n",
        "        polar.append(c)\n",
        "print(\"polarity =\", polar)\n",
        "\n",
        "p_list = np.concatenate(polar).tolist()  # 2차원 리스트를 1차원으로 변경,--> polar =[] 이되면 error\n",
        "print(sum(p_list))                       # List 값의 합계 계산하기\n"
      ],
      "metadata": {
        "id": "G_1Qnu_qg-YM"
      },
      "execution_count": null,
      "outputs": []
    },
    {
      "cell_type": "markdown",
      "source": [
        "line을 하나씩 읽고 2개씩 출력하기 시험 3 --- readline()과 tell(), seek()를 사용"
      ],
      "metadata": {
        "id": "dr9EoDUjjGuQ"
      }
    },
    {
      "cell_type": "code",
      "source": [
        "import os\n",
        "import time   # sleep()\n",
        "\n",
        "# log 파일의 lines 수 세기\n",
        "with open(\"test_small_file.txt\", 'r') as f1:\n",
        "    for count, line in enumerate(f1):              # enumerate()는 최소한의 메모리로 iterable 개체(string)를 count 하는데 사용됨\n",
        "        pass\n",
        "print('Total Lines', count + 1 )                    # 파일의 line 수 세기\n",
        "\n",
        "# lines 수만큼 파일에서 읽기\n",
        "\n",
        "loc=0\n",
        "for i in range(count):                           # total_line -1 만큼만 처리\n",
        "\n",
        "    with open(\"test_small_file.txt\", 'r') as f2:\n",
        "        two_line = []\n",
        "\n",
        "        f2.seek(loc,0)                           # seek()로 위치 변경\n",
        "\n",
        "        line_1 = f2.readline()                   # 한줄 읽기\n",
        "\n",
        "        loc=f2.tell()                            # tell()로 위치 측정\n",
        "        print(loc)\n",
        "\n",
        "        two_line.append(line_1)\n",
        "        line_2 = f2.readline()                   # 둘째 줄 읽기\n",
        "        two_line.append(line_2)\n",
        "\n",
        "        out = list(map(lambda s : ' '.join(s.split()), two_line))  # ''를 ' '로 변경. map(함수, iterable) : iterable에 지정한 함수(\\n,tab 등을 제거)를 실행, 참고: https://nem0.tistory.com/31\n",
        "\n",
        "        if len(out) == 2:\n",
        "            print(out)\n",
        "            ''' out 으로 다음 문장을 예측하도록 구현한다'''\n",
        "        elif len(out[1])==0:\n",
        "            break\n",
        "    i=i+1\n",
        ""
      ],
      "metadata": {
        "id": "RfIktthOuZsS"
      },
      "execution_count": null,
      "outputs": []
    },
    {
      "cell_type": "markdown",
      "source": [
        "Log file 크기가 증가하면 line 전체를 읽어 2개씩 출력하기 시험 3 --- file object를 사용"
      ],
      "metadata": {
        "id": "6zEsRIe6H9Fi"
      }
    },
    {
      "cell_type": "code",
      "source": [
        "import os\n",
        "import time   # sleep()\n",
        "\n",
        "# log 파일의 lines 수 세기\n",
        "with open(\"test_small_file.txt\", 'r') as f1:\n",
        "    for count, line1 in enumerate(f1):              # enumerate()는 최소한의 메모리로 iterable 개체(string)를 count 하는데 사용됨\n",
        "        pass\n",
        "print('Total Lines', count + 1)                    # 파일의 line 수 세기\n",
        "\n",
        "\n",
        "# lines 수만큼 파일에서 읽기\n",
        "\n",
        "i = 0\n",
        "for i in range(count+1):\n",
        "    line_number=[i, i+1]\n",
        "    #print(line_number)\n",
        "\n",
        "    j = 0\n",
        "    with open(\"test_small_file.txt\", 'r') as f2:\n",
        "        two_line = []\n",
        "        for line in f2:                # file object를 사용해야 tell() 명령을 사용할 수 있음\n",
        "            if j in line_number:\n",
        "                two_line.append(line)\n",
        "            j=j+1\n",
        "        if len(two_line) == 2:\n",
        "            #print(len(out))\n",
        "            out = list(map(lambda s : ''.join(s.split()), two_line))  # map(함수, iterable) : iterable에 지정한 함수(\\n,tab 등을 제거)를 실행, 참고: https://nem0.tistory.com/31\n",
        "            print(out)\n",
        "            ''' out으로 다음 문장을 예측하도록 구현한다'''\n",
        "            loc=f2.tell()\n",
        "            print(loc)\n",
        "        else:\n",
        "            break\n",
        "    i=i+1\n"
      ],
      "metadata": {
        "id": "ckWk8uovbkOX"
      },
      "execution_count": null,
      "outputs": []
    },
    {
      "cell_type": "markdown",
      "source": [
        "Log file 크기가 증가하면 line 전체를 읽고 2개 씩 출력하기 시험 2 --- readlines(): file pointer는 파일의 끝을 가리킴"
      ],
      "metadata": {
        "id": "F7MtFTqui5be"
      }
    },
    {
      "cell_type": "code",
      "source": [
        "import os\n",
        "import time   # sleep()\n",
        "\n",
        "# log 파일의 lines 수 세기\n",
        "with open(\"test_small_file.txt\", 'r') as f1:\n",
        "    for count, line in enumerate(f1):              # enumerate()는 최소한의 메모리로 iterable 개체(string)를 count 하는데 사용됨\n",
        "        pass\n",
        "print('Total Lines', count + 1)                    # 파일의 line 수 세기\n",
        "\n",
        "# lines 수만큼 파일에서 읽기\n",
        "i=1\n",
        "for i in range(count+1):\n",
        "    with open(\"test_small_file.txt\", 'r') as f2:\n",
        "        two_line = f2.readlines()[i : i+2]      # 여러개의 라인이 ''로 구분되어 하나의 리스트로 출력됨\n",
        "        out = list(map(lambda s : ''.join(s.split()), two_line))  # map(함수, iterable) : iterable에 지정한 함수(\\n,tab 등을 제거)를 실행, 참고: https://nem0.tistory.com/31\n",
        "        if len(out) == 2:\n",
        "            #print(len(out))\n",
        "            print(out)\n",
        "            ''' out으로 다음 문장을 예측하도록 구현한다'''\n",
        "            loc=f2.tell()\n",
        "            print(loc)\n",
        "        else:\n",
        "            break\n",
        "    i=i+1"
      ],
      "metadata": {
        "id": "-XwIRNzQijxu"
      },
      "execution_count": null,
      "outputs": []
    },
    {
      "cell_type": "markdown",
      "source": [
        "Log file 크기가 증가하면 line을 2개 씩 읽기 시험 1"
      ],
      "metadata": {
        "id": "BVju0tEyWDPd"
      }
    },
    {
      "cell_type": "code",
      "source": [
        "import nltk\n",
        "nltk.download('punkt')   # punkt는 text를 tokenize하는데 필수적인 nltk library tool임('', 사용)\n",
        "from nltk.tokenize import word_tokenize\n",
        "\n",
        "import os\n",
        "import time   # sleep()\n",
        "\n",
        "i=1\n",
        "for i in range(20):\n",
        "    stat= os.stat(\"test_small_file.txt\")   # 파일의 상태 정보\n",
        "    size1 = stat.st_size                   # 파일 크기\n",
        "    #print(size1)\n",
        "    time.sleep(0.2)       #  n 초 대기 후\n",
        "\n",
        "    stat= os.stat(\"test_small_file.txt\")   # 파일의 상태 정보\n",
        "    size2 = stat.st_size                   # 파일 크기\n",
        "    #print(size2)\n",
        "\n",
        "    with open(\"test_small_file.txt\", 'r') as f2:\n",
        "        if size2 == size1:                          # (수정할 것) 만일 파일이 커졌으면  ---> 이전의 EOF로 이동.\n",
        "                                                    # 파일 쓰기는 한 개의 프로그램 내에서 하면 안되고... 별도의 프로세스에서 해야 함.\n",
        "            two_lines = f2.readlines()[i : i+2]      # 여러개의 라인이 ''로 구분되어 하나의 리스트로 출력됨\n",
        "            #two_lines.rstrip('\\n')\n",
        "            out = list(map(lambda s : ''.join(s.split()), two_lines))  # map(함수, iterable) : iterable에 대해 지정한 함수를 실행, 참고: https://nem0.tistory.com/31\n",
        "            print(out)\n",
        "        else:\n",
        "            pass\n",
        "    i=i+1\n"
      ],
      "metadata": {
        "id": "CwQIR7XQCUJB"
      },
      "execution_count": null,
      "outputs": []
    },
    {
      "cell_type": "markdown",
      "source": [
        "# f.seek(), f.tell() 시험"
      ],
      "metadata": {
        "id": "fcayLFNWVyTm"
      }
    },
    {
      "cell_type": "code",
      "source": [
        "\n",
        "output=[]\n",
        "with open('test_small_file.txt', 'rb') as f:\n",
        "    f.readline()\n",
        "    loc=f.tell()          # 한 줄을 읽고 pointer 위치 출력하기\n",
        "    print(loc)\n",
        "    f.seek(loc, 0)        # 처음 오프셋 위치로부터 loc 위치로 이동\n",
        "    data = f.readline().decode().strip()   #  b'systemd ...'의 b는 byte 문자열임을 의미함 --> decode(ascii)로 제거함.strip() --> \\n 제거, 참고: https://wikidocs.net/10501\n",
        "    output.append(data)\n",
        "    print(output)"
      ],
      "metadata": {
        "id": "D7KT0x53cYrC"
      },
      "execution_count": null,
      "outputs": []
    },
    {
      "cell_type": "code",
      "source": [
        "text = input(\"Text를 입력하라: \")\n",
        "f = open('test_small_file.txt', 'a')  # 파일 append mode 로 지정해야 함. 'w' 모드로 파일을 열면 그 내용은 모두 삭제됨.\n",
        "f2.write('\\n')\n",
        "f.write(text)\n",
        "f.close()"
      ],
      "metadata": {
        "id": "VJ3XNRohYZVD"
      },
      "execution_count": null,
      "outputs": []
    },
    {
      "cell_type": "markdown",
      "source": [
        "# Linecache로 Log file을 2 라인 씩 읽기"
      ],
      "metadata": {
        "id": "xRSdp-NSWamJ"
      }
    },
    {
      "cell_type": "code",
      "source": [
        "import linecache\n",
        "\n",
        "i=1\n",
        "while True:\n",
        "    line_numbers = [i, i+1]\n",
        "    lines = []\n",
        "\n",
        "    for j in line_numbers:\n",
        "        x = linecache.getline('test_small_file.txt', j).strip()  # strip()은 문자열 좌우 끝의 공백을 제거\n",
        "        lines.append(x)\n",
        "\n",
        "    print(lines)\n",
        "\n",
        "    i=i+1\n",
        "    if x == \"\":    # EOF 이면 break(loop 빠져 나가기)\n",
        "        print(\"break\")\n",
        "        break"
      ],
      "metadata": {
        "id": "NvsGUYQ6ikDD"
      },
      "execution_count": null,
      "outputs": []
    },
    {
      "cell_type": "code",
      "source": [
        "'''---- seek()와 tell()을 사용한 파일 사이즈 체크하기 ---- '''\n",
        "# fp is a file object.\n",
        "# read file\n",
        "fp = open('test_small_file.txt', 'r')\n",
        "old_file_position = fp.tell()    # tell()은 현재의 pointer 위치(파일 시작점의 값=0)를 알려줌.\n",
        "print(old_file_position)\n",
        "\n",
        "# Moving the file handle to the end of the file\n",
        "fp.seek(0, 2)       #  seek(offset, 기준점)으로 이동,  기준점=0: 파일 시작점, 1: 현재 위치, 2: EOF 위치\n",
        "\n",
        "# calculates the bytes\n",
        "size = fp.tell()    # 파일 끝 부분의 위치 값\n",
        "print('file size is', size, 'bytes')\n",
        "fp.seek(old_file_position, 0)    # 다시 시작점으로 이동"
      ],
      "metadata": {
        "id": "A1PFm16OIoUS"
      },
      "execution_count": null,
      "outputs": []
    },
    {
      "cell_type": "markdown",
      "source": [
        "# 파일을 읽어 들이는 여러 방법들"
      ],
      "metadata": {
        "id": "MmMxKq3OI2CV"
      }
    },
    {
      "cell_type": "code",
      "source": [
        "# 참고: https://www.delftstack.com/ko/howto/python/how-to-read-specific-lines-from-a-file-in-python/\n",
        "# 파일에서 10 번째 줄만 읽기-->  0, 1, 2... 10번째\n",
        "\n",
        "with open(\"train.txt\") as f:\n",
        "    data = f.readlines()[10]\n",
        "print(data)                       # 한 라인이 문자열로 출력됨\n",
        "type(data)"
      ],
      "metadata": {
        "id": "3AWs-gN3Iogh"
      },
      "execution_count": null,
      "outputs": []
    },
    {
      "cell_type": "code",
      "source": [
        "# 파일에서 10~15 행만 읽기\n",
        "with open(\"train.txt\") as f:\n",
        "    data = f.readlines()[10:12]  # 값을 변수로 줄 때 [i: i+1]은 i 하나에 대한 결과만 출력하므로 주의해야 함.\n",
        "print(data)\n",
        "type(data)                     # 여러개의 라인이 ''로 구분되어 하나의 리스트로 출력됨"
      ],
      "metadata": {
        "id": "K85GcF2oI8B4"
      },
      "execution_count": null,
      "outputs": []
    },
    {
      "cell_type": "code",
      "source": [
        "#for line in fileobject 는 작은 파일을 읽는 다른 방법이다.\n",
        "lines =[10, 15]\n",
        "data = []\n",
        "i = 0\n",
        "\n",
        "with open(\"test_small_file.txt\", \"r+\") as f:\n",
        "    for line in f:        #-->  for line in fileobject\n",
        "        if i in lines:    # i가 lines에 포함되어 있으면, 즉 10번 줄과 15번 줄만 출력함.\n",
        "            #data.append(line.strip)\n",
        "            data.append(line)\n",
        "        i = i + 1\n",
        "print(data)                    # 여러개의 라인이 ''로 구분되어 하나의 리스트로 출력됨"
      ],
      "metadata": {
        "id": "Ouc4ipTJI8J8"
      },
      "execution_count": null,
      "outputs": []
    },
    {
      "cell_type": "code",
      "source": [
        "# 파이썬에서 특정 라인을 읽는linecache 모듈 --- 많은 파일을 읽거나 반복적으로 추출하거나 여러 줄을 추출\n",
        "# linecache 모듈은 캐시를 사용하여 내부적으로 최적화하면서 파이썬 소스 파일에서 모든 라인을 가져올 수 있다.\n",
        "# 이 방법은 단일 파일에서 많은 라인을 읽는 일반적인 관행이다.\n",
        "\n",
        "import linecache\n",
        "\n",
        "#getline(,)의 번호는 1, 2, 3,,, n에 해당함. 0을 설정하면 출력이 없음.\n",
        "data = linecache.getline('train.txt', 1).strip()  # strip()은 문자열 좌우 끝의 공백을 제거\n",
        "print(data)"
      ],
      "metadata": {
        "id": "vpix_4lsJit9"
      },
      "execution_count": null,
      "outputs": []
    },
    {
      "cell_type": "code",
      "source": [
        "import linecache\n",
        "\n",
        "line_numbers = [2, 4]\n",
        "lines = []\n",
        "\n",
        "for i in line_numbers:\n",
        "    x = linecache.getline('train.txt', i).strip()  # strip()은 문자열 좌우 끝의 공백을 제거\n",
        "    lines.append(x)\n",
        "print(lines)"
      ],
      "metadata": {
        "id": "nZidpA2rVBRY"
      },
      "execution_count": null,
      "outputs": []
    },
    {
      "cell_type": "code",
      "source": [
        "# 큰 파일을 읽어들이면 메모리 부족 문제를 일으킬 수 있다. 이 경우 enumerate()로 완화할 수 있다.\n",
        "# enumerate()함수는 순회 가능한 데이터 객체 (리스트, 튜플 또는 문자열)를 인덱스 시퀀스로 결합하여 데이터와 데이터 첨자를 동시에 나열하며, 일반적으로for 문에서 사용한다.\n",
        "\n",
        "with open(\"train.txt\") as f:\n",
        "    for i, line in enumerate(f):\n",
        "          # process line i\n",
        "        print(line)\n"
      ],
      "metadata": {
        "id": "82lyPTNdI8Tw"
      },
      "execution_count": null,
      "outputs": []
    },
    {
      "cell_type": "code",
      "source": [
        "# 버퍼를 사용하여 작은 메모리 단위로 읽기\n",
        "fp = open( logFile, \"r\" )\n",
        "\n",
        "while 1 :\n",
        "    lines = fp.readlines(10000)  # bufer의 크기 지정\n",
        "    if not lines :\n",
        "        break\n",
        "    else :\n",
        "        for line in lines :\n",
        "            line = line.strip()\n",
        "            if len(line)==0 : continue\n",
        "            print(line)\n",
        "    fp.close()\n",
        "\n"
      ],
      "metadata": {
        "id": "lbQ0He1XI8mW"
      },
      "execution_count": null,
      "outputs": []
    }
  ]
}