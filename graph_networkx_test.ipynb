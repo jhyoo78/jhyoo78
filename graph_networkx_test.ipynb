{
  "nbformat": 4,
  "nbformat_minor": 0,
  "metadata": {
    "colab": {
      "private_outputs": true,
      "provenance": [],
      "authorship_tag": "ABX9TyMSMGuSoWh7zd3+tk8aYarS",
      "include_colab_link": true
    },
    "kernelspec": {
      "name": "python3",
      "display_name": "Python 3"
    },
    "language_info": {
      "name": "python"
    }
  },
  "cells": [
    {
      "cell_type": "markdown",
      "metadata": {
        "id": "view-in-github",
        "colab_type": "text"
      },
      "source": [
        "<a href=\"https://colab.research.google.com/github/jhyoo78/jhyoo78/blob/main/graph_networkx_test.ipynb\" target=\"_parent\"><img src=\"https://colab.research.google.com/assets/colab-badge.svg\" alt=\"Open In Colab\"/></a>"
      ]
    },
    {
      "cell_type": "code",
      "execution_count": null,
      "metadata": {
        "id": "P2WTSQ4EZVcJ"
      },
      "outputs": [],
      "source": [
        "import numpy as np\n",
        "import pandas as pd\n",
        "import re\n",
        "import networkx as nx              # 그래프 그리기\n",
        "import matplotlib.pyplot as plt"
      ]
    },
    {
      "cell_type": "code",
      "source": [
        "graph = nx.Graph()\n",
        "graph.add_nodes_from((1,2,3,4,5))\n",
        "graph.add_edges_from([(1,2), (1,3),(1,4),(3,5)])\n",
        "\n",
        "nx.draw(graph)\n",
        "plt.show()\n",
        "plt.savefig(\"networkGraph.png\")     # 그래프를 파일로 저장하기\n",
        "nx.draw_circular(graph)\n",
        "nx.draw_spectral(graph)"
      ],
      "metadata": {
        "id": "Q7ZiB39PZZ0S"
      },
      "execution_count": null,
      "outputs": []
    },
    {
      "cell_type": "code",
      "source": [
        "MG = nx.MultiGraph()\n",
        "MG.add_edges_from([\n",
        "    (0, 1, {'type':'car'}), (1, 0, {'type':'bus'})])\n",
        "\n",
        "print(\"== MG.edges() =====\")\n",
        "for e in MG.edges(data=True):\n",
        "    print(e)\n",
        "print(\"==\"*20)\n",
        "nx.draw(MG)\n",
        "plt.show()"
      ],
      "metadata": {
        "id": "scqIPnZEZZ-Y"
      },
      "execution_count": null,
      "outputs": []
    }
  ]
}