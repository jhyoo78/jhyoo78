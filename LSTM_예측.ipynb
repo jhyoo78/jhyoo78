{
  "nbformat": 4,
  "nbformat_minor": 0,
  "metadata": {
    "colab": {
      "provenance": [],
      "authorship_tag": "ABX9TyPmNzeyoMW9Mtej54ZCHEq7",
      "include_colab_link": true
    },
    "kernelspec": {
      "name": "python3",
      "display_name": "Python 3"
    },
    "language_info": {
      "name": "python"
    },
    "gpuClass": "standard"
  },
  "cells": [
    {
      "cell_type": "markdown",
      "metadata": {
        "id": "view-in-github",
        "colab_type": "text"
      },
      "source": [
        "<a href=\"https://colab.research.google.com/github/jhyoo78/jhyoo78/blob/main/LSTM_%EC%98%88%EC%B8%A1.ipynb\" target=\"_parent\"><img src=\"https://colab.research.google.com/assets/colab-badge.svg\" alt=\"Open In Colab\"/></a>"
      ]
    },
    {
      "cell_type": "code",
      "execution_count": null,
      "metadata": {
        "id": "i5fujKyjUPaG",
        "colab": {
          "base_uri": "https://localhost:8080/",
          "height": 283
        },
        "outputId": "4700368c-1fc5-4ee5-ad0b-41fd0a4f1957"
      },
      "outputs": [
        {
          "output_type": "execute_result",
          "data": {
            "text/plain": [
              "[<matplotlib.lines.Line2D at 0x7fdc8590cd50>]"
            ]
          },
          "metadata": {},
          "execution_count": 1
        },
        {
          "output_type": "display_data",
          "data": {
            "text/plain": [
              "<Figure size 432x288 with 1 Axes>"
            ],
            "image/png": "[encoded data removed]"
          },
          "metadata": {
            "needs_background": "light"
          }
        }
      ],
      "source": [
        "# 참고 블로그  https://tykimos.github.io/2017/09/09/Time-series_Numerical_Input_Numerical_Prediction_Model_Recipe/\n",
        "\n",
        "import numpy as np\n",
        "import keras\n",
        "from keras.models import Sequential\n",
        "from keras.layers import Dense, LSTM, Dropout\n",
        "from sklearn.preprocessing import MinMaxScaler\n",
        "import matplotlib.pyplot as plt\n",
        "%matplotlib inline\n",
        "# 1. 데이터셋 생성하기\n",
        "signal_data = np.cos(np.arange(1000)*(20*np.pi/1000))[:,None] # np.cos(radian), 180 ==pi radian,\n",
        "   # np.arange 사용법--> numpy.arange([start, ] stop, [step, ] dtype=None), step을 지정하지 않으면 1 단위로, start를 지정하지 않으면 0 부터...\n",
        "   #[:, None]은 array에 차원을 하나 추가하라는 명령임. 예를 들어 [1,2,3]을 [[1], [2], [3]] 으로 바꾸어줌. numpy.newaxis를 참고하라.\n",
        "plt.plot(np.arange(1000), signal_data) # 생성한 데이터 시각화,\n",
        "# plt.plot(x,y), x,y는 list 여야 함\n",
        "\n",
        "#print(np.cos(np.arange(1000)*(20*np.pi/1000)))\n",
        "#plt.plot([1,555,777,888,900],[10, 12, 55, 23, 66])"
      ]
    },
    {
      "cell_type": "code",
      "source": [
        "print(np.arange(100))\n",
        "sig_data = np.cos(np.arange(1000)*(20*np.pi/1000))[:,None]"
      ],
      "metadata": {
        "colab": {
          "base_uri": "https://localhost:8080/"
        },
        "id": "44XZecNNUDjP",
        "outputId": "a7b62e0f-b191-4e4a-f1ad-f6eecddea0b3"
      },
      "execution_count": null,
      "outputs": [
        {
          "output_type": "stream",
          "name": "stdout",
          "text": [
            "[ 0  1  2  3  4  5  6  7  8  9 10 11 12 13 14 15 16 17 18 19 20 21 22 23\n",
            " 24 25 26 27 28 29 30 31 32 33 34 35 36 37 38 39 40 41 42 43 44 45 46 47\n",
            " 48 49 50 51 52 53 54 55 56 57 58 59 60 61 62 63 64 65 66 67 68 69 70 71\n",
            " 72 73 74 75 76 77 78 79 80 81 82 83 84 85 86 87 88 89 90 91 92 93 94 95\n",
            " 96 97 98 99]\n"
          ]
        }
      ]
    },
    {
      "cell_type": "code",
      "source": [
        "# 데이터를 모델로 학습시키기 위해서 전처리가 필요\n",
        "\n",
        "def create_dataset(signal_data, look_back=1):\n",
        "    dataX, dataY = [], []\n",
        "    for i in range(len(signal_data)-look_back):        # look_back은 예측에 사용할 이전 데이터의 수,    signal_data가 train인 경우 700 - 40 = 660개\n",
        "        dataX.append(signal_data[i:(i+look_back), 0])  # signal_data --> [[1.0], [0.999],... ] 등의 2차원 list\n",
        "                                                       # signal_data[:, 0]은 위 모든 행에서 첫번째 열의 정보를 가져오라는 뜻 --> https://coo-coo2021.tistory.com/170\n",
        "                                                       # dataX --> [[1.0. 0.999, ....]]로 40개의 데이터로 구성된 list를\n",
        "                                                       # 하나씩 우측으로 옮기며 40개 씩 append [[40개], [40개]...]\n",
        "        dataY.append(signal_data[i + look_back, 0])    # dataY --> 41번째 데이터 한개씩 추가 --> [0.09549, 0.07783...]\n",
        "        #print(\"dataX=\", dataX)\n",
        "        #print(\"dataY=\", dataY)\n",
        "    return np.array(dataX), np.array(dataY)\n",
        "\n",
        "class CustomHistory(keras.callbacks.Callback):\n",
        "    def init(self):\n",
        "        self.train_loss = []       # 객체 호출 시에 리스트 초기화\n",
        "        self.val_loss = []\n",
        "\n",
        "    def on_epoch_end(self, batch, logs={}):   # callback 함수의 logs는 dict를 사용함\n",
        "        self.train_loss.append(logs.get('loss'))\n",
        "        self.val_loss.append(logs.get('val_loss'))\n",
        "\n",
        "look_back = 40\n",
        "\n",
        "# 데이터 전처리\n",
        "scaler = MinMaxScaler(feature_range=(0, 1))  # cosine 값 -1 ~ 1.0 을 ==>  0.0 ~ 1.0으로 변환\n",
        "signal_data = scaler.fit_transform(signal_data)\n",
        "#print(signal_data)\n",
        "\n",
        "# 데이터 분리\n",
        "train = signal_data[0:700]\n",
        "val = signal_data[600:700]\n",
        "test = signal_data[700:]\n",
        "\n",
        "# 데이터셋 생성\n",
        "x_train, y_train = create_dataset(train, look_back)\n",
        "#print(\"x_train=\", x_train) --> 660개 x 40개의  2차원 리스트 출력\n",
        "#print(\"y_train=\", y_train) --> 660개 데이터의 1차원 리스트 출력\n",
        "x_val, y_val = create_dataset(val, look_back)\n",
        "x_test, y_test = create_dataset(test, look_back)\n",
        "\n",
        "# 데이터셋 전처리\n",
        "x_train = np.reshape(x_train, (x_train.shape[0], x_train.shape[1], 1))\n",
        "x_val = np.reshape(x_val, (x_val.shape[0], x_val.shape[1], 1))\n",
        "x_test = np.reshape(x_test, (x_test.shape[0], x_test.shape[1], 1))\n",
        "print(x_test)"
      ],
      "metadata": {
        "id": "5-t5l9oiUgGt"
      },
      "execution_count": null,
      "outputs": []
    },
    {
      "cell_type": "code",
      "source": [
        "# 2. 모델 구성하기\n",
        "model = Sequential()\n",
        "#for i in range(2):\n",
        "#    model.add(LSTM(32, batch_input_shape=(1, look_back, 1), stateful=True,\n",
        "#                   return_sequences=True))\n",
        "#    model.add(Dropout(0.3))\n",
        "model.add(LSTM(32, batch_input_shape=(1, look_back, 1), stateful=True))\n",
        "model.add(Dropout(0.3))\n",
        "model.add(Dense(1))\n",
        "\n",
        "# 3. 모델 학습과정 설정하기\n",
        "model.compile(loss='mean_squared_error', optimizer='adam')\n",
        "\n",
        "# 4. 모델 학습시키기\n",
        "custom_hist = CustomHistory()\n",
        "custom_hist.init()\n",
        "\n",
        "for i in range(50):\n",
        "    model.fit(x_train, y_train, epochs=1, batch_size=1, shuffle=False,\n",
        "              callbacks=[custom_hist], validation_data=(x_val, y_val), verbose= 0)\n",
        "    model.reset_states()\n"
      ],
      "metadata": {
        "id": "IWVQdzh5UoIv"
      },
      "execution_count": null,
      "outputs": []
    },
    {
      "cell_type": "code",
      "source": [
        "# 5. 학습과정 살펴보기\n",
        "plt.plot(custom_hist.train_loss)\n",
        "plt.plot(custom_hist.val_loss)\n",
        "plt.ylim(0.0, 0.15)\n",
        "plt.ylabel('loss')\n",
        "plt.xlabel('epoch')\n",
        "plt.legend(['train', 'val'])\n",
        "plt.show()\n"
      ],
      "metadata": {
        "id": "cqklXFx8Uqj4"
      },
      "execution_count": null,
      "outputs": []
    },
    {
      "cell_type": "code",
      "source": [
        "# 6. 모델 평가하기\n",
        "trainScore = model.evaluate(x_train, y_train, batch_size=1, verbose=0)\n",
        "model.reset_states()\n",
        "print('Train Score: ', trainScore)\n",
        "valScore = model.evaluate(x_val, y_val, batch_size=1, verbose=0)\n",
        "model.reset_states()\n",
        "print('Validataion Score: ', valScore)\n",
        "testScore = model.evaluate(x_test, y_test, batch_size=1, verbose=0)\n",
        "model.reset_states()\n",
        "print('Test Score: ', testScore)"
      ],
      "metadata": {
        "id": "4KWT7ytYWZ-8"
      },
      "execution_count": null,
      "outputs": []
    },
    {
      "cell_type": "code",
      "source": [
        "# 7. 모델 사용하기\n",
        "look_ahead = 260\n",
        "xhat = x_test[0]    # 40개의 2차원 데이터 --> [[1.0], [0.99901336], [0.99605735]...]\n",
        "print(\"xhat_org=\", x_test[0])\n",
        "\n",
        "predictions = np.zeros((look_ahead,1))  # --> [[0.], [0.]...],  260개의 2차원 리스트\n",
        "\n",
        "for i in range(look_ahead):\n",
        "    prediction = model.predict(np.array([xhat]), batch_size=1)   #predict() : 임의의 입력(xhat)에 대한 모델의 출력값을 확인한다.\n",
        "    predictions[i] = prediction\n",
        "    xhat = np.vstack([xhat[1:],prediction]) # np.vstack(a, b) 배열 a와 b를 수직으로 결합하여 출력,\n",
        "                                            # x_test[0]의 데이터는 초기 39개부터 하나씩 줄고 prediction 데이터가 하나씩 추가됨\n",
        "   #print(\"xhat=\", xhat)\n",
        "plt.figure(figsize=(12,5))\n",
        "plt.plot(np.arange(look_ahead),predictions,'r',label=\"prediction\")\n",
        "plt.plot(np.arange(look_ahead),y_test[:look_ahead],label=\"test function\")\n",
        "plt.legend()\n",
        "plt.show()\n"
      ],
      "metadata": {
        "id": "jZ1mOp1aWfLU"
      },
      "execution_count": null,
      "outputs": []
    },
    {
      "cell_type": "code",
      "source": [],
      "metadata": {
        "id": "WywCqurmWfXG"
      },
      "execution_count": null,
      "outputs": []
    }
  ]
}