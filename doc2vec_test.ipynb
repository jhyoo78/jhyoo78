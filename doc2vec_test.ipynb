{
  "nbformat": 4,
  "nbformat_minor": 0,
  "metadata": {
    "colab": {
      "private_outputs": true,
      "provenance": [],
      "authorship_tag": "ABX9TyNexYYK/KxFcoDLhf3duzEV",
      "include_colab_link": true
    },
    "kernelspec": {
      "name": "python3",
      "display_name": "Python 3"
    },
    "language_info": {
      "name": "python"
    }
  },
  "cells": [
    {
      "cell_type": "markdown",
      "metadata": {
        "id": "view-in-github",
        "colab_type": "text"
      },
      "source": [
        "<a href=\"https://colab.research.google.com/github/jhyoo78/jhyoo78/blob/main/doc2vec_test.ipynb\" target=\"_parent\"><img src=\"https://colab.research.google.com/assets/colab-badge.svg\" alt=\"Open In Colab\"/></a>"
      ]
    },
    {
      "cell_type": "code",
      "execution_count": null,
      "metadata": {
        "id": "jKkRSmcm0iyR"
      },
      "outputs": [],
      "source": [
        "#-*- coding: utf-8 -*-\n",
        "from gensim.models import doc2vec    # gensim 패키지의 doc2vec을 사용함\n",
        "import sys\n",
        "import multiprocessing\n",
        "\n",
        "#doc2vec parameters\n",
        "\n",
        "vector_size = 300\n",
        "window_size = 15\n",
        "word_min_count = 2\n",
        "sampling_threshold = 1e-5\n",
        "negative_size = 5\n",
        "train_epoch = 100\n",
        "dm = 1 #0 = dbow; 1 = dmpv\n",
        "worker_count = 4\n",
        "\n",
        "print(len(sys.argv))\n",
        "\n",
        "if len(sys.argv) >= 3:\n",
        "\tinputfile = sys.argv[1]\n",
        "\tmodelfile = sys.argv[2]\n",
        "\n",
        "#else:\n",
        "#\tinputfile = \"./data/sample.txt\"\n",
        "#\tmodelfile = \"./model/doc2vec.model\"\n",
        "\n",
        "#word2vec_file = modelfile + \".word2vec_format\"\n",
        "\n",
        "sentences=doc2vec.TaggedLineDocument(inputfile)\n",
        "\n",
        "doc_vectorizer = doc2vec.Doc2Vec(min_count=word_min_count, size=vector_size, alpha=0.025, min_alpha=0.025, seed=1234, workers=worker_count)\n",
        "doc_vectorizer.build_vocab(sentences)\n",
        "\n",
        "# Train document vectors!\n",
        "\n",
        "for epoch in range(10):\n",
        "\tdoc_vectorizer.train(sentences)\n",
        "\tdoc_vectorizer.alpha -= 0.002 # decrease the learning rate\n",
        "\tdoc_vectorizer.min_alpha = doc_vectorizer.alpha # fix the learning rate, no decay\n"
      ]
    },
    {
      "cell_type": "code",
      "source": [
        "import gensim\n",
        "import sys\n",
        "\n",
        "model = gensim.models.Doc2Vec.load(\"/home/wiki/stock/model/wiki_pos_tokenizer_without_taginfo.model\")\n",
        "\n",
        "\n",
        "print(model.most_similar(u'정조', topn=20))"
      ],
      "metadata": {
        "id": "ILitrj3f02Kg"
      },
      "execution_count": null,
      "outputs": []
    }
  ]
}