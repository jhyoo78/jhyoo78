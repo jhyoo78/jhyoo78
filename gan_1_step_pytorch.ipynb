{
  "nbformat": 4,
  "nbformat_minor": 0,
  "metadata": {
    "colab": {
      "provenance": [],
      "authorship_tag": "ABX9TyOu9/oYcJ9a8oizFXuWrcIM",
      "include_colab_link": true
    },
    "kernelspec": {
      "name": "python3",
      "display_name": "Python 3"
    },
    "language_info": {
      "name": "python"
    },
    "gpuClass": "standard"
  },
  "cells": [
    {
      "cell_type": "markdown",
      "metadata": {
        "id": "view-in-github",
        "colab_type": "text"
      },
      "source": [
        "<a href=\"https://colab.research.google.com/github/jhyoo78/jhyoo78/blob/main/gan_1_step_pytorch.ipynb\" target=\"_parent\"><img src=\"https://colab.research.google.com/assets/colab-badge.svg\" alt=\"Open In Colab\"/></a>"
      ]
    },
    {
      "cell_type": "markdown",
      "source": [],
      "metadata": {
        "id": "g1AzkQD_1jvS"
      }
    },
    {
      "cell_type": "code",
      "source": [
        "!cat /proc/meminfo       # !는 Jupyter의  내부 shell command 를 실행할 때 사용함"
      ],
      "metadata": {
        "id": "y9bkY0iz1wGl"
      },
      "execution_count": null,
      "outputs": []
    },
    {
      "cell_type": "code",
      "source": [
        "!nvidia-smi   #  ! 는 jupyter  내부 shell 명령을 실행할 때 사용"
      ],
      "metadata": {
        "id": "6gxzLy-v3e0u",
        "colab": {
          "base_uri": "https://localhost:8080/"
        },
        "outputId": "8e21591b-dadb-4d19-9f29-ab51dce28aad"
      },
      "execution_count": null,
      "outputs": [
        {
          "output_type": "stream",
          "name": "stdout",
          "text": [
            "NVIDIA-SMI has failed because it couldn't communicate with the NVIDIA driver. Make sure that the latest NVIDIA driver is installed and running.\n",
            "\n"
          ]
        }
      ]
    },
    {
      "cell_type": "code",
      "source": [
        "x=3.5\n",
        "y=x*x+2\n",
        "print(x,y)"
      ],
      "metadata": {
        "id": "04i1guwrN0Kl",
        "colab": {
          "base_uri": "https://localhost:8080/"
        },
        "outputId": "a9b157da-3afb-471a-b256-c1cd1f64634e"
      },
      "execution_count": null,
      "outputs": [
        {
          "output_type": "stream",
          "name": "stdout",
          "text": [
            "3.5 14.25\n"
          ]
        }
      ]
    },
    {
      "cell_type": "code",
      "source": [
        "import torch\n",
        "x=torch.tensor(3.5)\n",
        "print(x)\n",
        "y=x+3\n",
        "print(y)"
      ],
      "metadata": {
        "id": "XuDWfxicOMNv",
        "colab": {
          "base_uri": "https://localhost:8080/"
        },
        "outputId": "6f9617d7-dfcf-4ad6-f737-71ce1066bea2"
      },
      "execution_count": null,
      "outputs": [
        {
          "output_type": "stream",
          "name": "stdout",
          "text": [
            "tensor(3.5000)\n",
            "tensor(6.5000)\n"
          ]
        }
      ]
    },
    {
      "cell_type": "code",
      "source": [
        "import torch\n",
        "x=torch.tensor(3.5, requires_grad=True)  # requires_grad=True 는 x에 대한 기울기 계산을 하도록 설정한 것임.\n",
        "y=(x-1) * (x-2) * (x-3)       # Pytorch를 사용하면 y가 x로부터 생성된 것을 기억한다.\n",
        "print(\"y=\", y)\n",
        "y.backward()    #  함수 y를 미분하여 그 결과(기울기 값의 list)를 tensor x에 저장해둔다.\n",
        "x.grad          #  그 중에서 x 값==3.5에 해당하는 기울기 값을 출력한다."
      ],
      "metadata": {
        "id": "-ABQUpvJOzaX",
        "colab": {
          "base_uri": "https://localhost:8080/"
        },
        "outputId": "e816dbf6-fffd-4a24-d82a-f662eeadf3a3"
      },
      "execution_count": null,
      "outputs": [
        {
          "output_type": "stream",
          "name": "stdout",
          "text": [
            "y= tensor(1.8750, grad_fn=<MulBackward0>)\n"
          ]
        },
        {
          "output_type": "execute_result",
          "data": {
            "text/plain": [
              "tensor(5.7500)"
            ]
          },
          "metadata": {},
          "execution_count": 4
        }
      ]
    },
    {
      "cell_type": "code",
      "source": [
        "# mount Drive to access data files\n",
        "from google.colab import drive\n",
        "drive.mount('./mount')    # 실행하면 '노트북에서 Google Drive 파일에 액세스하도록 허용하시겠습니까?' 라는 질문이 나온다. 동의하면 됨\n",
        "# 위 명령에 동의하고 완료되면 Mounted at ./mount 가 출력됨."
      ],
      "metadata": {
        "id": "rCCajTexD7Vw",
        "colab": {
          "base_uri": "https://localhost:8080/"
        },
        "outputId": "ef1dccca-2ab3-478e-9a2e-ab858d6d34c1"
      },
      "execution_count": null,
      "outputs": [
        {
          "output_type": "stream",
          "name": "stdout",
          "text": [
            "Mounted at ./mount\n"
          ]
        }
      ]
    },
    {
      "cell_type": "code",
      "source": [
        "# import pandas to read csv files\n",
        "import pandas\n",
        "\n",
        "# import matplotlib to show images\n",
        "import matplotlib.pyplot as plt\n",
        "\n",
        "#import CSV file\n",
        "df = pandas.read_csv('mount/My Drive/Colab Notebooks/myo_gan/mnist_data/mnist_train.csv', header=None)  # 구글 드라이브에 미리 폴더를 만들고 파일을 다운 받아두었음.\n",
        "df.head()   # 처음 5개 행을 출력한다.\n",
        "\n",
        "# 각 행의 첫 수자는 이미지의 숫자이며, 나머지 784 = 28 x 28 pixel의 갑이다."
      ],
      "metadata": {
        "id": "EuJ1pIYCiH8p",
        "colab": {
          "base_uri": "https://localhost:8080/",
          "height": 236
        },
        "outputId": "48aad982-012f-4553-d84f-c11396aaa36f"
      },
      "execution_count": null,
      "outputs": [
        {
          "output_type": "execute_result",
          "data": {
            "text/plain": [
              "   0    1    2    3    4    5    6    7    8    9    ...  775  776  777  778  \\\n",
              "0    5    0    0    0    0    0    0    0    0    0  ...    0    0    0    0   \n",
              "1    0    0    0    0    0    0    0    0    0    0  ...    0    0    0    0   \n",
              "2    4    0    0    0    0    0    0    0    0    0  ...    0    0    0    0   \n",
              "3    1    0    0    0    0    0    0    0    0    0  ...    0    0    0    0   \n",
              "4    9    0    0    0    0    0    0    0    0    0  ...    0    0    0    0   \n",
              "\n",
              "   779  780  781  782  783  784  \n",
              "0    0    0    0    0    0    0  \n",
              "1    0    0    0    0    0    0  \n",
              "2    0    0    0    0    0    0  \n",
              "3    0    0    0    0    0    0  \n",
              "4    0    0    0    0    0    0  \n",
              "\n",
              "[5 rows x 785 columns]"
            ],
            "text/html": [
              "\n",
              "  <div id=\"df-0c76539f-f1b3-4da5-b886-f1cec9d5db10\">\n",
              "    <div class=\"colab-df-container\">\n",
              "      <div>\n",
              "<style scoped>\n",
              "    .dataframe tbody tr th:only-of-type {\n",
              "        vertical-align: middle;\n",
              "    }\n",
              "\n",
              "    .dataframe tbody tr th {\n",
              "        vertical-align: top;\n",
              "    }\n",
              "\n",
              "    .dataframe thead th {\n",
              "        text-align: right;\n",
              "    }\n",
              "</style>\n",
              "<table border=\"1\" class=\"dataframe\">\n",
              "  <thead>\n",
              "    <tr style=\"text-align: right;\">\n",
              "      <th></th>\n",
              "      <th>0</th>\n",
              "      <th>1</th>\n",
              "      <th>2</th>\n",
              "      <th>3</th>\n",
              "      <th>4</th>\n",
              "      <th>5</th>\n",
              "      <th>6</th>\n",
              "      <th>7</th>\n",
              "      <th>8</th>\n",
              "      <th>9</th>\n",
              "      <th>...</th>\n",
              "      <th>775</th>\n",
              "      <th>776</th>\n",
              "      <th>777</th>\n",
              "      <th>778</th>\n",
              "      <th>779</th>\n",
              "      <th>780</th>\n",
              "      <th>781</th>\n",
              "      <th>782</th>\n",
              "      <th>783</th>\n",
              "      <th>784</th>\n",
              "    </tr>\n",
              "  </thead>\n",
              "  <tbody>\n",
              "    <tr>\n",
              "      <th>0</th>\n",
              "      <td>5</td>\n",
              "      <td>0</td>\n",
              "      <td>0</td>\n",
              "      <td>0</td>\n",
              "      <td>0</td>\n",
              "      <td>0</td>\n",
              "      <td>0</td>\n",
              "      <td>0</td>\n",
              "      <td>0</td>\n",
              "      <td>0</td>\n",
              "      <td>...</td>\n",
              "      <td>0</td>\n",
              "      <td>0</td>\n",
              "      <td>0</td>\n",
              "      <td>0</td>\n",
              "      <td>0</td>\n",
              "      <td>0</td>\n",
              "      <td>0</td>\n",
              "      <td>0</td>\n",
              "      <td>0</td>\n",
              "      <td>0</td>\n",
              "    </tr>\n",
              "    <tr>\n",
              "      <th>1</th>\n",
              "      <td>0</td>\n",
              "      <td>0</td>\n",
              "      <td>0</td>\n",
              "      <td>0</td>\n",
              "      <td>0</td>\n",
              "      <td>0</td>\n",
              "      <td>0</td>\n",
              "      <td>0</td>\n",
              "      <td>0</td>\n",
              "      <td>0</td>\n",
              "      <td>...</td>\n",
              "      <td>0</td>\n",
              "      <td>0</td>\n",
              "      <td>0</td>\n",
              "      <td>0</td>\n",
              "      <td>0</td>\n",
              "      <td>0</td>\n",
              "      <td>0</td>\n",
              "      <td>0</td>\n",
              "      <td>0</td>\n",
              "      <td>0</td>\n",
              "    </tr>\n",
              "    <tr>\n",
              "      <th>2</th>\n",
              "      <td>4</td>\n",
              "      <td>0</td>\n",
              "      <td>0</td>\n",
              "      <td>0</td>\n",
              "      <td>0</td>\n",
              "      <td>0</td>\n",
              "      <td>0</td>\n",
              "      <td>0</td>\n",
              "      <td>0</td>\n",
              "      <td>0</td>\n",
              "      <td>...</td>\n",
              "      <td>0</td>\n",
              "      <td>0</td>\n",
              "      <td>0</td>\n",
              "      <td>0</td>\n",
              "      <td>0</td>\n",
              "      <td>0</td>\n",
              "      <td>0</td>\n",
              "      <td>0</td>\n",
              "      <td>0</td>\n",
              "      <td>0</td>\n",
              "    </tr>\n",
              "    <tr>\n",
              "      <th>3</th>\n",
              "      <td>1</td>\n",
              "      <td>0</td>\n",
              "      <td>0</td>\n",
              "      <td>0</td>\n",
              "      <td>0</td>\n",
              "      <td>0</td>\n",
              "      <td>0</td>\n",
              "      <td>0</td>\n",
              "      <td>0</td>\n",
              "      <td>0</td>\n",
              "      <td>...</td>\n",
              "      <td>0</td>\n",
              "      <td>0</td>\n",
              "      <td>0</td>\n",
              "      <td>0</td>\n",
              "      <td>0</td>\n",
              "      <td>0</td>\n",
              "      <td>0</td>\n",
              "      <td>0</td>\n",
              "      <td>0</td>\n",
              "      <td>0</td>\n",
              "    </tr>\n",
              "    <tr>\n",
              "      <th>4</th>\n",
              "      <td>9</td>\n",
              "      <td>0</td>\n",
              "      <td>0</td>\n",
              "      <td>0</td>\n",
              "      <td>0</td>\n",
              "      <td>0</td>\n",
              "      <td>0</td>\n",
              "      <td>0</td>\n",
              "      <td>0</td>\n",
              "      <td>0</td>\n",
              "      <td>...</td>\n",
              "      <td>0</td>\n",
              "      <td>0</td>\n",
              "      <td>0</td>\n",
              "      <td>0</td>\n",
              "      <td>0</td>\n",
              "      <td>0</td>\n",
              "      <td>0</td>\n",
              "      <td>0</td>\n",
              "      <td>0</td>\n",
              "      <td>0</td>\n",
              "    </tr>\n",
              "  </tbody>\n",
              "</table>\n",
              "<p>5 rows × 785 columns</p>\n",
              "</div>\n",
              "      <button class=\"colab-df-convert\" onclick=\"convertToInteractive('df-0c76539f-f1b3-4da5-b886-f1cec9d5db10')\"\n",
              "              title=\"Convert this dataframe to an interactive table.\"\n",
              "              style=\"display:none;\">\n",
              "        \n",
              "  <svg xmlns=\"http://www.w3.org/2000/svg\" height=\"24px\"viewBox=\"0 0 24 24\"\n",
              "       width=\"24px\">\n",
              "    <path d=\"M0 0h24v24H0V0z\" fill=\"none\"/>\n",
              "    <path d=\"M18.56 5.44l.94 2.06.94-2.06 2.06-.94-2.06-.94-.94-2.06-.94 2.06-2.06.94zm-11 1L8.5 8.5l.94-2.06 2.06-.94-2.06-.94L8.5 2.5l-.94 2.06-2.06.94zm10 10l.94 2.06.94-2.06 2.06-.94-2.06-.94-.94-2.06-.94 2.06-2.06.94z\"/><path d=\"M17.41 7.96l-1.37-1.37c-.4-.4-.92-.59-1.43-.59-.52 0-1.04.2-1.43.59L10.3 9.45l-7.72 7.72c-.78.78-.78 2.05 0 2.83L4 21.41c.39.39.9.59 1.41.59.51 0 1.02-.2 1.41-.59l7.78-7.78 2.81-2.81c.8-.78.8-2.07 0-2.86zM5.41 20L4 18.59l7.72-7.72 1.47 1.35L5.41 20z\"/>\n",
              "  </svg>\n",
              "      </button>\n",
              "      \n",
              "  <style>\n",
              "    .colab-df-container {\n",
              "      display:flex;\n",
              "      flex-wrap:wrap;\n",
              "      gap: 12px;\n",
              "    }\n",
              "\n",
              "    .colab-df-convert {\n",
              "      background-color: #E8F0FE;\n",
              "      border: none;\n",
              "      border-radius: 50%;\n",
              "      cursor: pointer;\n",
              "      display: none;\n",
              "      fill: #1967D2;\n",
              "      height: 32px;\n",
              "      padding: 0 0 0 0;\n",
              "      width: 32px;\n",
              "    }\n",
              "\n",
              "    .colab-df-convert:hover {\n",
              "      background-color: #E2EBFA;\n",
              "      box-shadow: 0px 1px 2px rgba(60, 64, 67, 0.3), 0px 1px 3px 1px rgba(60, 64, 67, 0.15);\n",
              "      fill: #174EA6;\n",
              "    }\n",
              "\n",
              "    [theme=dark] .colab-df-convert {\n",
              "      background-color: #3B4455;\n",
              "      fill: #D2E3FC;\n",
              "    }\n",
              "\n",
              "    [theme=dark] .colab-df-convert:hover {\n",
              "      background-color: #434B5C;\n",
              "      box-shadow: 0px 1px 3px 1px rgba(0, 0, 0, 0.15);\n",
              "      filter: drop-shadow(0px 1px 2px rgba(0, 0, 0, 0.3));\n",
              "      fill: #FFFFFF;\n",
              "    }\n",
              "  </style>\n",
              "\n",
              "      <script>\n",
              "        const buttonEl =\n",
              "          document.querySelector('#df-0c76539f-f1b3-4da5-b886-f1cec9d5db10 button.colab-df-convert');\n",
              "        buttonEl.style.display =\n",
              "          google.colab.kernel.accessAllowed ? 'block' : 'none';\n",
              "\n",
              "        async function convertToInteractive(key) {\n",
              "          const element = document.querySelector('#df-0c76539f-f1b3-4da5-b886-f1cec9d5db10');\n",
              "          const dataTable =\n",
              "            await google.colab.kernel.invokeFunction('convertToInteractive',\n",
              "                                                     [key], {});\n",
              "          if (!dataTable) return;\n",
              "\n",
              "          const docLinkHtml = 'Like what you see? Visit the ' +\n",
              "            '<a target=\"_blank\" href=https://colab.research.google.com/notebooks/data_table.ipynb>data table notebook</a>'\n",
              "            + ' to learn more about interactive tables.';\n",
              "          element.innerHTML = '';\n",
              "          dataTable['output_type'] = 'display_data';\n",
              "          await google.colab.output.renderOutput(dataTable, element);\n",
              "          const docLink = document.createElement('div');\n",
              "          docLink.innerHTML = docLinkHtml;\n",
              "          element.appendChild(docLink);\n",
              "        }\n",
              "      </script>\n",
              "    </div>\n",
              "  </div>\n",
              "  "
            ]
          },
          "metadata": {},
          "execution_count": 6
        }
      ]
    },
    {
      "cell_type": "code",
      "source": [
        "# 데이터 프레임의 구조 확인\n",
        "df.info()"
      ],
      "metadata": {
        "colab": {
          "base_uri": "https://localhost:8080/"
        },
        "id": "8hq5Ad2otnjc",
        "outputId": "2267efda-9946-4682-acb7-03eb82cec531"
      },
      "execution_count": null,
      "outputs": [
        {
          "output_type": "stream",
          "name": "stdout",
          "text": [
            "<class 'pandas.core.frame.DataFrame'>\n",
            "RangeIndex: 60000 entries, 0 to 59999\n",
            "Columns: 785 entries, 0 to 784\n",
            "dtypes: int64(785)\n",
            "memory usage: 359.3 MB\n"
          ]
        }
      ]
    },
    {
      "cell_type": "code",
      "source": [
        "# get data from dataframe\n",
        "row =0\n",
        "data = df.iloc[row]   # interger location(행,열의 index)으로 df 읽기, loc은 이 밖에 행과 열의 이름으로 df를 읽을 때 사용\n",
        "\n",
        "# label is the first value\n",
        "label = data[0]\n",
        "\n",
        "# image data is the remaining 784 values\n",
        "img = data[1:].values.reshape(28,28)\n",
        "\n",
        "plt.title(\"label = \" + str(label))\n",
        "plt.imshow(img, interpolation='none', cmap='Blues')  # 출력 방법 지정\n",
        "plt.show()                                           # 출력 명령"
      ],
      "metadata": {
        "id": "_Zd4Gd0qk-lZ",
        "colab": {
          "base_uri": "https://localhost:8080/",
          "height": 281
        },
        "outputId": "e74414dc-b956-4b4d-ec63-4346ecd7cf31"
      },
      "execution_count": null,
      "outputs": [
        {
          "output_type": "display_data",
          "data": {
            "text/plain": [
              "<Figure size 432x288 with 1 Axes>"
            ],
            "image/png": "[encoded data removed]"
          },
          "metadata": {
            "needs_background": "light"
          }
        }
      ]
    },
    {
      "cell_type": "code",
      "source": [
        "# 소스코드 참고-->  https://github.com/makeyourownneuralnetwork/gan/blob/master/03_mnist_classifier.ipynb\n",
        "\n",
        "import torch\n",
        "import torch.nn as nn\n",
        "from torch.utils.data import Dataset\n",
        "import pandas\n",
        "import matplotlib.pyplot as plt"
      ],
      "metadata": {
        "id": "w15nlTvScZb1"
      },
      "execution_count": null,
      "outputs": []
    },
    {
      "cell_type": "code",
      "source": [
        "# mount Drive to access data files\n",
        "from google.colab import drive\n",
        "drive.mount('./mount')    # 실행하면 '노트북에서 Google Drive 파일에 액세스하도록 허용하시겠습니까?' 라는 질문이 나온다. 동의하면 됨\n",
        "# 위 명령에 동의하고 완료되면 Mounted at ./mount 가 출력됨."
      ],
      "metadata": {
        "colab": {
          "base_uri": "https://localhost:8080/"
        },
        "id": "D4x2cowx4KnE",
        "outputId": "60df2cff-636c-47ed-bdc5-5913dd61622b"
      },
      "execution_count": null,
      "outputs": [
        {
          "output_type": "stream",
          "name": "stdout",
          "text": [
            "Drive already mounted at ./mount; to attempt to forcibly remount, call drive.mount(\"./mount\", force_remount=True).\n"
          ]
        }
      ]
    },
    {
      "cell_type": "code",
      "source": [
        "# dataset class\n",
        "\n",
        "class MnistDataset(Dataset):\n",
        "\n",
        "    def __init__(self, csv_file):\n",
        "        self.data_df = pandas.read_csv(csv_file, header=None)\n",
        "        pass\n",
        "\n",
        "    def __len__(self):             # 데이터셋의 크기를 반환\n",
        "        return len(self.data_df)\n",
        "\n",
        "    def __getitem__(self, index):\n",
        "        # image target (label)\n",
        "        label = self.data_df.iloc[index,0]  # 데이터셋 중 n째(index로 지정함) 아이템으로부터 label을 추출하여 저장\n",
        "        target = torch.zeros((10))          # 출력을 담을 텐서를 targer이라는 이름으로 생성하고 0으로 초기화 --> [0, 0, . . . 0]\n",
        "        target[label] = 1.0                 #  텐서를 one-hot encoding으로 변환 --> 예: 정답이 4이면 [0, 0, 0, 0, 1, 0, 0, 0, 0, 0]\n",
        "\n",
        "        # image data, normalised from 0-255 to 0-1, 0~255의 이미지를 0~1로 정규화함\n",
        "        image_values = torch.FloatTensor(self.data_df.iloc[index,1:].values) / 255.0\n",
        "\n",
        "        # return label, image data tensor and target tensor\n",
        "        return label, image_values, target\n",
        "\n",
        "    def plot_image(self, index):\n",
        "        img = self.data_df.iloc[index,1:].values.reshape(28,28)\n",
        "        plt.title(\"label = \" + str(self.data_df.iloc[index,0]))\n",
        "        plt.imshow(img, interpolation='none', cmap='Blues')\n",
        "        pass\n",
        "\n",
        "    pass"
      ],
      "metadata": {
        "id": "B_xPMN8vce5F"
      },
      "execution_count": null,
      "outputs": []
    },
    {
      "cell_type": "code",
      "source": [
        "mnist_dataset = MnistDataset('mount/My Drive/Colab Notebooks/myo_gan/mnist_data/mnist_train.csv')\n",
        "\n",
        "# 데이터가 이미지인지 검사해본다.\n",
        "mnist_dataset.plot_image(9)"
      ],
      "metadata": {
        "colab": {
          "base_uri": "https://localhost:8080/",
          "height": 281
        },
        "id": "MCj-CZWYclJx",
        "outputId": "ad69f02b-03a2-45a9-f0bb-85804d4f4f63"
      },
      "execution_count": null,
      "outputs": [
        {
          "output_type": "display_data",
          "data": {
            "text/plain": [
              "<Figure size 432x288 with 1 Axes>"
            ],
            "image/png": "[encoded data removed]"
          },
          "metadata": {
            "needs_background": "light"
          }
        }
      ]
    },
    {
      "cell_type": "code",
      "source": [
        "\n",
        "class Classifier(nn.Module):\n",
        "    def __init__(self):        # 생성자_객체 초기화\n",
        "        super().__init__()     # 생성자로 부모 클래스 생성자를 사용하기로 한다.\n",
        "\n",
        "         # 신경망 계층 정의\n",
        "        self.model=nn.Sequential(\n",
        "            nn.Linear(784, 200),\n",
        "            nn.Sigmoid(),          # 활성화 함수\n",
        "            nn.Linear(200, 10),\n",
        "            nn.Sigmoid()\n",
        "        )\n",
        "        # 손실함수\n",
        "        self.loss_function = nn.MSELoss()\n",
        "\n",
        "        # 단순한 Optimiser 설정: Stochastic Gradient Descendent\n",
        "        self.optimiser = torch.optim.SGD(self.parameters(), lr = 0.01)\n",
        "\n",
        "        # counter and accumulator for progress\n",
        "        self.counter = 0\n",
        "        self.progress = []\n",
        "\n",
        "        pass\n",
        "\n",
        "    # 파이토치는 네트워크에 입력 데이터를 전달할 때 forward() 함수를 사용함\n",
        "    def forward(self, inputs):\n",
        "        # 모델 실행\n",
        "        return self.model(inputs)\n",
        "\n",
        "\n",
        "    # 훈련을 수핼할 코드 작성\n",
        "    def train(self, inputs, targets):\n",
        "        # calculate the output of the network, 입력 값을 신경망에 입력하여 결과를 얻음\n",
        "        outputs = self.forward(inputs)\n",
        "\n",
        "        # 손실을 계산한다\n",
        "        loss = self.loss_function(outputs, targets)\n",
        "\n",
        "        # increase counter and accumulate error every 10\n",
        "        self.counter += 1\n",
        "        if (self.counter % 10 == 0):\n",
        "            self.progress.append(loss.item())\n",
        "            pass\n",
        "        if (self.counter % 10000 == 0):\n",
        "            print(\"counter = \", self.counter)\n",
        "            pass\n",
        "\n",
        "        # zero gradients, perform a backward pass, and update the weights\n",
        "        self.optimiser.zero_grad()   # 기울기를 0으로 초기화\n",
        "        loss.backward()              # 손실의 기울기 계산\n",
        "        self.optimiser.step()        # 기울기(경사)를 따라 가면서 파라미터들을 갱신\n",
        "\n",
        "        pass\n",
        "\n",
        "\n",
        "    def plot_progress(self):\n",
        "        df = pandas.DataFrame(self.progress, columns=['loss'])\n",
        "        df.plot(ylim=(0, 1.0), figsize=(16,8), alpha=0.1, marker='.', grid=True, yticks=(0, 0.25, 0.5))\n",
        "        pass\n",
        "\n",
        "    pass"
      ],
      "metadata": {
        "id": "VQ9Yc21XGv26"
      },
      "execution_count": null,
      "outputs": []
    },
    {
      "cell_type": "code",
      "source": [
        "%%time\n",
        "          # Python 3 명령어로, %%time 은 cell 내의 모든 라인에 대한 wall time과 cpu time을 출력하고, %time은 첫라인의 소요 시간을 출력한다.\n",
        "          # %timeit 은 한 라인을 반복 실행하여 더 정확한 실행 시간을 측정한다\n",
        "          # CPU time 은 CPU 가 실행하는데 걸린 시간을 측정한 것으로, kernel time(file I/O) 등을 포함한다.\n",
        "          # Wall clock time은 코드를 실행하는 데에 걸린 시간으로, 컴퓨터가 해당 실행 시점에 다른 작업을 하고 있다면 영향을 받을 수 있다.\n",
        "\n",
        "# create neural network\n",
        "\n",
        "C = Classifier()\n",
        "\n",
        "# train network on MNIST data set\n",
        "\n",
        "epochs = 1\n",
        "\n",
        "for i in range(epochs):\n",
        "    print('training epoch', i+1, \"of\", epochs)\n",
        "\n",
        "    for label, image_data_tensor, target_tensor in mnist_dataset:\n",
        "        C.train(image_data_tensor, target_tensor)\n",
        "        pass\n",
        "    pass\n",
        "\n",
        "C.plot_progress()"
      ],
      "metadata": {
        "colab": {
          "base_uri": "https://localhost:8080/",
          "height": 648
        },
        "id": "dex4-J4bGwC9",
        "outputId": "f8eddc34-29f2-4b0c-b933-c520fdb8db0c"
      },
      "execution_count": null,
      "outputs": [
        {
          "output_type": "stream",
          "name": "stdout",
          "text": [
            "training epoch 1 of 1\n",
            "counter =  10000\n",
            "counter =  20000\n",
            "counter =  30000\n",
            "counter =  40000\n",
            "counter =  50000\n",
            "counter =  60000\n",
            "CPU times: user 1min 22s, sys: 876 ms, total: 1min 23s\n",
            "Wall time: 1min 24s\n"
          ]
        },
        {
          "output_type": "display_data",
          "data": {
            "text/plain": [
              "<Figure size 1152x576 with 1 Axes>"
            ],
            "image/png": "[encoded data removed]"
          },
          "metadata": {
            "needs_background": "light"
          }
        }
      ]
    },
    {
      "cell_type": "code",
      "source": [
        "# 훈련된 모델을 시험용 데이터셋에 적용하기\n",
        "\n",
        "mnist_test_dataset = MnistDataset('mount/My Drive/Colab Notebooks/myo_gan/mnist_data/mnist_test.csv')   # test용 데이터셋을 가져온다.\n",
        "\n",
        "# 확인을 위해 index가 19인 데이터를 살펴 보자\n",
        "record = 19\n",
        "\n",
        "# plot image and correct label\n",
        "mnist_test_dataset.plot_image(record)\n",
        "\n",
        "import numpy as np\n",
        "\n",
        "dim = np.shape(mnist_test_dataset)\n",
        "print(dim)\n",
        "print(mnist_test_dataset[9999][2])"
      ],
      "metadata": {
        "id": "okXeZWWxGwLr",
        "colab": {
          "base_uri": "https://localhost:8080/",
          "height": 374
        },
        "outputId": "1198b183-2102-4e0f-d475-d948000e294f"
      },
      "execution_count": null,
      "outputs": [
        {
          "output_type": "stream",
          "name": "stdout",
          "text": [
            "(10000, 3)\n",
            "tensor([0., 0., 0., 0., 0., 0., 1., 0., 0., 0.])\n"
          ]
        },
        {
          "output_type": "stream",
          "name": "stderr",
          "text": [
            "/usr/local/lib/python3.7/dist-packages/numpy/core/fromnumeric.py:1970: VisibleDeprecationWarning: Creating an ndarray from ragged nested sequences (which is a list-or-tuple of lists-or-tuples-or ndarrays with different lengths or shapes) is deprecated. If you meant to do this, you must specify 'dtype=object' when creating the ndarray.\n",
            "  result = asarray(a).shape\n"
          ]
        },
        {
          "output_type": "display_data",
          "data": {
            "text/plain": [
              "<Figure size 432x288 with 1 Axes>"
            ],
            "image/png": "[encoded data removed]"
          },
          "metadata": {
            "needs_background": "light"
          }
        }
      ]
    },
    {
      "cell_type": "code",
      "source": [
        "image_data = mnist_test_dataset[record][1]   # [record][0], [record][2]로 변경해 볼 것\n",
        "\n",
        "# query from trained network, 이미지 데이터를 훈련된 신경망(인스턴스)에 전달\n",
        "output = C.forward(image_data)\n",
        "print(output)                 # --->  신경망의 출력 label 값들...\n",
        "\n",
        "# plot output tensor, detach()는 torch.tensor를 np.ndarry로 변환할 때 numpy는 pytorch와는 달리 계산 그래프(gradient)를 저장하지 않으므로 이를 없애준다.\n",
        "pandas.DataFrame(output.detach().numpy()).plot(kind='bar', legend=False, ylim=(0,1))\n"
      ],
      "metadata": {
        "colab": {
          "base_uri": "https://localhost:8080/",
          "height": 321
        },
        "id": "Ey7Wj1ZWHRtL",
        "outputId": "43a69698-ab1e-41ee-ad94-ddad285758cf"
      },
      "execution_count": null,
      "outputs": [
        {
          "output_type": "stream",
          "name": "stdout",
          "text": [
            "tensor([0.0539, 0.0587, 0.1098, 0.1211, 0.2383, 0.0924, 0.1418, 0.2009, 0.0945,\n",
            "        0.1962], grad_fn=<SigmoidBackward0>)\n"
          ]
        },
        {
          "output_type": "execute_result",
          "data": {
            "text/plain": [
              "<matplotlib.axes._subplots.AxesSubplot at 0x7f3cc8aca650>"
            ]
          },
          "metadata": {},
          "execution_count": 13
        },
        {
          "output_type": "display_data",
          "data": {
            "text/plain": [
              "<Figure size 432x288 with 1 Axes>"
            ],
            "image/png": "[encoded data removed]"
          },
          "metadata": {
            "needs_background": "light"
          }
        }
      ]
    },
    {
      "cell_type": "code",
      "source": [
        "# 구현한 분류기의 성능(정확도) 검사 ---> score = 10,000개의 데이터셋에 대해 정확하게 분류한 횟수\n",
        "\n",
        "score = 0\n",
        "items = 0\n",
        "\n",
        "for label, image_data_tensor, target_tensor in mnist_test_dataset:\n",
        "    answer = C.forward(image_data_tensor).detach().numpy()\n",
        "    if (answer.argmax() == label):\n",
        "        score += 1\n",
        "        pass\n",
        "    items += 1\n",
        "\n",
        "    pass\n",
        "\n",
        "print(score, items, score/items)"
      ],
      "metadata": {
        "colab": {
          "base_uri": "https://localhost:8080/"
        },
        "id": "PYp6brYs-pzU",
        "outputId": "3a320ddc-0da8-4af3-aef3-de3781a958cc"
      },
      "execution_count": null,
      "outputs": [
        {
          "output_type": "stream",
          "name": "stdout",
          "text": [
            "5853 10000 0.5853\n"
          ]
        }
      ]
    },
    {
      "cell_type": "code",
      "source": [],
      "metadata": {
        "id": "6_W7gY3k-p-w"
      },
      "execution_count": null,
      "outputs": []
    }
  ]
}