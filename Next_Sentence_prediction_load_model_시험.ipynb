{
  "nbformat": 4,
  "nbformat_minor": 0,
  "metadata": {
    "colab": {
      "provenance": [],
      "include_colab_link": true
    },
    "kernelspec": {
      "name": "python3",
      "display_name": "Python 3"
    },
    "language_info": {
      "name": "python"
    },
    "gpuClass": "standard",
    "accelerator": "GPU"
  },
  "cells": [
    {
      "cell_type": "markdown",
      "metadata": {
        "id": "view-in-github",
        "colab_type": "text"
      },
      "source": [
        "<a href=\"https://colab.research.google.com/github/jhyoo78/jhyoo78/blob/main/Next_Sentence_prediction_load_model_%EC%8B%9C%ED%97%98.ipynb\" target=\"_parent\"><img src=\"https://colab.research.google.com/assets/colab-badge.svg\" alt=\"Open In Colab\"/></a>"
      ]
    },
    {
      "cell_type": "code",
      "source": [
        "# 참고 --> https://www.kaggle.com/code/ysthehurricane/next-word-prediction-bi-lstm-tutorial-easy-way\n",
        "\n",
        "import os\n",
        "import numpy as np\n",
        "\n",
        "# 하나의 문장 내에서 다음 단어들을 맞출 때 import할 것들\n",
        "import tensorflow as tf\n",
        "from tensorflow.keras.preprocessing.sequence import pad_sequences\n",
        "from tensorflow.keras.layers import Embedding, LSTM, Dense, Dropout, Activation, Bidirectional\n",
        "from tensorflow.keras.preprocessing.text import Tokenizer\n",
        "from tensorflow.keras.models import Sequential\n",
        "from tensorflow.keras.optimizers import Adam\n",
        "from keras.models import load_model      # 저장한 모델 불러오기\n",
        "\n",
        "# 단어가 아닌 sentence 단위로 전처리할 경우\n",
        "import nltk\n",
        "nltk.download('punkt')   # ‘punkt=문장 tokenizer’를 다운로드\n",
        "from nltk.tokenize import word_tokenize, sent_tokenize\n",
        "import re                # 파이썬 정규표현을 위한 표준 라이브러리임"
      ],
      "metadata": {
        "id": "HWl0o6IpQEwP",
        "colab": {
          "base_uri": "https://localhost:8080/"
        },
        "outputId": "d041845e-c788-4358-f13e-699ae48409d3"
      },
      "execution_count": null,
      "outputs": [
        {
          "output_type": "stream",
          "name": "stderr",
          "text": [
            "[nltk_data] Downloading package punkt to /root/nltk_data...\n",
            "[nltk_data]   Unzipping tokenizers/punkt.zip.\n"
          ]
        }
      ]
    },
    {
      "cell_type": "code",
      "execution_count": null,
      "metadata": {
        "id": "vxf9soFpP_Pv",
        "colab": {
          "base_uri": "https://localhost:8080/",
          "height": 77
        },
        "outputId": "541702e2-d837-4ad4-8a3d-38365b2711d5"
      },
      "outputs": [
        {
          "output_type": "display_data",
          "data": {
            "text/plain": [
              "<IPython.core.display.HTML object>"
            ],
            "text/html": [
              "\n",
              "     <input type=\"file\" id=\"files-6ecc3406-c1b7-4fa5-8da4-b1b5a3c2e723\" name=\"files[]\" multiple disabled\n",
              "        style=\"border:none\" />\n",
              "     <output id=\"result-6ecc3406-c1b7-4fa5-8da4-b1b5a3c2e723\">\n",
              "      Upload widget is only available when the cell has been executed in the\n",
              "      current browser session. Please rerun this cell to enable.\n",
              "      </output>\n",
              "      <script>// Copyright 2017 Google LLC\n",
              "//\n",
              "// Licensed under the Apache License, Version 2.0 (the \"License\");\n",
              "// you may not use this file except in compliance with the License.\n",
              "// You may obtain a copy of the License at\n",
              "//\n",
              "//      http://www.apache.org/licenses/LICENSE-2.0\n",
              "//\n",
              "// Unless required by applicable law or agreed to in writing, software\n",
              "// distributed under the License is distributed on an \"AS IS\" BASIS,\n",
              "// WITHOUT WARRANTIES OR CONDITIONS OF ANY KIND, either express or implied.\n",
              "// See the License for the specific language governing permissions and\n",
              "// limitations under the License.\n",
              "\n",
              "/**\n",
              " * @fileoverview Helpers for google.colab Python module.\n",
              " */\n",
              "(function(scope) {\n",
              "function span(text, styleAttributes = {}) {\n",
              "  const element = document.createElement('span');\n",
              "  element.textContent = text;\n",
              "  for (const key of Object.keys(styleAttributes)) {\n",
              "    element.style[key] = styleAttributes[key];\n",
              "  }\n",
              "  return element;\n",
              "}\n",
              "\n",
              "// Max number of bytes which will be uploaded at a time.\n",
              "const MAX_PAYLOAD_SIZE = 100 * 1024;\n",
              "\n",
              "function _uploadFiles(inputId, outputId) {\n",
              "  const steps = uploadFilesStep(inputId, outputId);\n",
              "  const outputElement = document.getElementById(outputId);\n",
              "  // Cache steps on the outputElement to make it available for the next call\n",
              "  // to uploadFilesContinue from Python.\n",
              "  outputElement.steps = steps;\n",
              "\n",
              "  return _uploadFilesContinue(outputId);\n",
              "}\n",
              "\n",
              "// This is roughly an async generator (not supported in the browser yet),\n",
              "// where there are multiple asynchronous steps and the Python side is going\n",
              "// to poll for completion of each step.\n",
              "// This uses a Promise to block the python side on completion of each step,\n",
              "// then passes the result of the previous step as the input to the next step.\n",
              "function _uploadFilesContinue(outputId) {\n",
              "  const outputElement = document.getElementById(outputId);\n",
              "  const steps = outputElement.steps;\n",
              "\n",
              "  const next = steps.next(outputElement.lastPromiseValue);\n",
              "  return Promise.resolve(next.value.promise).then((value) => {\n",
              "    // Cache the last promise value to make it available to the next\n",
              "    // step of the generator.\n",
              "    outputElement.lastPromiseValue = value;\n",
              "    return next.value.response;\n",
              "  });\n",
              "}\n",
              "\n",
              "/**\n",
              " * Generator function which is called between each async step of the upload\n",
              " * process.\n",
              " * @param {string} inputId Element ID of the input file picker element.\n",
              " * @param {string} outputId Element ID of the output display.\n",
              " * @return {!Iterable<!Object>} Iterable of next steps.\n",
              " */\n",
              "function* uploadFilesStep(inputId, outputId) {\n",
              "  const inputElement = document.getElementById(inputId);\n",
              "  inputElement.disabled = false;\n",
              "\n",
              "  const outputElement = document.getElementById(outputId);\n",
              "  outputElement.innerHTML = '';\n",
              "\n",
              "  const pickedPromise = new Promise((resolve) => {\n",
              "    inputElement.addEventListener('change', (e) => {\n",
              "      resolve(e.target.files);\n",
              "    });\n",
              "  });\n",
              "\n",
              "  const cancel = document.createElement('button');\n",
              "  inputElement.parentElement.appendChild(cancel);\n",
              "  cancel.textContent = 'Cancel upload';\n",
              "  const cancelPromise = new Promise((resolve) => {\n",
              "    cancel.onclick = () => {\n",
              "      resolve(null);\n",
              "    };\n",
              "  });\n",
              "\n",
              "  // Wait for the user to pick the files.\n",
              "  const files = yield {\n",
              "    promise: Promise.race([pickedPromise, cancelPromise]),\n",
              "    response: {\n",
              "      action: 'starting',\n",
              "    }\n",
              "  };\n",
              "\n",
              "  cancel.remove();\n",
              "\n",
              "  // Disable the input element since further picks are not allowed.\n",
              "  inputElement.disabled = true;\n",
              "\n",
              "  if (!files) {\n",
              "    return {\n",
              "      response: {\n",
              "        action: 'complete',\n",
              "      }\n",
              "    };\n",
              "  }\n",
              "\n",
              "  for (const file of files) {\n",
              "    const li = document.createElement('li');\n",
              "    li.append(span(file.name, {fontWeight: 'bold'}));\n",
              "    li.append(span(\n",
              "        `(${file.type || 'n/a'}) - ${file.size} bytes, ` +\n",
              "        `last modified: ${\n",
              "            file.lastModifiedDate ? file.lastModifiedDate.toLocaleDateString() :\n",
              "                                    'n/a'} - `));\n",
              "    const percent = span('0% done');\n",
              "    li.appendChild(percent);\n",
              "\n",
              "    outputElement.appendChild(li);\n",
              "\n",
              "    const fileDataPromise = new Promise((resolve) => {\n",
              "      const reader = new FileReader();\n",
              "      reader.onload = (e) => {\n",
              "        resolve(e.target.result);\n",
              "      };\n",
              "      reader.readAsArrayBuffer(file);\n",
              "    });\n",
              "    // Wait for the data to be ready.\n",
              "    let fileData = yield {\n",
              "      promise: fileDataPromise,\n",
              "      response: {\n",
              "        action: 'continue',\n",
              "      }\n",
              "    };\n",
              "\n",
              "    // Use a chunked sending to avoid message size limits. See b/62115660.\n",
              "    let position = 0;\n",
              "    do {\n",
              "      const length = Math.min(fileData.byteLength - position, MAX_PAYLOAD_SIZE);\n",
              "      const chunk = new Uint8Array(fileData, position, length);\n",
              "      position += length;\n",
              "\n",
              "      const base64 = btoa(String.fromCharCode.apply(null, chunk));\n",
              "      yield {\n",
              "        response: {\n",
              "          action: 'append',\n",
              "          file: file.name,\n",
              "          data: base64,\n",
              "        },\n",
              "      };\n",
              "\n",
              "      let percentDone = fileData.byteLength === 0 ?\n",
              "          100 :\n",
              "          Math.round((position / fileData.byteLength) * 100);\n",
              "      percent.textContent = `${percentDone}% done`;\n",
              "\n",
              "    } while (position < fileData.byteLength);\n",
              "  }\n",
              "\n",
              "  // All done.\n",
              "  yield {\n",
              "    response: {\n",
              "      action: 'complete',\n",
              "    }\n",
              "  };\n",
              "}\n",
              "\n",
              "scope.google = scope.google || {};\n",
              "scope.google.colab = scope.google.colab || {};\n",
              "scope.google.colab._files = {\n",
              "  _uploadFiles,\n",
              "  _uploadFilesContinue,\n",
              "};\n",
              "})(self);\n",
              "</script> "
            ]
          },
          "metadata": {}
        },
        {
          "output_type": "stream",
          "name": "stdout",
          "text": [
            "Saving test2.txt to test2.txt\n"
          ]
        }
      ],
      "source": [
        "from google.colab import files     # Colab에서 local PC내의 log file 읽어 들이기\n",
        "uploaded = files.upload()          # 파일을 여러 개 선택 가능함"
      ]
    },
    {
      "cell_type": "code",
      "source": [
        "# log msg 를 sentence 단위로 토큰화 처리\n",
        "input_sequences = []\n",
        "log_sent = []\n",
        "\n",
        "log_file_name='test2.txt'\n",
        "\n",
        "'''--------------------------------------------------------------'''\n",
        "\n",
        "f=open(log_file_name, 'r')\n",
        "lines = f.readlines()\n",
        "\n",
        "for line in lines:\n",
        "    sent_tok =  nltk.sent_tokenize(line)     #  log msg를 줄 단위로 sentence로 토큰화\n",
        "    log_sent.append(sent_tok)\n",
        "\n",
        "print(\"log_sents=\", log_sent)\n",
        "print(\"num_sent=\", len(log_sent))\n",
        "\n",
        "tokenizer = Tokenizer(oov_token='<oov>')     #  토큰화할 때 적용할 파라미터 --> 없는 단어를 '<oov>'로 처리함.\n",
        "tokenizer.fit_on_texts(log_sent)             #  전체 문장의 index와 단어 벡터를 생성(Keras)\n",
        "total_words = len(tokenizer.word_index) + 1  #  계산된 단어(문장)의 index를 dictionary 형태(word_index)로 변환\n",
        "\n",
        "print(\"total unique sentences=\", total_words)\n",
        "print(\"tokeniizer.word_index=\", tokenizer.word_index)\n",
        "\n",
        "for msg in log_sent:\n",
        "    #print(msg)                                    # log msg를 한 줄씩 출력\n",
        "    token_list = tokenizer.texts_to_sequences([msg])[0]  # 각 문장(line)에 index를 부여해줌.\n",
        "    #print(\"token_list=\",token_list)                              # --> [\n",
        "    input_sequences.append(token_list)\n",
        "print(\"input_sequences=\", input_sequences)       # ---> [[92], [93], [94], [95], [96], [97], [40],....] 등으로 출력됨\n",
        "print(\"Total input sequences: \", len(input_sequences))    # ---> log file의 line 수\n",
        "f.close()\n"
      ],
      "metadata": {
        "id": "OUGnGYunEHCG",
        "colab": {
          "base_uri": "https://localhost:8080/"
        },
        "outputId": "87b3a0ae-da73-4b34-8a4d-72579d69d40e"
      },
      "execution_count": null,
      "outputs": [
        {
          "output_type": "stream",
          "name": "stdout",
          "text": [
            "log_sents= [['starting rotate log files'], ['starting daily mandb regeneration'], ['mandbservice succeeded'], ['finished daily mandb regeneration'], ['logrotateservice succeeded'], ['finished rotate log files'], ['storehelpersgo cannot refresh snap has no updates available core lxd snapd'], ['autorefreshgo autorefresh all snaps are uptodate'], ['daemon system activating via systemd service nameorgfreedesktopfwupd unitfwupdservice requested by uid pid commusrbinfwupdmgr refresh nometadatacheck labelunconfined'], ['daemon system successfully activated service orgfreedesktopfwupd'], ['fetching metadata httpscdnfwupdorgdownloadsfirmwarexmlgz'], ['fetching signature httpscdnfwupdorgdownloadsfirmwarexmlgzasc'], ['successfully downloaded new metadata local devices supported'], ['starting refresh fwupd metadata and update motd'], ['starting firmware update daemon'], ['started firmware update daemon'], ['fwupdrefreshservice succeeded'], ['finished refresh fwupd metadata and update motd'], ['news pure upstream kubernetes smallest simplest cluster ops'], ['news httpsmicroksio'], ['starting message of the day'], ['motdnewsservice succeeded'], ['finished message of the day'], ['starting online ext metadata check for all filesystems'], ['escruballservice succeeded'], ['finished online ext metadata check for all filesystems'], ['systemd resolved server returned error nxdomain mitigating potential dns violation dve retrying transaction with reduced feature level udp'], ['systemd resolved server returned error nxdomain mitigating potential dns violation dve retrying transaction with reduced feature level udp'], ['systemd starting daily apt download activities'], ['systemd started daily apt download activities'], ['fwupdservice succeeded'], ['systemd starting daily apt upgrade and clean activities'], ['systemd started daily apt upgrade and clean activities'], ['apachectl ah apache could not reliably determine the servers fully qualified domain name using set the servername directive globally to suppress this message'], ['systemd reloading the apache http server'], ['systemd reloaded the apache http server'], ['starting daily apt download activities'], ['daemon start'], ['daemon system activating via systemd service nameorgfreedesktoppackagekit unitpackagekitservice requested by uid pid commusrbingdbus call system dest orgfreedeskto labelunconfined'], ['daemon system successfully activated service orgfreedesktoppackagekit'], ['starting packagekit daemon'], ['started packagekit daemon'], ['aptdailyservice succeeded'], ['finished daily apt download activities'], ['daemon quit'], ['packagekitservice succeeded'], ['starting daily apt upgrade and clean activities'], ['aptdailyupgradeservice succeeded'], ['finished daily apt upgrade and clean activities'], ['motd news pure upstream kubernetes smallest simplest cluster ops'], ['motd news httpsmicroksio'], ['systemd starting message of the day'], ['systemd started message of the day'], ['storehelpersgo cannot refresh snap has no updates available core lxd snapd'], ['autorefreshgo autorefresh all snaps are uptodate'], ['systemd starting daily apt download activities'], ['systemd started daily apt download activities'], ['storehelpersgo cannot refresh snap has no updates available core lxd snapd'], ['autorefreshgo autorefresh all snaps are uptodate'], ['received disconnect from port disconnected by user'], ['received disconnect from port disconnected by user'], ['disconnected from user ubuntu port'], ['disconnected from user ubuntu port'], ['pamunixsshdsession session closed for user ubuntu'], ['pamunixsshdsession session closed for user ubuntu'], ['logind session logged out waiting for processes to exit'], ['logind removed session'], ['logind session logged out waiting for processes to exit'], ['logind removed session'], ['sessionscope succeeded'], ['sessionscope succeeded'], ['stopping user manager for uid'], ['stopped target main user target'], ['stopped target basic system'], ['stopped target paths'], ['stopped target sockets'], ['stopped target timers'], ['dbussocket succeeded'], ['closed dbus user message bus socket'], ['dirmngrsocket succeeded'], ['closed gnupg network certificate management daemon'], ['gpgagentbrowsersocket succeeded'], ['closed gnupg cryptographic agent and passphrase cache access for web browsers'], ['gpgagentextrasocket succeeded'], ['closed gnupg cryptographic agent and passphrase cache restricted'], ['gpgagentsshsocket succeeded'], ['closed gnupg cryptographic agent sshagent emulation'], ['gpgagentsocket succeeded'], ['closed gnupg cryptographic agent and passphrase cache'], ['pkdebconfhelpersocket succeeded'], ['closed debconf communication socket'], ['snapdsessionagentsocket succeeded'], ['closed rest api socket for snapd user session agent'], ['reached target shutdown'], ['systemdexitservice succeeded'], ['finished exit the session'], ['reached target exit the session'], ['userservice succeeded'], ['stopped user manager for uid'], ['stopping user runtime directory runuser'], ['runusermount succeeded'], ['userruntimedirservice succeeded'], ['stopped user runtime directory runuser'], ['removed slice user slice of uid'], ['systemd starting cleanup of temporary directories'], ['systemd started cleanup of temporary directories'], ['daemon system activating via systemd service nameorgfreedesktopfwupd unitfwupdservice requested by uid pid commusrbinfwupdmgr refresh nometadatacheck labelunconfined'], ['daemon system successfully activated service orgfreedesktopfwupd'], ['starting refresh fwupd metadata and update motd'], ['starting firmware update daemon'], ['started firmware update daemon'], ['fwupdrefreshservice succeeded'], ['finished refresh fwupd metadata and update motd'], ['starting cleanup of temporary directories'], ['systemdtmpfilescleanservice succeeded'], ['finished cleanup of temporary directories'], ['fwupdservice succeeded'], ['news pure upstream kubernetes smallest simplest cluster ops'], ['news httpsmicroksio'], ['starting message of the day'], ['motdnewsservice succeeded'], ['finished message of the day'], ['daemon system activating via systemd service nameorgfreedesktopfwupd unitfwupdservice requested by uid pid commusrbinfwupdmgr refresh nometadatacheck labelunconfined'], ['daemon system successfully activated service orgfreedesktopfwupd'], ['starting refresh fwupd metadata and update motd'], ['starting firmware update daemon'], ['started firmware update daemon'], ['fwupdrefreshservice succeeded'], ['finished refresh fwupd metadata and update motd'], ['starting daily apt download activities'], ['aptdailyservice succeeded'], ['finished daily apt download activities'], ['fwupdservice succeeded'], ['storehelpersgo cannot refresh snap has no updates available core lxd snapd'], ['autorefreshgo autorefresh all snaps are uptodate'], ['motd news pure upstream kubernetes smallest simplest cluster ops'], ['motd news httpsmicroksio'], ['systemd starting message of the day'], ['systemd started message of the day'], ['accepted password for ubuntu from port ssh'], ['pamunixsshdsession session opened for user ubuntu by uid'], ['logind new session of user ubuntu'], ['created slice user slice of uid'], ['starting user runtime directory runuser'], ['finished user runtime directory runuser'], ['starting user manager for uid'], ['pamunixsystemdusersession session opened for user ubuntu by uid'], ['reached target paths'], ['reached target timers'], ['starting dbus user message bus socket'], ['listening on gnupg network certificate management daemon'], ['listening on gnupg cryptographic agent and passphrase cache access for web browsers'], ['listening on gnupg cryptographic agent and passphrase cache restricted'], ['listening on gnupg cryptographic agent sshagent emulation'], ['listening on gnupg cryptographic agent and passphrase cache'], ['listening on debconf communication socket'], ['listening on rest api socket for snapd user session agent'], ['listening on dbus user message bus socket'], ['reached target sockets'], ['reached target basic system'], ['reached target main user target'], ['started user manager for uid'], ['startup finished in ms'], ['started session of user ubuntu'], ['pamunixsshdsession session closed for user ubuntu'], ['logind creating runnologin blocking further logins'], ['stopping session of user ubuntu'], ['removed slice systemmodprobeslice'], ['stopped target cloudinit target'], ['daemon started daemon version'], ['systemd restarting apparmor'], ['systemd reloading apparmor profiles'], ['systemd skipping profile in etcapparmorddisable usrsbinrsyslogd'], ['stopping automatic crash report generation apport'], ['done'], ['starting automatic crash report generation apport'], ['done'], ['deactivating block devices'], ['init cloudinit v gbadadubuntu running initlocal at sun may up seconds'], ['init cloudinit v gbadadubuntu running init at sun may up seconds'], ['init ciinfo net device info'], ['init ciinfo'], ['init ciinfo device up address mask scope hwaddress'], ['init ciinfo'], ['init ciinfo ens true global faecbfdb'], ['init ciinfo ens true fefefffecbfdb link faecbfdb'], ['init ciinfo ens true global faee'], ['init ciinfo ens true fefefffee link faee'], ['init ciinfo lo true host'], ['init ciinfo lo true host'], ['init ciinfo'], ['init ciinfo route ipv info'], ['init ciinfo'], ['init ciinfo route destination gateway genmask interface flags'], ['init ciinfo'], ['init ciinfo ens ug'], ['init ciinfo ens ug'], ['init ciinfo ens u'], ['init ciinfo ens u'], ['init ciinfo ens uh'], ['init ciinfo ens ugh'], ['init ciinfo'], ['init ciinfo route ipv info'], ['init ciinfo'], ['init ciinfo route destination gateway interface flags'], ['init ciinfo'], ['init ciinfo fe ens u'], ['init ciinfo fe ens u'], ['init ciinfo local ens u'], ['init ciinfo local ens u'], ['init ciinfo multicast ens u'], ['init ciinfo multicast ens u'], ['init ciinfo'], ['init utilpywarning failed stage init'], ['init failed run of stage init'], ['init'], ['init traceback most recent call last'], ['init file usrlibpythondistpackagescloudinitcmdmainpy line in statuswrapper'], ['init ret functorname args'], ['init file usrlibpythondistpackagescloudinitcmdmainpy line in maininit'], ['init initupdate'], ['init file usrlibpythondistpackagescloudinitstagespy line in update'], ['init selfstorerawvendordataselfdatasourcegetvendordataraw'], ['init file usrlibpythondistpackagescloudinitsourcesinitpy line in getvendordataraw'], ['init return selfvendordataraw'], ['init attributeerror datasourceconfigdrive object has no attribute vendordataraw'], ['init'], ['init cloudinit v gbadadubuntu running modulesconfig at sun may up seconds'], ['init cloudinit v gbadadubuntu running modulesfinal at sun may up seconds'], ['init cloudinit v gbadadubuntu finished at sun may datasource datasourceconfigdrive netversourcedevsr up seconds'], ['cron info pidfile fd'], ['cron info running reboot jobs'], ['daemon dbus unknown group power in message bus configuration file'], ['daemon system apparmor dbus mediation is enabled'], ['daemon system activating via systemd service nameorgfreedesktophostname unitdbusorgfreedesktophostnameservice requested by uid pid commlibsystemdsystemdnetworkd labelunconfined'], ['daemon system successfully activated service orgfreedesktophostname'], ['daemon system activating via systemd service nameorgfreedesktoppolicykit unitpolkitservice requested by uid pid commlibsystemdsystemdhostnamed labelunconfined'], ['daemon system successfully activated service orgfreedesktoppolicykit'], ['common recording successful boot for grub'], ['common done'], ['warning exiting master process'], ['alert current worker exited with code terminated'], ['warning all workers exited exiting'], ['notice new worker forked'], ['linux version generic builddlcyamd gcc version ubuntu ubuntu ubuntu smp mon apr utc ubuntu generic'], ['command line bootimagebootvmlinuzgeneric rootuuidbdddaddbd ro consoletty consolettys'], ['kernel supported cpus'], ['intel genuineintel'], ['amd authenticamd'], ['hygon hygongenuine'], ['centaur centaurhauls'], ['zhaoxin shanghai'], ['xfpu x fpu will use fxsave'], ['biosprovided physical ram map'], ['biose mem xxfbff usable'], ['biose mem xfcxffff reserved'], ['biose mem xfxfffff reserved'], ['biose mem xxbffdbfff usable'], ['biose mem xbffdcxbfffffff reserved'], ['biose mem xfeffcxfeffffff reserved'], ['biose mem xfffcxffffffff reserved'], ['biose mem xxfffffff usable'], ['nx execute disable protection active'], ['smbios present'], ['dmi openstack foundation openstack nova bios ubuntu'], ['hypervisor detected kvm'], ['kvmclock using msrs bd and bd'], ['kvmclock cpu msr c primary cpu clock'], ['kvmclock using sched offset of cycles'], ['clocksource kvmclock mask xffffffffffffffff maxcycles xcdedffb maxidlens ns'], ['tsc detected mhz processor'], ['e update mem xxfff usable reserved'], ['e remove mem xaxfffff usable'], ['lastpfn x maxarchpfn x'], ['mtrr default type writeback'], ['mtrr fixed ranges enabled'], ['ffff writeback'], ['abffff uncachable'], ['cfffff writeprotect'], ['mtrr variable ranges enabled'], ['base c mask ffc uncachable'], ['disabled'], ['disabled'], ['disabled'], ['disabled'], ['disabled'], ['disabled'], ['disabled'], ['xpat pat not supported by cpu'], ['xpat configuration wb wt uc uc wb wt uc uc'], ['lastpfn xbffdc maxarchpfn x'], ['found smp mptable at mem xfaxfaf'], ['check scanning areas for low memory corruption'], ['ramdisk mem xexfff'], ['acpi early table checksum verification disabled'], ['acpi rsdp xff v bochs'], ['acpi rsdt xbffee v bochs bxpcrsdt bxpc'], ['acpi facp xbffeb v bochs bxpcfacp bxpc'], ['acpi dsdt xbffdfd fb v bochs bxpcdsdt bxpc'], ['acpi facs xbffdfd'], ['acpi apic xbffef v bochs bxpcapic bxpc'], ['acpi srat xbffeff e v bochs bxpcsrat bxpc'], ['acpi local apic address xfee'], ['srat pxm apic x node'], ['srat pxm apic x node'], ['srat pxm apic x node'], ['srat pxm apic x node'], ['acpi srat node pxm mem xxffff'], ['acpi srat node pxm mem xxbfffffff'], ['acpi srat node pxm mem xxfffffff'], ['numa node mem xxffff mem xxbfffffff mem xxbfffffff'], ['numa node mem xxbfffffff mem xxfffffff mem xxfffffff'], ['nodedata allocated mem xffdxfffcfff'], ['zone ranges'], ['dma mem xxffffff'], ['dma mem xxffffffff'], ['normal mem xxfffffff'], ['device empty'], ['movable zone start for each node'], ['early memory node ranges'], ['node mem xxefff'], ['node mem xxbffdbfff'], ['node mem xxfffffff'], ['zeroed struct page in unavailable ranges pages'], ['initmem setup node mem xxfffffff'], ['on node totalpages'], ['dma zone pages used for memmap'], ['dma zone pages reserved'], ['dma zone pages lifo batch'], ['dma zone pages used for memmap'], ['dma zone pages lifo batch'], ['normal zone pages used for memmap'], ['normal zone pages lifo batch'], ['acpi pmtimer io port x'], ['acpi local apic address xfee'], ['acpi lapicnmi acpiidxff dfl dfl lintx'], ['ioapic apicid version address xfec gsi'], ['acpi intsrcovr bus busirq globalirq dfl dfl'], ['acpi intsrcovr bus busirq globalirq high level'], ['acpi intsrcovr bus busirq globalirq high level'], ['acpi intsrcovr bus busirq globalirq high level'], ['acpi intsrcovr bus busirq globalirq high level'], ['acpi irq used by override'], ['acpi irq used by override'], ['acpi irq used by override'], ['acpi irq used by override'], ['acpi irq used by override'], ['using acpi madt for smp configuration information'], ['smpboot allowing cpus hotplug cpus'], ['pm registered nosave memory mem xxfff'], ['pm registered nosave memory mem xfxffff'], ['pm registered nosave memory mem xaxeffff'], ['pm registered nosave memory mem xfxfffff'], ['pm registered nosave memory mem xbffdcxbfffffff'], ['pm registered nosave memory mem xcxfeffbfff'], ['pm registered nosave memory mem xfeffcxfeffffff'], ['pm registered nosave memory mem xffxfffbffff'], ['pm registered nosave memory mem xfffcxffffffff'], ['mem xcxfeffbfff available for pci devices'], ['booting paravirtualized kernel on kvm'], ['clocksource refinedjiffies mask xffffffff maxcycles xffffffff maxidlens ns'], ['setuppercpu nrcpus nrcpumaskbits nrcpuids nrnodeids'], ['percpu embedded pagescpu s r d u'], ['pcpualloc s r d u alloc'], ['pcpualloc'], ['kvm setup async pf for cpu'], ['kvmstealtime cpu msr bad'], ['built zonelists mobility grouping on total pages'], ['policy zone normal'], ['kernel command line bootimagebootvmlinuzgeneric rootuuidbdddaddbd ro consoletty consolettys'], ['dentry cache hash table entries order bytes linear'], ['inodecache hash table entries order bytes linear'], ['mem autoinit stackoff heap allocon heap freeoff'], ['calgary detecting calgary via bios ebda area'], ['calgary unable to locate rio grande table in ebda bailing'], ['memory kk available k kernel code k rwdata k rodata k init k bss k reserved k cmareserved'], ['random getrandomu called from kmemcacheopenxdx with crnginit'], ['slub hwalign order minobjects cpus nodes'], ['kerneluser page tables isolation enabled'], ['ftrace allocating entries in pages'], ['rcu hierarchical rcu implementation'], ['rcu rcu restricting cpus from nrcpus to nrcpuids'], ['tasks rcu enabled'], ['rcu rcu calculated value of schedulerenlistment delay is jiffies'], ['rcu adjusting geometry for rcufanoutleaf nrcpuids'], ['nrirqs nrirqs preallocated irqs'], ['console colour vga x'], ['printk console tty enabled'], ['printk console ttys enabled'], ['acpi core revision'], ['apic switch to symmetric io mode setup'], ['xapic enabled'], ['switched apic routing to physical xapic'], ['timer vectorx apic pin apic pin'], ['clocksource tscearly mask xffffffffffffffff maxcycles xad maxidlens ns'], ['calibrating delay loop skipped preset value bogomips lpj'], ['pidmax default minimum'], ['lsm security framework initializing'], ['yama becoming mindful'], ['apparmor apparmor initialized'], ['mountcache hash table entries order bytes linear'], ['mountpointcache hash table entries order bytes linear'], ['validate tmpfs'], ['validate proc'], ['validate cgroup'], ['validate cgroup'], ['last level itlb entries kb mb mb'], ['last level dtlb entries kb mb mb gb'], ['spectre v mitigation usercopyswapgs barriers and user pointer sanitization'], ['spectre v mitigation full generic retpoline'], ['spectre v spectre v spectrersb mitigation filling rsb on context switch'], ['speculative store bypass vulnerable'], ['mds vulnerable clear cpu buffers attempted no microcode'], ['freeing smp alternatives memory k'], ['smpboot cpu intel qemu virtual cpu version family x model x stepping x'], ['performance events pmu not available due to virtualization using software events only'], ['rcu hierarchical srcu implementation'], ['nmi watchdog perf nmi watchdog permanently disabled'], ['smp bringing up secondary cpus'], ['x booting smp configuration'], ['node cpus'], ['kvmclock cpu msr c secondary cpu clock'], ['smpboot cpu converting physical to logical die'], ['kvm setup async pf for cpu'], ['kvmstealtime cpu msr baad'], [], ['kvmclock cpu msr c secondary cpu clock'], ['smpboot cpu converting physical to logical die'], ['kvm setup async pf for cpu'], ['kvmstealtime cpu msr bbd'], [], ['kvmclock cpu msr cc secondary cpu clock'], ['smpboot cpu converting physical to logical die'], ['kvm setup async pf for cpu'], ['kvmstealtime cpu msr bbad'], ['smp brought up node cpus'], ['smpboot max logical packages'], ['smpboot total of processors activated bogomips'], ['devtmpfs initialized'], ['xmm memory block size mb'], ['clocksource jiffies mask xffffffff maxcycles xffffffff maxidlens ns'], ['futex hash table entries order bytes linear'], ['pinctrl core initialized pinctrl subsystem'], ['pm rtc time date'], ['net registered protocol family'], ['audit initializing netlink subsys disabled'], ['audit type audit stateinitialized auditenabled res'], ['eisa bus registered'], ['cpuidle using governor ladder'], ['cpuidle using governor menu'], ['acpi bus type pci registered'], ['acpiphp acpi hot plug pci controller driver version'], ['pci using configuration type for base access'], ['hugetlb registered mib page size preallocated pages'], ['acpi added osimodule device'], ['acpi added osiprocessor device'], ['acpi added osi scp extensions'], ['acpi added osiprocessor aggregator device'], ['acpi added osilinuxdellvideo'], ['acpi added osilinuxlenovonvhdmiaudio'], ['acpi added osilinuxhpihybridgraphics'], ['acpi acpi aml tables successfully acquired and loaded'], ['acpi interpreter enabled'], ['acpi supports s s s s'], ['acpi using ioapic for interrupt routing'], ['pci using host bridge windows from acpi if necessary use pcinocrs and report a bug'], ['acpi enabled gpes in block to f'], ['acpi pci root bridge pci domain bus ff'], ['acpi pnpa osc os supports aspm clockpm segments msi hpxtype'], ['acpi pnpa fail to add mmconfig information cant access extended pci configuration space under this bridge'], ['acpiphp slot registered'], ['acpiphp slot registered'], ['acpiphp slot registered'], ['acpiphp slot registered'], ['acpiphp slot registered'], ['acpiphp slot registered'], ['acpiphp slot registered'], ['acpiphp slot registered'], ['acpiphp slot registered'], ['acpiphp slot registered'], ['acpiphp slot registered'], ['acpiphp slot registered'], ['acpiphp slot registered'], ['acpiphp slot registered'], ['acpiphp slot registered'], ['acpiphp slot registered'], ['acpiphp slot registered'], ['acpiphp slot registered'], ['acpiphp slot registered'], ['acpiphp slot registered'], ['acpiphp slot registered'], ['acpiphp slot registered'], ['acpiphp slot registered'], ['acpiphp slot registered'], ['acpiphp slot registered'], ['acpiphp slot registered'], ['acpiphp slot registered'], ['acpiphp slot registered'], ['acpiphp slot registered'], ['pci host bridge to bus'], ['pcibus root bus resource io xxcf window'], ['pcibus root bus resource io xdxffff window'], ['pcibus root bus resource mem xaxbffff window'], ['pcibus root bus resource mem xcxfebfffff window'], ['pcibus root bus resource mem xxbfffffff window'], ['pcibus root bus resource bus ff'], ['pci type class x'], ['pci type class x'], ['pci type class x'], ['pci reg x io xcxcf'], ['pci legacy ide quirk reg x io xfxf'], ['pci legacy ide quirk reg x io xf'], ['pci legacy ide quirk reg x io xx'], ['pci legacy ide quirk reg xc io x'], ['pci type class xc'], ['pci reg x io xccxcdf'], ['pci type class x'], ['pci quirk io xxf claimed by piix acpi'], ['pci quirk io xxf claimed by piix smb'], ['pci b type class x'], ['pci reg x mem xfcxfdffffff pref'], ['pci reg x mem xfebxfebfff'], ['pci reg x mem xfebxfebffff pref'], ['pci af type class x'], ['pci reg x io xcxcf'], ['pci reg x mem xfebxfebfff'], ['pci reg x mem xfexfefff bit pref'], ['pci reg x mem xfeaxfeafffff pref'], ['pci af type class x'], ['pci reg x io xcxcf'], ['pci reg x mem xfebxfebfff'], ['pci reg x mem xfexfefff bit pref'], ['pci reg x mem xfebxfebffff pref'], ['pci af type class x'], ['pci reg x io xcxcbf'], ['pci reg x mem xfebxfebfff'], ['pci reg x mem xfexfebfff bit pref'], ['pci af type class xff'], ['pci reg x io xcexcff'], ['pci reg x mem xfecxfeffff bit pref'], ['acpi pci interrupt link lnka irqs'], ['acpi pci interrupt link lnkb irqs'], ['acpi pci interrupt link lnkc irqs'], ['acpi pci interrupt link lnkd irqs'], ['acpi pci interrupt link lnks irqs'], ['iommu default domain type translated'], ['scsi subsystem initialized'], ['libata version loaded'], ['pci vgaarb setting as boot vga device'], ['pci vgaarb vga device added decodesiomemownsiomemlocksnone'], ['pci vgaarb bridge control possible'], ['vgaarb loaded'], ['acpi bus type usb registered'], ['usbcore registered new interface driver usbfs'], ['usbcore registered new interface driver hub'], ['usbcore registered new device driver usb'], ['ppscore linuxpps api ver registered'], ['ppscore software ver copyright rodolfo giometti giomettilinuxit'], ['ptp clock support registered'], ['edac mc ver'], ['pci using acpi for irq routing'], ['pci pcicachelinesize set to bytes'], ['e reserve ram buffer mem xfcxffff'], ['e reserve ram buffer mem xbffdcxbfffffff'], ['netlabel initializing'], ['netlabel domain hash size'], ['netlabel protocols unlabeled cipsov calipso'], ['netlabel unlabeled traffic allowed by default'], ['clocksource switched to clocksource kvmclock'], ['validate bpf'], ['vfs disk quotas dquot'], ['vfs dquotcache hash table entries order bytes'], ['validate ramfs'], ['validate hugetlbfs'], ['apparmor apparmor filesystem enabled'], ['pnp pnp acpi init'], ['pnp plug and play acpi device ids pnpb active'], ['pnp plug and play acpi device ids pnp active'], ['pnp plug and play acpi device ids pnpf active'], ['pnp dma'], ['pnp plug and play acpi device ids pnp active'], ['pnp plug and play acpi device ids pnp active'], ['pnp pnp acpi found devices'], ['thermalsys registered thermal governor fairshare'], ['thermalsys registered thermal governor bangbang'], ['thermalsys registered thermal governor stepwise'], ['thermalsys registered thermal governor userspace'], ['thermalsys registered thermal governor powerallocator'], ['clocksource acpipm mask xffffff maxcycles xffffff maxidlens ns'], ['pcibus resource io xxcf window'], ['pcibus resource io xdxffff window'], ['pcibus resource mem xaxbffff window'], ['pcibus resource mem xcxfebfffff window'], ['pcibus resource mem xxbfffffff window'], ['net registered protocol family'], ['tcplistenportaddrhash hash table entries order bytes linear'], ['tcp established hash table entries order bytes linear'], ['tcp bind hash table entries order bytes linear'], ['tcp hash tables configured established bind'], ['udp hash table entries order bytes linear'], ['udplite hash table entries order bytes linear'], ['net registered protocol family'], ['net registered protocol family'], ['pci piix enabling passive release'], ['pci limiting direct pcipci transfers'], ['pci activating isa dma hang workarounds'], ['pci interrupt link lnkd enabled at irq'], ['pci quirkusbearlyhandoffxx took usecs'], ['pci video device with shadowed rom at mem xcxdffff'], ['pci cls bytes default'], ['trying to unpack rootfs image as initramfs'], ['freeing initrd memory k'], ['pcidma using software bounce buffering for io swiotlb'], ['software io tlb mapped mem xbbfdcxbffdc mb'], ['clocksource tsc mask xffffffffffffffff maxcycles xad maxidlens ns'], ['check scanning for low memory corruption every seconds'], ['initialise system trusted keyrings'], ['key type blacklist registered'], ['workingset timestampbits maxorder bucketorder'], ['zbud loaded'], ['squashfs version phillip lougher'], ['fuse init api version'], ['validate fuse'], ['validate fuse'], ['platform keyring initialized'], ['key type asymmetric registered'], ['asymmetric key parser x registered'], ['block layer scsi generic bsg driver version loaded major'], ['io scheduler mqdeadline registered'], ['shpchp standard hot plug pci controller driver version'], ['intelidle does not run on family model'], ['input power button as deviceslnxsystmlnxpwrbninputinput'], ['acpi power button pwrf'], ['pci interrupt link lnkc enabled at irq'], ['pci interrupt link lnka enabled at irq'], ['pci interrupt link lnkb enabled at irq'], ['serial driver ports irq sharing enabled'], ['ttys at io xf irq basebaud is a a'], ['linux agpgart interface v'], ['loop module loaded'], ['atapiix version'], ['scsi host atapiix'], ['scsi host atapiix'], ['ata pata max mwdma cmd xf ctl xf bmdma xc irq'], ['ata pata max mwdma cmd x ctl x bmdma xc irq'], ['libphy fixed mdio bus probed'], ['tun universal tuntap device driver'], ['ppp generic driver version'], ['vfio user level metadriver version'], ['ehcihcd usb enhanced host controller ehci driver'], ['ehcipci ehci pci platform driver'], ['ehciplatform ehci generic platform driver'], ['ohcihcd usb open host controller ohci driver'], ['ohcipci ohci pci platform driver'], ['ohciplatform ohci generic platform driver'], ['uhcihcd usb universal host controller interface driver'], ['uhcihcd uhci host controller'], ['uhcihcd new usb bus registered assigned bus number'], ['uhcihcd detected ports'], ['uhcihcd irq io base xcc'], ['usb usb new usb device found idvendordb idproduct bcddevice'], ['usb usb new usb device strings mfr product serialnumber'], ['usb usb product uhci host controller'], ['usb usb manufacturer linux generic uhcihcd'], ['usb usb serialnumber'], ['hub usb hub found'], ['hub ports detected'], ['i pnp ps controller pnpkbdpnpfmou at xx irq'], ['serio i kbd port at xx irq'], ['serio i aux port at xx irq'], ['mousedev ps mouse device common for all mice'], ['input at translated set keyboard as devicesplatformiserioinputinput'], ['rtccmos rtc can wake from s'], ['rtccmos registered as rtc'], ['rtccmos alarms up to one day yk bytes nvram'], ['ic dev entries driver'], ['devicemapper uevent version'], ['devicemapper ioctl ioctl initialised dmdevelredhatcom'], ['platform eisa probing eisa bus'], ['platform eisa eisa cannot allocate resource for mainboard'], ['platform eisa cannot allocate resource for eisa slot'], ['platform eisa cannot allocate resource for eisa slot'], ['platform eisa cannot allocate resource for eisa slot'], ['platform eisa cannot allocate resource for eisa slot'], ['platform eisa cannot allocate resource for eisa slot'], ['platform eisa cannot allocate resource for eisa slot'], ['platform eisa cannot allocate resource for eisa slot'], ['platform eisa cannot allocate resource for eisa slot'], ['platform eisa eisa detected cards'], ['ata nodev after polling detection'], ['ata atapi qemu dvdrom max udma'], ['intelpstate cpu model not supported'], ['ledtrigcpu registered to indicate activity on cpus'], ['scsi cdrom qemu qemu dvdrom pq ansi'], ['dropmonitor initializing network drop monitor service'], ['net registered protocol family'], ['sr sr scsimmc drive xx cdrw xaform tray'], ['cdrom uniform cdrom driver revision'], ['sr attached scsi cdrom sr'], ['sr attached scsi generic sg type'], ['segment routing with ipv'], ['net registered protocol family'], ['key type dnsresolver registered'], ['ras correctable errors collector initialized'], ['ipi shorthand broadcast enabled'], ['schedclock marking stable'], ['registered taskstats version'], ['loading compiledin x certificates'], ['loaded x cert build time autogenerated kernel key fcadababadefdbcff'], ['loaded x cert canonical ltd live patch signing dfdacfabecefbfb'], ['loaded x cert canonical ltd kernel module signing feaeeaadbac'], ['zswap loaded using pool lzozbud'], ['key type fscrypt registered'], ['key type fscrypt registered'], ['key type bigkey registered'], ['key type encrypted registered'], ['apparmor apparmor sha policy hashing enabled'], ['ima no tpm chip found activating tpmbypass'], ['ima allocated hash algorithm sha'], ['ima no architecture policies found'], ['evm initialising evm extended attributes'], ['evm securityselinux'], ['evm securitysmack'], ['evm securitysmackexec'], ['evm securitysmacktransmute'], ['evm securitysmackmmap'], ['evm securityapparmor'], ['evm securityima'], ['evm securitycapability'], ['evm hmac attrs x'], ['pm magic number'], ['rtccmos setting system clock to t utc'], ['freeing unused decrypted memory k'], ['freeing unused kernel image memory k'], ['write protecting the kernel readonly data k'], ['freeing unused kernel image memory k'], ['freeing unused kernel image memory k'], ['xmm checked wx mappings passed no wx pages found'], ['xmm checking user space page tables'], ['xmm checked wx mappings passed no wx pages found'], ['run init as init process'], ['input virtualps vmware vmmouse as devicesplatformiserioinputinput'], ['fdc is a sb'], ['piixsmbus smbus host controller at x revision'], ['input virtualps vmware vmmouse as devicesplatformiserioinputinput'], ['cirrus removeconflictingpciframebuffers bar xfc xfdffffff'], ['cirrus removeconflictingpciframebuffers bar xfeb xfebfff'], ['cirrus vgaarb deactivate vga console'], ['console switching to colour dummy device x'], ['drm initialized cirrus for on minor'], ['virtioblk virtio vda byte logical blocks gb gib'], ['fbcon cirrusdrmfb fb is primary device'], ['virtionet virtio ens renamed from eth'], ['console switching to colour frame buffer device x'], ['cirrus fb cirrusdrmfb frame buffer device'], ['virtionet virtio ens renamed from eth'], ['vda vda vda vda'], ['raid ssex gen mbs'], ['raid ssex xor mbs'], ['raid ssex gen mbs'], ['raid ssex xor mbs'], ['raid ssex gen mbs'], ['raid ssex xor mbs'], ['raid using algorithm ssex gen mbs'], ['raid xor mbs rmw enabled'], ['raid using intx recovery algorithm'], ['xor measuring software checksum speed'], ['prefetchsse mbsec'], ['genericsse mbsec'], ['xor using function prefetchsse mbsec'], ['asynctx api initialized async'], ['btrfs loaded crcccrccgeneric'], ['random fast init done'], ['random waitforroot uninitialized urandom read bytes read'], ['random waitforroot uninitialized urandom read bytes read'], ['random waitforroot uninitialized urandom read bytes read'], ['extfs vda mounted filesystem with ordered data mode opts null'], ['systemd inserted module autofs'], ['systemd systemd ubuntu running in system mode pam audit selinux ima apparmor smack sysvinit utmp libcryptsetup gcrypt gnutls acl xz lz seccomp blkid elfutils kmod idn idn pcre defaulthierarchyhybrid'], ['systemd detected virtualization kvm'], ['systemd detected architecture x'], ['systemd set hostname to c'], ['systemd created slice systemmodprobeslice'], ['systemd created slice systemserialxdgettyslice'], ['systemd created slice systemsystemdxdfsckslice'], ['systemd created slice user and session slice'], ['systemd started forward password requests to wall directory watch'], ['systemd set up automount arbitrary executable file formats file system automount point'], ['systemd reached target user and group name lookups'], ['systemd reached target slices'], ['systemd reached target swap'], ['systemd listening on devicemapper event daemon fifos'], ['systemd listening on lvm poll daemon socket'], ['systemd listening on multipathd control socket'], ['systemd listening on syslog socket'], ['systemd listening on fsck to fsckd communication socket'], ['systemd listening on initctl compatibility named pipe'], ['systemd listening on journal audit socket'], ['systemd listening on journal socket devlog'], ['systemd listening on journal socket'], ['systemd listening on network service netlink socket'], ['systemd listening on udev control socket'], ['systemd listening on udev kernel socket'], ['systemd mounting huge pages file system'], ['systemd mounting posix message queue file system'], ['systemd mounting kernel debug file system'], ['systemd mounting kernel trace file system'], ['systemd starting journal service'], ['systemd starting set the console keyboard layout'], ['systemd starting create list of static device nodes for the current kernel'], ['systemd starting monitoring of lvm mirrors snapshots etc using dmeventd or progress polling'], ['systemd condition check resulted in load kernel module drm being skipped'], ['systemd condition check resulted in openvswitch configuration for cleanup being skipped'], ['systemd condition check resulted in set up additional binary formats being skipped'], ['systemd condition check resulted in file system check on root device being skipped'], ['systemd starting load kernel modules'], ['systemd starting remount root and kernel file systems'], ['systemd starting udev coldplug all devices'], ['systemd starting uncomplicated firewall'], ['systemd mounted huge pages file system'], ['systemd mounted posix message queue file system'], ['systemd mounted kernel debug file system'], ['systemd mounted kernel trace file system'], ['systemd finished create list of static device nodes for the current kernel'], ['extfs vda remounted opts null'], ['systemd finished load kernel modules'], ['systemd mounting fuse control file system'], ['systemd mounting kernel configuration file system'], ['systemd starting apply kernel variables'], ['systemd finished remount root and kernel file systems'], ['systemd finished monitoring of lvm mirrors snapshots etc using dmeventd or progress polling'], ['systemd finished uncomplicated firewall'], ['systemd mounted fuse control file system'], ['systemd started journal service'], ['systemdjournald received client request to flush runtime journal'], ['alua device handler registered'], ['emc device handler registered'], ['rdac device handler registered'], ['audit type audit apparmorstatus operationprofileload profileunconfined namelsbrelease pid commapparmorparser'], ['audit type audit apparmorstatus operationprofileload profileunconfined nameusrbinman pid commapparmorparser'], ['audit type audit apparmorstatus operationprofileload profileunconfined namemanfilter pid commapparmorparser'], ['audit type audit apparmorstatus operationprofileload profileunconfined namemangroff pid commapparmorparser'], ['audit type audit apparmorstatus operationprofileload profileunconfined namenvidiamodprobe pid commapparmorparser'], ['audit type audit apparmorstatus operationprofileload profileunconfined namenvidiamodprobekmod pid commapparmorparser'], ['audit type audit apparmorstatus operationprofileload profileunconfined nameusrlibnetworkmanagernmdhcpclientaction pid commapparmorparser'], ['audit type audit apparmorstatus operationprofileload profileunconfined nameusrlibnetworkmanagernmdhcphelper pid commapparmorparser'], ['audit type audit apparmorstatus operationprofileload profileunconfined nameusrlibconnmanscriptsdhclientscript pid commapparmorparser'], ['audit type audit apparmorstatus operationprofileload profileunconfined nameusrsbindhclient pid commapparmorparser'], ['activate starting lxd activation'], ['activate loading snap configuration'], ['activate checking for socket activation support'], ['activate setting lxd socket ownership'], ['activate lxd never started on this system no need to start it now'], ['start up'], ['read etcmultipathconf'], ['path checkers start up'], ['dispatcher no valid path found for iwconfig'], ['started daemon version using authority implementation local version'], ['imuxsock acquired unix socket runsystemdjournalsyslog fd from systemd v'], ['rsyslogds groupid changed to'], ['rsyslogds userid changed to'], ['origin softwarersyslogd swversion xpid xinfohttpswwwrsyslogcom start'], ['maingo exiting on terminated signal'], ['apparmor status apparmor is enabled and all features are available'], ['apparmor status apparmor is enabled and all features are available'], ['daemongo started snapd series classic ubuntu amd linuxgeneric'], ['daemongo adjusting startup timeout by s pessimistic estimate of s plus s per snap'], ['received signal terminating'], ['server listening on port'], ['server listening on port'], ['fsck fsckfat'], ['fsck devvda files clusters'], ['hostnamed changed host name to host'], ['logind session logged out waiting for processes to exit'], ['logind new seat seat'], ['logind watching system buttons on devinputevent power button'], ['logind watching system buttons on devinputevent at translated set keyboard'], ['networkd wait online ens'], ['networkd wait online ens'], ['networkd runsystemdnetworknetplanensnetwork mtubytes in link section and usemtu in dhcp section are set disabling usemtu'], ['networkd runsystemdnetworknetplanensnetwork mtubytes in link section and usemtu in dhcp section are set disabling usemtu'], ['networkd enumeration completed'], ['networkd ens ipv successfully enabled'], ['networkd ens ipv successfully enabled'], ['networkd ens link up'], ['networkd ens gained carrier'], ['networkd ens link up'], ['networkd ens gained carrier'], ['networkd ens dhcpv address via'], ['networkd ens dhcpv address via'], ['networkd ens gained ipvll'], ['networkd ens gained ipvll'], ['resolved positive trust anchors'], ['resolved in ds edbbfdacbdcdebbccfecd'], ['resolved negative trust anchors inaddrarpa inaddrarpa inaddrarpa inaddrarpa inaddrarpa inaddrarpa inaddrarpa inaddrarpa inaddrarpa inaddrarpa inaddrarpa inaddrarpa inaddrarpa inaddrarpa inaddrarpa inaddrarpa inaddrarpa inaddrarpa dfiparpa corp home internal intranet lan local private test'], ['resolved using system hostname c'], ['sysctl not setting netipvconfallpromotesecondaries explicit setting exists'], ['sysctl not setting netipvconfdefaultpromotesecondaries explicit setting exists'], ['timesyncd network configuration changed trying to establish connection'], ['timesyncd network configuration changed trying to establish connection'], ['timesyncd network configuration changed trying to establish connection'], ['timesyncd network configuration changed trying to establish connection'], ['timesyncd network configuration changed trying to establish connection'], ['udevd using default interface naming scheme v'], ['udevd using default interface naming scheme v'], ['udevd ethtool autonegotiation is unset or enabled the speed and duplex are not writable'], ['udevd could not set wakeonlan of ens to off operation not supported'], ['udevd ethtool autonegotiation is unset or enabled the speed and duplex are not writable'], ['udevd could not set wakeonlan of ens to off operation not supported'], ['udevd ethtool autonegotiation is unset or enabled the speed and duplex are not writable'], ['stopped target graphical interface'], ['stopped target host and network name lookups'], ['stopped target timers'], ['aptdailyupgradetimer succeeded'], ['stopped daily apt upgrade and clean activities'], ['aptdailytimer succeeded'], ['stopped daily apt download activities'], ['escruballtimer succeeded'], ['stopped periodic ext online metadata check for all filesystems'], ['fstrimtimer succeeded'], ['stopped discard unused blocks once a week'], ['fwupdrefreshtimer succeeded'], ['stopped refresh fwupd metadata regularly'], ['logrotatetimer succeeded'], ['stopped daily rotation of log files'], ['mandbtimer succeeded'], ['stopped daily mandb regeneration'], ['motdnewstimer succeeded'], ['stopped message of the day'], ['pamunixsystemdusersession session closed for user ubuntu'], ['systemdtmpfilescleantimer succeeded'], ['stopped daily cleanup of temporary directories'], ['stopped target system time synchronized'], ['stopped target system time set'], ['lvmlvmpolldsocket succeeded'], ['closed lvm poll daemon socket'], ['systemdrfkillsocket succeeded'], ['closed loadsave rf kill switch status devrfkill watch'], ['stopping accounts service'], ['stopping availability of block devices'], ['cloudfinalservice succeeded'], ['stopped execute cloud userfinal scripts'], ['stopped target multiuser system'], ['stopped target login prompts'], ['stopping lsb automatic crash report generation'], ['stopping deferred execution scheduler'], ['cloudconfigservice succeeded'], ['stopped apply the settings specified in cloudconfig'], ['stopped target cloudconfig availability'], ['stopped target network is online'], ['stopping regular background program processing daemon'], ['stopping create final runtime dir for shutdown pivot root'], ['stopping getty on tty'], ['stopping lsb record successful boot for grub'], ['stopping haproxy load balancer'], ['stopping irqbalance daemon'], ['stopping dispatcher daemon for systemdnetworkd'], ['stopping authorization manager'], ['stopping serial getty on ttys'], ['snapdseededservice succeeded'], ['stopped wait until snapd is fully seeded'], ['stopping snap daemon'], ['condition check resulted in ubuntu core allsnaps system shutdown helper setup service being skipped'], ['stopping openbsd secure shell server'], ['systemdnetworkdwaitonlineservice succeeded'], ['stopped wait for network to be configured'], ['stopping loadsave random seed'], ['stopping unattended upgrades shutdown'], ['accountsdaemonservice succeeded'], ['stopped accounts service'], ['cronservice succeeded'], ['stopped regular background program processing daemon'], ['irqbalanceservice succeeded'], ['stopped irqbalance daemon'], ['networkddispatcherservice succeeded'], ['stopped dispatcher daemon for systemdnetworkd'], ['snapdservice succeeded'], ['stopped snap daemon'], ['atdservice succeeded'], ['stopped deferred execution scheduler'], ['serialgettyttysservice succeeded'], ['stopped serial getty on ttys'], ['gettyttyservice succeeded'], ['stopped getty on tty'], ['sshservice succeeded'], ['stopped openbsd secure shell server'], ['polkitservice succeeded'], ['stopped authorization manager'], ['removed slice systemgettyslice'], ['removed slice systemserialxdgettyslice'], ['condition check resulted in show plymouth reboot screen being skipped'], ['sessionscope succeeded'], ['stopped session of user ubuntu'], ['stopping user manager for uid'], ['stopped target main user target'], ['stopped target basic system'], ['stopped target paths'], ['stopped target sockets'], ['stopped target timers'], ['dbussocket succeeded'], ['closed dbus user message bus socket'], ['dirmngrsocket succeeded'], ['closed gnupg network certificate management daemon'], ['gpgagentbrowsersocket succeeded'], ['closed gnupg cryptographic agent and passphrase cache access for web browsers'], ['gpgagentextrasocket succeeded'], ['closed gnupg cryptographic agent and passphrase cache restricted'], ['gpgagentsshsocket succeeded'], ['closed gnupg cryptographic agent sshagent emulation'], ['gpgagentsocket succeeded'], ['mounted kernel configuration file system'], ['condition check resulted in rebuild hardware database being skipped'], ['starting flush journal to persistent storage'], ['condition check resulted in platform persistent storage archival being skipped'], ['starting loadsave random seed'], ['starting create system users'], ['finished set the console keyboard layout'], ['finished udev coldplug all devices'], ['finished loadsave random seed'], ['starting udev wait for complete device initialization'], ['finished apply kernel variables'], ['finished create system users'], ['starting create static device nodes in dev'], ['finished create static device nodes in dev'], ['starting udev kernel device manager'], ['started udev kernel device manager'], ['condition check resulted in show plymouth boot screen being skipped'], ['started dispatch password requests to console directory watch'], ['condition check resulted in forward password requests to plymouth directory watch being skipped'], ['reached target local encrypted volumes'], ['found device devttys'], ['listening on loadsave rf kill switch status devrfkill watch'], ['found device devdiskbylabeluefi'], ['finished udev wait for complete device initialization'], ['starting devicemapper multipath device controller'], ['started devicemapper multipath device controller'], ['reached target local file systems pre'], ['mounting mount unit for core revision'], ['mounting mount unit for lxd revision'], ['mounting mount unit for lxd revision'], ['mounting mount unit for snapd revision'], ['starting file system check on devdiskbylabeluefi'], ['started file system check daemon to report status'], ['mounted mount unit for core revision'], ['mounted mount unit for lxd revision'], ['mounted mount unit for snapd revision'], ['mounted mount unit for lxd revision'], ['finished file system check on devdiskbylabeluefi'], ['mounting bootefi'], ['mounted bootefi'], ['reached target local file systems'], ['starting load apparmor profiles'], ['starting set console font and keymap'], ['starting create final runtime dir for shutdown pivot root'], ['condition check resulted in lxd agent p mount being skipped'], ['condition check resulted in lxd agent being skipped'], ['starting tell plymouth to write out runtime data'], ['condition check resulted in store a system token in an efi variable being skipped'], ['condition check resulted in commit a transient machineid on disk being skipped'], ['finished set console font and keymap'], ['finished create final runtime dir for shutdown pivot root'], ['plymouthreadwriteservice succeeded'], ['finished tell plymouth to write out runtime data'], ['finished load apparmor profiles'], ['starting load apparmor profiles managed internally by snapd'], ['finished load apparmor profiles managed internally by snapd'], ['finished flush journal to persistent storage'], ['starting create volatile files and directories'], ['finished create volatile files and directories'], ['starting network time synchronization'], ['starting update utmp about system bootshutdown'], ['condition check resulted in authentication service for virtual machines hosted on vmware being skipped'], ['condition check resulted in service for virtual machines hosted on vmware being skipped'], ['starting initial cloudinit job prenetworking'], ['finished update utmp about system bootshutdown'], ['started network time synchronization'], ['reached target system time set'], ['reached target system time synchronized'], ['finished initial cloudinit job prenetworking'], ['reached target network pre'], ['starting network service'], ['started network service'], ['starting wait for network to be configured'], ['starting network name resolution'], ['started network name resolution'], ['reached target network'], ['reached target host and network name lookups'], ['finished wait for network to be configured'], ['starting initial cloudinit job metadata service crawler'], ['cloudinitservice main process exited codeexited statusfailure'], ['cloudinitservice failed with result exitcode'], ['failed to start initial cloudinit job metadata service crawler'], ['reached target cloudconfig availability'], ['reached target network is online'], ['reached target system initialization'], ['condition check resulted in process error reports when automatic reporting is enabled file watch being skipped'], ['started daily apt download activities'], ['started daily apt upgrade and clean activities'], ['started periodic ext online metadata check for all filesystems'], ['started discard unused blocks once a week'], ['started refresh fwupd metadata regularly'], ['started daily rotation of log files'], ['started daily mandb regeneration'], ['started message of the day'], ['condition check resulted in timer to automatically fetch and run repair assertions being skipped'], ['started daily cleanup of temporary directories'], ['reached target paths'], ['reached target timers'], ['condition check resulted in unix socket for apport crash forwarding being skipped'], ['listening on dbus system message bus socket'], ['listening on openiscsi iscsid socket'], ['listening on socket unix for snap application lxddaemon'], ['starting socket activation for snappy daemon'], ['listening on uuid daemon activation socket'], ['condition check resulted in login to default iscsi targets being skipped'], ['reached target remote file systems pre'], ['reached target remote file systems'], ['starting availability of block devices'], ['listening on socket activation for snappy daemon'], ['finished availability of block devices'], ['reached target sockets'], ['reached target basic system'], ['starting accounts service'], ['starting lsb automatic crash report generation'], ['starting deferred execution scheduler'], ['started regular background program processing daemon'], ['started dbus system message bus'], ['started save initial kernel messages after boot'], ['starting remove stale online ext metadata check snapshots'], ['condition check resulted in getty on ttytty if dbus and logind are not available being skipped'], ['starting lsb record successful boot for grub'], ['started irqbalance daemon'], ['starting dispatcher daemon for systemdnetworkd'], ['condition check resulted in set the cpu frequency scaling governor being skipped'], ['condition check resulted in pollinate to seed the pseudo random number generator being skipped'], ['condition check resulted in fast remote file copy program daemon being skipped'], ['starting system logging service'], ['condition check resulted in secure boot updates for db and dbx being skipped'], ['starting service for snap application lxdactivate'], ['condition check resulted in automatically repair incorrect ownerpermissions on core devices being skipped'], ['condition check resulted in wait for the ubuntu core chooser trigger being skipped'], ['starting snap daemon'], ['starting openbsd secure shell server'], ['starting login service'], ['starting permit user sessions'], ['starting thermal daemon service'], ['started deferred execution scheduler'], ['finished permit user sessions'], ['starting hold until boot process finishes up'], ['starting terminate plymouth boot screen'], ['plymouthquitwaitservice succeeded'], ['finished hold until boot process finishes up'], ['started serial getty on ttys'], ['starting set console scheme'], ['plymouthquitservice succeeded'], ['finished terminate plymouth boot screen'], ['finished set console scheme'], ['created slice systemgettyslice'], ['started getty on tty'], ['reached target login prompts'], ['escrubreapservice succeeded'], ['finished remove stale online ext metadata check snapshots'], ['started lsb automatic crash report generation'], ['started lsb record successful boot for grub'], ['starting grub failed boot detection'], ['started login service'], ['starting hostname service'], ['started unattended upgrades shutdown'], ['grubinitrdfallbackservice succeeded'], ['finished grub failed boot detection'], ['started system logging service'], ['starting haproxy load balancer'], ['started openbsd secure shell server'], ['started hostname service'], ['starting authorization manager'], ['started authorization manager'], ['started haproxy load balancer'], ['started thermal daemon service'], ['started dispatcher daemon for systemdnetworkd'], ['thermaldservice succeeded'], ['started accounts service'], ['tmpsnaprootfskcbcxmount succeeded'], ['tmpsanityxdmountpointxdmount succeeded'], ['started snap daemon'], ['starting wait until snapd is fully seeded'], ['finished wait until snapd is fully seeded'], ['starting apply the settings specified in cloudconfig'], ['condition check resulted in auto import assertions from block devices being skipped'], ['snaplxdactivateservice succeeded'], ['finished service for snap application lxdactivate'], ['reached target multiuser system'], ['reached target graphical interface'], ['starting update utmp about system runlevel changes'], ['systemdupdateutmprunlevelservice succeeded'], ['finished update utmp about system runlevel changes'], ['finished apply the settings specified in cloudconfig'], ['starting execute cloud userfinal scripts'], ['finished execute cloud userfinal scripts'], ['reached target cloudinit target'], ['startup finished in s kernel s userspace s'], ['dmesgservice succeeded'], ['warnno rapl sysfs present'], ['warn cpuid levels familymodelstepping x'], ['warn need linux powercap sysfs'], ['io warning failed to load external entity etcthermaldthermalconfxml'], ['warnerror could not parse file etcthermaldthermalconfxml'], ['warnunsupported cpu model use thermalconfxml file or run with ignorecpuidcheck'], ['errthd engine start failed'], ['systemdudevsettleservice is deprecated'], ['collectd pluginreadthread readfunction of the virt plugin took seconds which is above its read interval seconds you might want to adjust the interval or readthreads settings'], ['kernel kvm vcpu guest rip xffffffffaee disabled perfctr wrmsr xc data xffff'], ['ovs vswitchd ovssocketutilerrdropped log messages in last seconds most recently seconds ago due to excessive rate'], ['ovs vswitchd ovssocketutilerreno is not a valid ip address'], ['ovs vswitchd ovssocketutilerreno is not a valid ip address'], ['ovs vswitchd ovssocketutilerreno is not a valid ip address'], ['ovs vswitchd ovssocketutilerreno is not a valid ip address'], ['ovs vswitchd ovssocketutilerreno is not a valid ip address'], ['random crng init done'], ['random urandom warnings missed due to ratelimiting'], ['timesyncd initial synchronization to time server ntpubuntucom'], ['systemdfsckdservice succeeded'], ['systemdhostnamedservice succeeded'], ['kernel kvm vcpu guest rip xffffffffce disabled perfctr wrmsr xc data xffff'], ['kernel kvm vcpu guest rip xffffffff disabled perfctr wrmsr xc data xffff'], ['ovs vswitchd ovssocketutilerrdropped log messages in last seconds most recently seconds ago due to excessive rate'], ['ovs vswitchd ovssocketutilerreno is not a valid ip address'], ['accepted password for ubuntu from port ssh'], ['pamunixsshdsession session opened for user ubuntu by uid'], ['logind new session of user ubuntu'], ['created slice user slice of uid'], ['starting user runtime directory runuser'], ['finished user runtime directory runuser'], ['starting user manager for uid'], ['pamunixsystemdusersession session opened for user ubuntu by uid'], ['reached target paths'], ['reached target timers'], ['starting dbus user message bus socket'], ['listening on gnupg network certificate management daemon'], ['listening on gnupg cryptographic agent and passphrase cache access for web browsers'], ['listening on gnupg cryptographic agent and passphrase cache restricted'], ['listening on gnupg cryptographic agent sshagent emulation'], ['listening on gnupg cryptographic agent and passphrase cache'], ['listening on debconf communication socket'], ['listening on rest api socket for snapd user session agent'], ['listening on dbus user message bus socket'], ['reached target sockets'], ['reached target basic system'], ['started user manager for uid'], ['started session of user ubuntu'], ['reached target main user target'], ['startup finished in ms'], ['accepted password for ubuntu from port ssh'], ['pamunixsshdsession session opened for user ubuntu by uid'], ['logind new session of user ubuntu'], ['started session of user ubuntu'], ['ovs vswitchd ovssocketutilerrdropped log messages in last seconds most recently seconds ago due to excessive rate'], ['ovs vswitchd ovssocketutilerreno is not a valid ip address'], ['ovs vswitchd ovssocketutilerreno is not a valid ip address'], ['ovs vswitchd ovssocketutilerreno is not a valid ip address'], ['ovs vswitchd ovssocketutilerreno is not a valid ip address'], ['ovs vswitchd ovssocketutilerreno is not a valid ip address'], ['starting cleanup of temporary directories'], ['systemdtmpfilescleanservice succeeded'], ['finished cleanup of temporary directories']]\n",
            "num_sent= 1264\n",
            "total unique sentences= 1022\n",
            "tokeniizer.word_index= {'<oov>': 1, 'acpiphp slot registered': 2, 'ovs vswitchd ovssocketutilerreno is not a valid ip address': 3, 'init ciinfo': 4, 'platform eisa cannot allocate resource for eisa slot': 5, 'disabled': 6, 'net registered protocol family': 7, 'acpi irq used by override': 8, 'timesyncd network configuration changed trying to establish connection': 9, 'storehelpersgo cannot refresh snap has no updates available core lxd snapd': 10, 'autorefreshgo autorefresh all snaps are uptodate': 11, 'srat pxm apic x node': 12, 'acpi intsrcovr bus busirq globalirq high level': 13, 'kvm setup async pf for cpu': 14, 'pci type class x': 15, 'pci reg x mem xfebxfebfff': 16, 'daemon system activating via systemd service nameorgfreedesktopfwupd unitfwupdservice requested by uid pid commusrbinfwupdmgr refresh nometadatacheck labelunconfined': 17, 'daemon system successfully activated service orgfreedesktopfwupd': 18, 'starting refresh fwupd metadata and update motd': 19, 'starting firmware update daemon': 20, 'started firmware update daemon': 21, 'fwupdrefreshservice succeeded': 22, 'finished refresh fwupd metadata and update motd': 23, 'fwupdservice succeeded': 24, 'pamunixsshdsession session closed for user ubuntu': 25, 'logind session logged out waiting for processes to exit': 26, 'sessionscope succeeded': 27, 'stopped target timers': 28, 'accepted password for ubuntu from port ssh': 29, 'pamunixsshdsession session opened for user ubuntu by uid': 30, 'logind new session of user ubuntu': 31, 'reached target paths': 32, 'reached target timers': 33, 'reached target sockets': 34, 'reached target basic system': 35, 'started session of user ubuntu': 36, 'smpboot cpu converting physical to logical die': 37, 'pci reg x io xcxcf': 38, 'pci af type class x': 39, 'pnp plug and play acpi device ids pnp active': 40, 'freeing unused kernel image memory k': 41, 'raid ssex gen mbs': 42, 'raid ssex xor mbs': 43, 'random waitforroot uninitialized urandom read bytes read': 44, 'udevd ethtool autonegotiation is unset or enabled the speed and duplex are not writable': 45, 'ovs vswitchd ovssocketutilerrdropped log messages in last seconds most recently seconds ago due to excessive rate': 46, 'news pure upstream kubernetes smallest simplest cluster ops': 47, 'news httpsmicroksio': 48, 'starting message of the day': 49, 'motdnewsservice succeeded': 50, 'finished message of the day': 51, 'systemd resolved server returned error nxdomain mitigating potential dns violation dve retrying transaction with reduced feature level udp': 52, 'systemd starting daily apt download activities': 53, 'systemd started daily apt download activities': 54, 'starting daily apt download activities': 55, 'aptdailyservice succeeded': 56, 'finished daily apt download activities': 57, 'motd news pure upstream kubernetes smallest simplest cluster ops': 58, 'motd news httpsmicroksio': 59, 'systemd starting message of the day': 60, 'systemd started message of the day': 61, 'received disconnect from port disconnected by user': 62, 'disconnected from user ubuntu port': 63, 'logind removed session': 64, 'stopping user manager for uid': 65, 'stopped target main user target': 66, 'stopped target basic system': 67, 'stopped target paths': 68, 'stopped target sockets': 69, 'dbussocket succeeded': 70, 'closed dbus user message bus socket': 71, 'dirmngrsocket succeeded': 72, 'closed gnupg network certificate management daemon': 73, 'gpgagentbrowsersocket succeeded': 74, 'closed gnupg cryptographic agent and passphrase cache access for web browsers': 75, 'gpgagentextrasocket succeeded': 76, 'closed gnupg cryptographic agent and passphrase cache restricted': 77, 'gpgagentsshsocket succeeded': 78, 'closed gnupg cryptographic agent sshagent emulation': 79, 'gpgagentsocket succeeded': 80, 'starting cleanup of temporary directories': 81, 'systemdtmpfilescleanservice succeeded': 82, 'finished cleanup of temporary directories': 83, 'created slice user slice of uid': 84, 'starting user runtime directory runuser': 85, 'finished user runtime directory runuser': 86, 'starting user manager for uid': 87, 'pamunixsystemdusersession session opened for user ubuntu by uid': 88, 'starting dbus user message bus socket': 89, 'listening on gnupg network certificate management daemon': 90, 'listening on gnupg cryptographic agent and passphrase cache access for web browsers': 91, 'listening on gnupg cryptographic agent and passphrase cache restricted': 92, 'listening on gnupg cryptographic agent sshagent emulation': 93, 'listening on gnupg cryptographic agent and passphrase cache': 94, 'listening on debconf communication socket': 95, 'listening on rest api socket for snapd user session agent': 96, 'listening on dbus user message bus socket': 97, 'reached target main user target': 98, 'started user manager for uid': 99, 'startup finished in ms': 100, 'done': 101, 'init ciinfo lo true host': 102, 'init ciinfo route ipv info': 103, 'init ciinfo ens ug': 104, 'init ciinfo ens u': 105, 'init ciinfo fe ens u': 106, 'init ciinfo local ens u': 107, 'init ciinfo multicast ens u': 108, 'init': 109, 'acpi local apic address xfee': 110, 'dma zone pages used for memmap': 111, 'dma zone pages lifo batch': 112, 'validate cgroup': 113, 'kvmclock cpu msr c secondary cpu clock': 114, 'pci reg x mem xfebxfebffff pref': 115, 'pci reg x mem xfexfefff bit pref': 116, 'validate fuse': 117, 'scsi host atapiix': 118, 'key type fscrypt registered': 119, 'xmm checked wx mappings passed no wx pages found': 120, 'input virtualps vmware vmmouse as devicesplatformiserioinputinput': 121, 'virtionet virtio ens renamed from eth': 122, 'apparmor status apparmor is enabled and all features are available': 123, 'server listening on port': 124, 'networkd wait online ens': 125, 'networkd runsystemdnetworknetplanensnetwork mtubytes in link section and usemtu in dhcp section are set disabling usemtu': 126, 'networkd ens ipv successfully enabled': 127, 'networkd ens link up': 128, 'networkd ens gained carrier': 129, 'networkd ens dhcpv address via': 130, 'networkd ens gained ipvll': 131, 'udevd using default interface naming scheme v': 132, 'udevd could not set wakeonlan of ens to off operation not supported': 133, 'mounting mount unit for lxd revision': 134, 'mounted mount unit for lxd revision': 135, 'starting rotate log files': 136, 'starting daily mandb regeneration': 137, 'mandbservice succeeded': 138, 'finished daily mandb regeneration': 139, 'logrotateservice succeeded': 140, 'finished rotate log files': 141, 'fetching metadata httpscdnfwupdorgdownloadsfirmwarexmlgz': 142, 'fetching signature httpscdnfwupdorgdownloadsfirmwarexmlgzasc': 143, 'successfully downloaded new metadata local devices supported': 144, 'starting online ext metadata check for all filesystems': 145, 'escruballservice succeeded': 146, 'finished online ext metadata check for all filesystems': 147, 'systemd starting daily apt upgrade and clean activities': 148, 'systemd started daily apt upgrade and clean activities': 149, 'apachectl ah apache could not reliably determine the servers fully qualified domain name using set the servername directive globally to suppress this message': 150, 'systemd reloading the apache http server': 151, 'systemd reloaded the apache http server': 152, 'daemon start': 153, 'daemon system activating via systemd service nameorgfreedesktoppackagekit unitpackagekitservice requested by uid pid commusrbingdbus call system dest orgfreedeskto labelunconfined': 154, 'daemon system successfully activated service orgfreedesktoppackagekit': 155, 'starting packagekit daemon': 156, 'started packagekit daemon': 157, 'daemon quit': 158, 'packagekitservice succeeded': 159, 'starting daily apt upgrade and clean activities': 160, 'aptdailyupgradeservice succeeded': 161, 'finished daily apt upgrade and clean activities': 162, 'closed gnupg cryptographic agent and passphrase cache': 163, 'pkdebconfhelpersocket succeeded': 164, 'closed debconf communication socket': 165, 'snapdsessionagentsocket succeeded': 166, 'closed rest api socket for snapd user session agent': 167, 'reached target shutdown': 168, 'systemdexitservice succeeded': 169, 'finished exit the session': 170, 'reached target exit the session': 171, 'userservice succeeded': 172, 'stopped user manager for uid': 173, 'stopping user runtime directory runuser': 174, 'runusermount succeeded': 175, 'userruntimedirservice succeeded': 176, 'stopped user runtime directory runuser': 177, 'removed slice user slice of uid': 178, 'systemd starting cleanup of temporary directories': 179, 'systemd started cleanup of temporary directories': 180, 'logind creating runnologin blocking further logins': 181, 'stopping session of user ubuntu': 182, 'removed slice systemmodprobeslice': 183, 'stopped target cloudinit target': 184, 'daemon started daemon version': 185, 'systemd restarting apparmor': 186, 'systemd reloading apparmor profiles': 187, 'systemd skipping profile in etcapparmorddisable usrsbinrsyslogd': 188, 'stopping automatic crash report generation apport': 189, 'starting automatic crash report generation apport': 190, 'deactivating block devices': 191, 'init cloudinit v gbadadubuntu running initlocal at sun may up seconds': 192, 'init cloudinit v gbadadubuntu running init at sun may up seconds': 193, 'init ciinfo net device info': 194, 'init ciinfo device up address mask scope hwaddress': 195, 'init ciinfo ens true global faecbfdb': 196, 'init ciinfo ens true fefefffecbfdb link faecbfdb': 197, 'init ciinfo ens true global faee': 198, 'init ciinfo ens true fefefffee link faee': 199, 'init ciinfo route destination gateway genmask interface flags': 200, 'init ciinfo ens uh': 201, 'init ciinfo ens ugh': 202, 'init ciinfo route destination gateway interface flags': 203, 'init utilpywarning failed stage init': 204, 'init failed run of stage init': 205, 'init traceback most recent call last': 206, 'init file usrlibpythondistpackagescloudinitcmdmainpy line in statuswrapper': 207, 'init ret functorname args': 208, 'init file usrlibpythondistpackagescloudinitcmdmainpy line in maininit': 209, 'init initupdate': 210, 'init file usrlibpythondistpackagescloudinitstagespy line in update': 211, 'init selfstorerawvendordataselfdatasourcegetvendordataraw': 212, 'init file usrlibpythondistpackagescloudinitsourcesinitpy line in getvendordataraw': 213, 'init return selfvendordataraw': 214, 'init attributeerror datasourceconfigdrive object has no attribute vendordataraw': 215, 'init cloudinit v gbadadubuntu running modulesconfig at sun may up seconds': 216, 'init cloudinit v gbadadubuntu running modulesfinal at sun may up seconds': 217, 'init cloudinit v gbadadubuntu finished at sun may datasource datasourceconfigdrive netversourcedevsr up seconds': 218, 'cron info pidfile fd': 219, 'cron info running reboot jobs': 220, 'daemon dbus unknown group power in message bus configuration file': 221, 'daemon system apparmor dbus mediation is enabled': 222, 'daemon system activating via systemd service nameorgfreedesktophostname unitdbusorgfreedesktophostnameservice requested by uid pid commlibsystemdsystemdnetworkd labelunconfined': 223, 'daemon system successfully activated service orgfreedesktophostname': 224, 'daemon system activating via systemd service nameorgfreedesktoppolicykit unitpolkitservice requested by uid pid commlibsystemdsystemdhostnamed labelunconfined': 225, 'daemon system successfully activated service orgfreedesktoppolicykit': 226, 'common recording successful boot for grub': 227, 'common done': 228, 'warning exiting master process': 229, 'alert current worker exited with code terminated': 230, 'warning all workers exited exiting': 231, 'notice new worker forked': 232, 'linux version generic builddlcyamd gcc version ubuntu ubuntu ubuntu smp mon apr utc ubuntu generic': 233, 'command line bootimagebootvmlinuzgeneric rootuuidbdddaddbd ro consoletty consolettys': 234, 'kernel supported cpus': 235, 'intel genuineintel': 236, 'amd authenticamd': 237, 'hygon hygongenuine': 238, 'centaur centaurhauls': 239, 'zhaoxin shanghai': 240, 'xfpu x fpu will use fxsave': 241, 'biosprovided physical ram map': 242, 'biose mem xxfbff usable': 243, 'biose mem xfcxffff reserved': 244, 'biose mem xfxfffff reserved': 245, 'biose mem xxbffdbfff usable': 246, 'biose mem xbffdcxbfffffff reserved': 247, 'biose mem xfeffcxfeffffff reserved': 248, 'biose mem xfffcxffffffff reserved': 249, 'biose mem xxfffffff usable': 250, 'nx execute disable protection active': 251, 'smbios present': 252, 'dmi openstack foundation openstack nova bios ubuntu': 253, 'hypervisor detected kvm': 254, 'kvmclock using msrs bd and bd': 255, 'kvmclock cpu msr c primary cpu clock': 256, 'kvmclock using sched offset of cycles': 257, 'clocksource kvmclock mask xffffffffffffffff maxcycles xcdedffb maxidlens ns': 258, 'tsc detected mhz processor': 259, 'e update mem xxfff usable reserved': 260, 'e remove mem xaxfffff usable': 261, 'lastpfn x maxarchpfn x': 262, 'mtrr default type writeback': 263, 'mtrr fixed ranges enabled': 264, 'ffff writeback': 265, 'abffff uncachable': 266, 'cfffff writeprotect': 267, 'mtrr variable ranges enabled': 268, 'base c mask ffc uncachable': 269, 'xpat pat not supported by cpu': 270, 'xpat configuration wb wt uc uc wb wt uc uc': 271, 'lastpfn xbffdc maxarchpfn x': 272, 'found smp mptable at mem xfaxfaf': 273, 'check scanning areas for low memory corruption': 274, 'ramdisk mem xexfff': 275, 'acpi early table checksum verification disabled': 276, 'acpi rsdp xff v bochs': 277, 'acpi rsdt xbffee v bochs bxpcrsdt bxpc': 278, 'acpi facp xbffeb v bochs bxpcfacp bxpc': 279, 'acpi dsdt xbffdfd fb v bochs bxpcdsdt bxpc': 280, 'acpi facs xbffdfd': 281, 'acpi apic xbffef v bochs bxpcapic bxpc': 282, 'acpi srat xbffeff e v bochs bxpcsrat bxpc': 283, 'acpi srat node pxm mem xxffff': 284, 'acpi srat node pxm mem xxbfffffff': 285, 'acpi srat node pxm mem xxfffffff': 286, 'numa node mem xxffff mem xxbfffffff mem xxbfffffff': 287, 'numa node mem xxbfffffff mem xxfffffff mem xxfffffff': 288, 'nodedata allocated mem xffdxfffcfff': 289, 'zone ranges': 290, 'dma mem xxffffff': 291, 'dma mem xxffffffff': 292, 'normal mem xxfffffff': 293, 'device empty': 294, 'movable zone start for each node': 295, 'early memory node ranges': 296, 'node mem xxefff': 297, 'node mem xxbffdbfff': 298, 'node mem xxfffffff': 299, 'zeroed struct page in unavailable ranges pages': 300, 'initmem setup node mem xxfffffff': 301, 'on node totalpages': 302, 'dma zone pages reserved': 303, 'normal zone pages used for memmap': 304, 'normal zone pages lifo batch': 305, 'acpi pmtimer io port x': 306, 'acpi lapicnmi acpiidxff dfl dfl lintx': 307, 'ioapic apicid version address xfec gsi': 308, 'acpi intsrcovr bus busirq globalirq dfl dfl': 309, 'using acpi madt for smp configuration information': 310, 'smpboot allowing cpus hotplug cpus': 311, 'pm registered nosave memory mem xxfff': 312, 'pm registered nosave memory mem xfxffff': 313, 'pm registered nosave memory mem xaxeffff': 314, 'pm registered nosave memory mem xfxfffff': 315, 'pm registered nosave memory mem xbffdcxbfffffff': 316, 'pm registered nosave memory mem xcxfeffbfff': 317, 'pm registered nosave memory mem xfeffcxfeffffff': 318, 'pm registered nosave memory mem xffxfffbffff': 319, 'pm registered nosave memory mem xfffcxffffffff': 320, 'mem xcxfeffbfff available for pci devices': 321, 'booting paravirtualized kernel on kvm': 322, 'clocksource refinedjiffies mask xffffffff maxcycles xffffffff maxidlens ns': 323, 'setuppercpu nrcpus nrcpumaskbits nrcpuids nrnodeids': 324, 'percpu embedded pagescpu s r d u': 325, 'pcpualloc s r d u alloc': 326, 'pcpualloc': 327, 'kvmstealtime cpu msr bad': 328, 'built zonelists mobility grouping on total pages': 329, 'policy zone normal': 330, 'kernel command line bootimagebootvmlinuzgeneric rootuuidbdddaddbd ro consoletty consolettys': 331, 'dentry cache hash table entries order bytes linear': 332, 'inodecache hash table entries order bytes linear': 333, 'mem autoinit stackoff heap allocon heap freeoff': 334, 'calgary detecting calgary via bios ebda area': 335, 'calgary unable to locate rio grande table in ebda bailing': 336, 'memory kk available k kernel code k rwdata k rodata k init k bss k reserved k cmareserved': 337, 'random getrandomu called from kmemcacheopenxdx with crnginit': 338, 'slub hwalign order minobjects cpus nodes': 339, 'kerneluser page tables isolation enabled': 340, 'ftrace allocating entries in pages': 341, 'rcu hierarchical rcu implementation': 342, 'rcu rcu restricting cpus from nrcpus to nrcpuids': 343, 'tasks rcu enabled': 344, 'rcu rcu calculated value of schedulerenlistment delay is jiffies': 345, 'rcu adjusting geometry for rcufanoutleaf nrcpuids': 346, 'nrirqs nrirqs preallocated irqs': 347, 'console colour vga x': 348, 'printk console tty enabled': 349, 'printk console ttys enabled': 350, 'acpi core revision': 351, 'apic switch to symmetric io mode setup': 352, 'xapic enabled': 353, 'switched apic routing to physical xapic': 354, 'timer vectorx apic pin apic pin': 355, 'clocksource tscearly mask xffffffffffffffff maxcycles xad maxidlens ns': 356, 'calibrating delay loop skipped preset value bogomips lpj': 357, 'pidmax default minimum': 358, 'lsm security framework initializing': 359, 'yama becoming mindful': 360, 'apparmor apparmor initialized': 361, 'mountcache hash table entries order bytes linear': 362, 'mountpointcache hash table entries order bytes linear': 363, 'validate tmpfs': 364, 'validate proc': 365, 'last level itlb entries kb mb mb': 366, 'last level dtlb entries kb mb mb gb': 367, 'spectre v mitigation usercopyswapgs barriers and user pointer sanitization': 368, 'spectre v mitigation full generic retpoline': 369, 'spectre v spectre v spectrersb mitigation filling rsb on context switch': 370, 'speculative store bypass vulnerable': 371, 'mds vulnerable clear cpu buffers attempted no microcode': 372, 'freeing smp alternatives memory k': 373, 'smpboot cpu intel qemu virtual cpu version family x model x stepping x': 374, 'performance events pmu not available due to virtualization using software events only': 375, 'rcu hierarchical srcu implementation': 376, 'nmi watchdog perf nmi watchdog permanently disabled': 377, 'smp bringing up secondary cpus': 378, 'x booting smp configuration': 379, 'node cpus': 380, 'kvmstealtime cpu msr baad': 381, 'kvmstealtime cpu msr bbd': 382, 'kvmclock cpu msr cc secondary cpu clock': 383, 'kvmstealtime cpu msr bbad': 384, 'smp brought up node cpus': 385, 'smpboot max logical packages': 386, 'smpboot total of processors activated bogomips': 387, 'devtmpfs initialized': 388, 'xmm memory block size mb': 389, 'clocksource jiffies mask xffffffff maxcycles xffffffff maxidlens ns': 390, 'futex hash table entries order bytes linear': 391, 'pinctrl core initialized pinctrl subsystem': 392, 'pm rtc time date': 393, 'audit initializing netlink subsys disabled': 394, 'audit type audit stateinitialized auditenabled res': 395, 'eisa bus registered': 396, 'cpuidle using governor ladder': 397, 'cpuidle using governor menu': 398, 'acpi bus type pci registered': 399, 'acpiphp acpi hot plug pci controller driver version': 400, 'pci using configuration type for base access': 401, 'hugetlb registered mib page size preallocated pages': 402, 'acpi added osimodule device': 403, 'acpi added osiprocessor device': 404, 'acpi added osi scp extensions': 405, 'acpi added osiprocessor aggregator device': 406, 'acpi added osilinuxdellvideo': 407, 'acpi added osilinuxlenovonvhdmiaudio': 408, 'acpi added osilinuxhpihybridgraphics': 409, 'acpi acpi aml tables successfully acquired and loaded': 410, 'acpi interpreter enabled': 411, 'acpi supports s s s s': 412, 'acpi using ioapic for interrupt routing': 413, 'pci using host bridge windows from acpi if necessary use pcinocrs and report a bug': 414, 'acpi enabled gpes in block to f': 415, 'acpi pci root bridge pci domain bus ff': 416, 'acpi pnpa osc os supports aspm clockpm segments msi hpxtype': 417, 'acpi pnpa fail to add mmconfig information cant access extended pci configuration space under this bridge': 418, 'pci host bridge to bus': 419, 'pcibus root bus resource io xxcf window': 420, 'pcibus root bus resource io xdxffff window': 421, 'pcibus root bus resource mem xaxbffff window': 422, 'pcibus root bus resource mem xcxfebfffff window': 423, 'pcibus root bus resource mem xxbfffffff window': 424, 'pcibus root bus resource bus ff': 425, 'pci legacy ide quirk reg x io xfxf': 426, 'pci legacy ide quirk reg x io xf': 427, 'pci legacy ide quirk reg x io xx': 428, 'pci legacy ide quirk reg xc io x': 429, 'pci type class xc': 430, 'pci reg x io xccxcdf': 431, 'pci quirk io xxf claimed by piix acpi': 432, 'pci quirk io xxf claimed by piix smb': 433, 'pci b type class x': 434, 'pci reg x mem xfcxfdffffff pref': 435, 'pci reg x mem xfeaxfeafffff pref': 436, 'pci reg x io xcxcbf': 437, 'pci reg x mem xfexfebfff bit pref': 438, 'pci af type class xff': 439, 'pci reg x io xcexcff': 440, 'pci reg x mem xfecxfeffff bit pref': 441, 'acpi pci interrupt link lnka irqs': 442, 'acpi pci interrupt link lnkb irqs': 443, 'acpi pci interrupt link lnkc irqs': 444, 'acpi pci interrupt link lnkd irqs': 445, 'acpi pci interrupt link lnks irqs': 446, 'iommu default domain type translated': 447, 'scsi subsystem initialized': 448, 'libata version loaded': 449, 'pci vgaarb setting as boot vga device': 450, 'pci vgaarb vga device added decodesiomemownsiomemlocksnone': 451, 'pci vgaarb bridge control possible': 452, 'vgaarb loaded': 453, 'acpi bus type usb registered': 454, 'usbcore registered new interface driver usbfs': 455, 'usbcore registered new interface driver hub': 456, 'usbcore registered new device driver usb': 457, 'ppscore linuxpps api ver registered': 458, 'ppscore software ver copyright rodolfo giometti giomettilinuxit': 459, 'ptp clock support registered': 460, 'edac mc ver': 461, 'pci using acpi for irq routing': 462, 'pci pcicachelinesize set to bytes': 463, 'e reserve ram buffer mem xfcxffff': 464, 'e reserve ram buffer mem xbffdcxbfffffff': 465, 'netlabel initializing': 466, 'netlabel domain hash size': 467, 'netlabel protocols unlabeled cipsov calipso': 468, 'netlabel unlabeled traffic allowed by default': 469, 'clocksource switched to clocksource kvmclock': 470, 'validate bpf': 471, 'vfs disk quotas dquot': 472, 'vfs dquotcache hash table entries order bytes': 473, 'validate ramfs': 474, 'validate hugetlbfs': 475, 'apparmor apparmor filesystem enabled': 476, 'pnp pnp acpi init': 477, 'pnp plug and play acpi device ids pnpb active': 478, 'pnp plug and play acpi device ids pnpf active': 479, 'pnp dma': 480, 'pnp pnp acpi found devices': 481, 'thermalsys registered thermal governor fairshare': 482, 'thermalsys registered thermal governor bangbang': 483, 'thermalsys registered thermal governor stepwise': 484, 'thermalsys registered thermal governor userspace': 485, 'thermalsys registered thermal governor powerallocator': 486, 'clocksource acpipm mask xffffff maxcycles xffffff maxidlens ns': 487, 'pcibus resource io xxcf window': 488, 'pcibus resource io xdxffff window': 489, 'pcibus resource mem xaxbffff window': 490, 'pcibus resource mem xcxfebfffff window': 491, 'pcibus resource mem xxbfffffff window': 492, 'tcplistenportaddrhash hash table entries order bytes linear': 493, 'tcp established hash table entries order bytes linear': 494, 'tcp bind hash table entries order bytes linear': 495, 'tcp hash tables configured established bind': 496, 'udp hash table entries order bytes linear': 497, 'udplite hash table entries order bytes linear': 498, 'pci piix enabling passive release': 499, 'pci limiting direct pcipci transfers': 500, 'pci activating isa dma hang workarounds': 501, 'pci interrupt link lnkd enabled at irq': 502, 'pci quirkusbearlyhandoffxx took usecs': 503, 'pci video device with shadowed rom at mem xcxdffff': 504, 'pci cls bytes default': 505, 'trying to unpack rootfs image as initramfs': 506, 'freeing initrd memory k': 507, 'pcidma using software bounce buffering for io swiotlb': 508, 'software io tlb mapped mem xbbfdcxbffdc mb': 509, 'clocksource tsc mask xffffffffffffffff maxcycles xad maxidlens ns': 510, 'check scanning for low memory corruption every seconds': 511, 'initialise system trusted keyrings': 512, 'key type blacklist registered': 513, 'workingset timestampbits maxorder bucketorder': 514, 'zbud loaded': 515, 'squashfs version phillip lougher': 516, 'fuse init api version': 517, 'platform keyring initialized': 518, 'key type asymmetric registered': 519, 'asymmetric key parser x registered': 520, 'block layer scsi generic bsg driver version loaded major': 521, 'io scheduler mqdeadline registered': 522, 'shpchp standard hot plug pci controller driver version': 523, 'intelidle does not run on family model': 524, 'input power button as deviceslnxsystmlnxpwrbninputinput': 525, 'acpi power button pwrf': 526, 'pci interrupt link lnkc enabled at irq': 527, 'pci interrupt link lnka enabled at irq': 528, 'pci interrupt link lnkb enabled at irq': 529, 'serial driver ports irq sharing enabled': 530, 'ttys at io xf irq basebaud is a a': 531, 'linux agpgart interface v': 532, 'loop module loaded': 533, 'atapiix version': 534, 'ata pata max mwdma cmd xf ctl xf bmdma xc irq': 535, 'ata pata max mwdma cmd x ctl x bmdma xc irq': 536, 'libphy fixed mdio bus probed': 537, 'tun universal tuntap device driver': 538, 'ppp generic driver version': 539, 'vfio user level metadriver version': 540, 'ehcihcd usb enhanced host controller ehci driver': 541, 'ehcipci ehci pci platform driver': 542, 'ehciplatform ehci generic platform driver': 543, 'ohcihcd usb open host controller ohci driver': 544, 'ohcipci ohci pci platform driver': 545, 'ohciplatform ohci generic platform driver': 546, 'uhcihcd usb universal host controller interface driver': 547, 'uhcihcd uhci host controller': 548, 'uhcihcd new usb bus registered assigned bus number': 549, 'uhcihcd detected ports': 550, 'uhcihcd irq io base xcc': 551, 'usb usb new usb device found idvendordb idproduct bcddevice': 552, 'usb usb new usb device strings mfr product serialnumber': 553, 'usb usb product uhci host controller': 554, 'usb usb manufacturer linux generic uhcihcd': 555, 'usb usb serialnumber': 556, 'hub usb hub found': 557, 'hub ports detected': 558, 'i pnp ps controller pnpkbdpnpfmou at xx irq': 559, 'serio i kbd port at xx irq': 560, 'serio i aux port at xx irq': 561, 'mousedev ps mouse device common for all mice': 562, 'input at translated set keyboard as devicesplatformiserioinputinput': 563, 'rtccmos rtc can wake from s': 564, 'rtccmos registered as rtc': 565, 'rtccmos alarms up to one day yk bytes nvram': 566, 'ic dev entries driver': 567, 'devicemapper uevent version': 568, 'devicemapper ioctl ioctl initialised dmdevelredhatcom': 569, 'platform eisa probing eisa bus': 570, 'platform eisa eisa cannot allocate resource for mainboard': 571, 'platform eisa eisa detected cards': 572, 'ata nodev after polling detection': 573, 'ata atapi qemu dvdrom max udma': 574, 'intelpstate cpu model not supported': 575, 'ledtrigcpu registered to indicate activity on cpus': 576, 'scsi cdrom qemu qemu dvdrom pq ansi': 577, 'dropmonitor initializing network drop monitor service': 578, 'sr sr scsimmc drive xx cdrw xaform tray': 579, 'cdrom uniform cdrom driver revision': 580, 'sr attached scsi cdrom sr': 581, 'sr attached scsi generic sg type': 582, 'segment routing with ipv': 583, 'key type dnsresolver registered': 584, 'ras correctable errors collector initialized': 585, 'ipi shorthand broadcast enabled': 586, 'schedclock marking stable': 587, 'registered taskstats version': 588, 'loading compiledin x certificates': 589, 'loaded x cert build time autogenerated kernel key fcadababadefdbcff': 590, 'loaded x cert canonical ltd live patch signing dfdacfabecefbfb': 591, 'loaded x cert canonical ltd kernel module signing feaeeaadbac': 592, 'zswap loaded using pool lzozbud': 593, 'key type bigkey registered': 594, 'key type encrypted registered': 595, 'apparmor apparmor sha policy hashing enabled': 596, 'ima no tpm chip found activating tpmbypass': 597, 'ima allocated hash algorithm sha': 598, 'ima no architecture policies found': 599, 'evm initialising evm extended attributes': 600, 'evm securityselinux': 601, 'evm securitysmack': 602, 'evm securitysmackexec': 603, 'evm securitysmacktransmute': 604, 'evm securitysmackmmap': 605, 'evm securityapparmor': 606, 'evm securityima': 607, 'evm securitycapability': 608, 'evm hmac attrs x': 609, 'pm magic number': 610, 'rtccmos setting system clock to t utc': 611, 'freeing unused decrypted memory k': 612, 'write protecting the kernel readonly data k': 613, 'xmm checking user space page tables': 614, 'run init as init process': 615, 'fdc is a sb': 616, 'piixsmbus smbus host controller at x revision': 617, 'cirrus removeconflictingpciframebuffers bar xfc xfdffffff': 618, 'cirrus removeconflictingpciframebuffers bar xfeb xfebfff': 619, 'cirrus vgaarb deactivate vga console': 620, 'console switching to colour dummy device x': 621, 'drm initialized cirrus for on minor': 622, 'virtioblk virtio vda byte logical blocks gb gib': 623, 'fbcon cirrusdrmfb fb is primary device': 624, 'console switching to colour frame buffer device x': 625, 'cirrus fb cirrusdrmfb frame buffer device': 626, 'vda vda vda vda': 627, 'raid using algorithm ssex gen mbs': 628, 'raid xor mbs rmw enabled': 629, 'raid using intx recovery algorithm': 630, 'xor measuring software checksum speed': 631, 'prefetchsse mbsec': 632, 'genericsse mbsec': 633, 'xor using function prefetchsse mbsec': 634, 'asynctx api initialized async': 635, 'btrfs loaded crcccrccgeneric': 636, 'random fast init done': 637, 'extfs vda mounted filesystem with ordered data mode opts null': 638, 'systemd inserted module autofs': 639, 'systemd systemd ubuntu running in system mode pam audit selinux ima apparmor smack sysvinit utmp libcryptsetup gcrypt gnutls acl xz lz seccomp blkid elfutils kmod idn idn pcre defaulthierarchyhybrid': 640, 'systemd detected virtualization kvm': 641, 'systemd detected architecture x': 642, 'systemd set hostname to c': 643, 'systemd created slice systemmodprobeslice': 644, 'systemd created slice systemserialxdgettyslice': 645, 'systemd created slice systemsystemdxdfsckslice': 646, 'systemd created slice user and session slice': 647, 'systemd started forward password requests to wall directory watch': 648, 'systemd set up automount arbitrary executable file formats file system automount point': 649, 'systemd reached target user and group name lookups': 650, 'systemd reached target slices': 651, 'systemd reached target swap': 652, 'systemd listening on devicemapper event daemon fifos': 653, 'systemd listening on lvm poll daemon socket': 654, 'systemd listening on multipathd control socket': 655, 'systemd listening on syslog socket': 656, 'systemd listening on fsck to fsckd communication socket': 657, 'systemd listening on initctl compatibility named pipe': 658, 'systemd listening on journal audit socket': 659, 'systemd listening on journal socket devlog': 660, 'systemd listening on journal socket': 661, 'systemd listening on network service netlink socket': 662, 'systemd listening on udev control socket': 663, 'systemd listening on udev kernel socket': 664, 'systemd mounting huge pages file system': 665, 'systemd mounting posix message queue file system': 666, 'systemd mounting kernel debug file system': 667, 'systemd mounting kernel trace file system': 668, 'systemd starting journal service': 669, 'systemd starting set the console keyboard layout': 670, 'systemd starting create list of static device nodes for the current kernel': 671, 'systemd starting monitoring of lvm mirrors snapshots etc using dmeventd or progress polling': 672, 'systemd condition check resulted in load kernel module drm being skipped': 673, 'systemd condition check resulted in openvswitch configuration for cleanup being skipped': 674, 'systemd condition check resulted in set up additional binary formats being skipped': 675, 'systemd condition check resulted in file system check on root device being skipped': 676, 'systemd starting load kernel modules': 677, 'systemd starting remount root and kernel file systems': 678, 'systemd starting udev coldplug all devices': 679, 'systemd starting uncomplicated firewall': 680, 'systemd mounted huge pages file system': 681, 'systemd mounted posix message queue file system': 682, 'systemd mounted kernel debug file system': 683, 'systemd mounted kernel trace file system': 684, 'systemd finished create list of static device nodes for the current kernel': 685, 'extfs vda remounted opts null': 686, 'systemd finished load kernel modules': 687, 'systemd mounting fuse control file system': 688, 'systemd mounting kernel configuration file system': 689, 'systemd starting apply kernel variables': 690, 'systemd finished remount root and kernel file systems': 691, 'systemd finished monitoring of lvm mirrors snapshots etc using dmeventd or progress polling': 692, 'systemd finished uncomplicated firewall': 693, 'systemd mounted fuse control file system': 694, 'systemd started journal service': 695, 'systemdjournald received client request to flush runtime journal': 696, 'alua device handler registered': 697, 'emc device handler registered': 698, 'rdac device handler registered': 699, 'audit type audit apparmorstatus operationprofileload profileunconfined namelsbrelease pid commapparmorparser': 700, 'audit type audit apparmorstatus operationprofileload profileunconfined nameusrbinman pid commapparmorparser': 701, 'audit type audit apparmorstatus operationprofileload profileunconfined namemanfilter pid commapparmorparser': 702, 'audit type audit apparmorstatus operationprofileload profileunconfined namemangroff pid commapparmorparser': 703, 'audit type audit apparmorstatus operationprofileload profileunconfined namenvidiamodprobe pid commapparmorparser': 704, 'audit type audit apparmorstatus operationprofileload profileunconfined namenvidiamodprobekmod pid commapparmorparser': 705, 'audit type audit apparmorstatus operationprofileload profileunconfined nameusrlibnetworkmanagernmdhcpclientaction pid commapparmorparser': 706, 'audit type audit apparmorstatus operationprofileload profileunconfined nameusrlibnetworkmanagernmdhcphelper pid commapparmorparser': 707, 'audit type audit apparmorstatus operationprofileload profileunconfined nameusrlibconnmanscriptsdhclientscript pid commapparmorparser': 708, 'audit type audit apparmorstatus operationprofileload profileunconfined nameusrsbindhclient pid commapparmorparser': 709, 'activate starting lxd activation': 710, 'activate loading snap configuration': 711, 'activate checking for socket activation support': 712, 'activate setting lxd socket ownership': 713, 'activate lxd never started on this system no need to start it now': 714, 'start up': 715, 'read etcmultipathconf': 716, 'path checkers start up': 717, 'dispatcher no valid path found for iwconfig': 718, 'started daemon version using authority implementation local version': 719, 'imuxsock acquired unix socket runsystemdjournalsyslog fd from systemd v': 720, 'rsyslogds groupid changed to': 721, 'rsyslogds userid changed to': 722, 'origin softwarersyslogd swversion xpid xinfohttpswwwrsyslogcom start': 723, 'maingo exiting on terminated signal': 724, 'daemongo started snapd series classic ubuntu amd linuxgeneric': 725, 'daemongo adjusting startup timeout by s pessimistic estimate of s plus s per snap': 726, 'received signal terminating': 727, 'fsck fsckfat': 728, 'fsck devvda files clusters': 729, 'hostnamed changed host name to host': 730, 'logind new seat seat': 731, 'logind watching system buttons on devinputevent power button': 732, 'logind watching system buttons on devinputevent at translated set keyboard': 733, 'networkd enumeration completed': 734, 'resolved positive trust anchors': 735, 'resolved in ds edbbfdacbdcdebbccfecd': 736, 'resolved negative trust anchors inaddrarpa inaddrarpa inaddrarpa inaddrarpa inaddrarpa inaddrarpa inaddrarpa inaddrarpa inaddrarpa inaddrarpa inaddrarpa inaddrarpa inaddrarpa inaddrarpa inaddrarpa inaddrarpa inaddrarpa inaddrarpa dfiparpa corp home internal intranet lan local private test': 737, 'resolved using system hostname c': 738, 'sysctl not setting netipvconfallpromotesecondaries explicit setting exists': 739, 'sysctl not setting netipvconfdefaultpromotesecondaries explicit setting exists': 740, 'stopped target graphical interface': 741, 'stopped target host and network name lookups': 742, 'aptdailyupgradetimer succeeded': 743, 'stopped daily apt upgrade and clean activities': 744, 'aptdailytimer succeeded': 745, 'stopped daily apt download activities': 746, 'escruballtimer succeeded': 747, 'stopped periodic ext online metadata check for all filesystems': 748, 'fstrimtimer succeeded': 749, 'stopped discard unused blocks once a week': 750, 'fwupdrefreshtimer succeeded': 751, 'stopped refresh fwupd metadata regularly': 752, 'logrotatetimer succeeded': 753, 'stopped daily rotation of log files': 754, 'mandbtimer succeeded': 755, 'stopped daily mandb regeneration': 756, 'motdnewstimer succeeded': 757, 'stopped message of the day': 758, 'pamunixsystemdusersession session closed for user ubuntu': 759, 'systemdtmpfilescleantimer succeeded': 760, 'stopped daily cleanup of temporary directories': 761, 'stopped target system time synchronized': 762, 'stopped target system time set': 763, 'lvmlvmpolldsocket succeeded': 764, 'closed lvm poll daemon socket': 765, 'systemdrfkillsocket succeeded': 766, 'closed loadsave rf kill switch status devrfkill watch': 767, 'stopping accounts service': 768, 'stopping availability of block devices': 769, 'cloudfinalservice succeeded': 770, 'stopped execute cloud userfinal scripts': 771, 'stopped target multiuser system': 772, 'stopped target login prompts': 773, 'stopping lsb automatic crash report generation': 774, 'stopping deferred execution scheduler': 775, 'cloudconfigservice succeeded': 776, 'stopped apply the settings specified in cloudconfig': 777, 'stopped target cloudconfig availability': 778, 'stopped target network is online': 779, 'stopping regular background program processing daemon': 780, 'stopping create final runtime dir for shutdown pivot root': 781, 'stopping getty on tty': 782, 'stopping lsb record successful boot for grub': 783, 'stopping haproxy load balancer': 784, 'stopping irqbalance daemon': 785, 'stopping dispatcher daemon for systemdnetworkd': 786, 'stopping authorization manager': 787, 'stopping serial getty on ttys': 788, 'snapdseededservice succeeded': 789, 'stopped wait until snapd is fully seeded': 790, 'stopping snap daemon': 791, 'condition check resulted in ubuntu core allsnaps system shutdown helper setup service being skipped': 792, 'stopping openbsd secure shell server': 793, 'systemdnetworkdwaitonlineservice succeeded': 794, 'stopped wait for network to be configured': 795, 'stopping loadsave random seed': 796, 'stopping unattended upgrades shutdown': 797, 'accountsdaemonservice succeeded': 798, 'stopped accounts service': 799, 'cronservice succeeded': 800, 'stopped regular background program processing daemon': 801, 'irqbalanceservice succeeded': 802, 'stopped irqbalance daemon': 803, 'networkddispatcherservice succeeded': 804, 'stopped dispatcher daemon for systemdnetworkd': 805, 'snapdservice succeeded': 806, 'stopped snap daemon': 807, 'atdservice succeeded': 808, 'stopped deferred execution scheduler': 809, 'serialgettyttysservice succeeded': 810, 'stopped serial getty on ttys': 811, 'gettyttyservice succeeded': 812, 'stopped getty on tty': 813, 'sshservice succeeded': 814, 'stopped openbsd secure shell server': 815, 'polkitservice succeeded': 816, 'stopped authorization manager': 817, 'removed slice systemgettyslice': 818, 'removed slice systemserialxdgettyslice': 819, 'condition check resulted in show plymouth reboot screen being skipped': 820, 'stopped session of user ubuntu': 821, 'mounted kernel configuration file system': 822, 'condition check resulted in rebuild hardware database being skipped': 823, 'starting flush journal to persistent storage': 824, 'condition check resulted in platform persistent storage archival being skipped': 825, 'starting loadsave random seed': 826, 'starting create system users': 827, 'finished set the console keyboard layout': 828, 'finished udev coldplug all devices': 829, 'finished loadsave random seed': 830, 'starting udev wait for complete device initialization': 831, 'finished apply kernel variables': 832, 'finished create system users': 833, 'starting create static device nodes in dev': 834, 'finished create static device nodes in dev': 835, 'starting udev kernel device manager': 836, 'started udev kernel device manager': 837, 'condition check resulted in show plymouth boot screen being skipped': 838, 'started dispatch password requests to console directory watch': 839, 'condition check resulted in forward password requests to plymouth directory watch being skipped': 840, 'reached target local encrypted volumes': 841, 'found device devttys': 842, 'listening on loadsave rf kill switch status devrfkill watch': 843, 'found device devdiskbylabeluefi': 844, 'finished udev wait for complete device initialization': 845, 'starting devicemapper multipath device controller': 846, 'started devicemapper multipath device controller': 847, 'reached target local file systems pre': 848, 'mounting mount unit for core revision': 849, 'mounting mount unit for snapd revision': 850, 'starting file system check on devdiskbylabeluefi': 851, 'started file system check daemon to report status': 852, 'mounted mount unit for core revision': 853, 'mounted mount unit for snapd revision': 854, 'finished file system check on devdiskbylabeluefi': 855, 'mounting bootefi': 856, 'mounted bootefi': 857, 'reached target local file systems': 858, 'starting load apparmor profiles': 859, 'starting set console font and keymap': 860, 'starting create final runtime dir for shutdown pivot root': 861, 'condition check resulted in lxd agent p mount being skipped': 862, 'condition check resulted in lxd agent being skipped': 863, 'starting tell plymouth to write out runtime data': 864, 'condition check resulted in store a system token in an efi variable being skipped': 865, 'condition check resulted in commit a transient machineid on disk being skipped': 866, 'finished set console font and keymap': 867, 'finished create final runtime dir for shutdown pivot root': 868, 'plymouthreadwriteservice succeeded': 869, 'finished tell plymouth to write out runtime data': 870, 'finished load apparmor profiles': 871, 'starting load apparmor profiles managed internally by snapd': 872, 'finished load apparmor profiles managed internally by snapd': 873, 'finished flush journal to persistent storage': 874, 'starting create volatile files and directories': 875, 'finished create volatile files and directories': 876, 'starting network time synchronization': 877, 'starting update utmp about system bootshutdown': 878, 'condition check resulted in authentication service for virtual machines hosted on vmware being skipped': 879, 'condition check resulted in service for virtual machines hosted on vmware being skipped': 880, 'starting initial cloudinit job prenetworking': 881, 'finished update utmp about system bootshutdown': 882, 'started network time synchronization': 883, 'reached target system time set': 884, 'reached target system time synchronized': 885, 'finished initial cloudinit job prenetworking': 886, 'reached target network pre': 887, 'starting network service': 888, 'started network service': 889, 'starting wait for network to be configured': 890, 'starting network name resolution': 891, 'started network name resolution': 892, 'reached target network': 893, 'reached target host and network name lookups': 894, 'finished wait for network to be configured': 895, 'starting initial cloudinit job metadata service crawler': 896, 'cloudinitservice main process exited codeexited statusfailure': 897, 'cloudinitservice failed with result exitcode': 898, 'failed to start initial cloudinit job metadata service crawler': 899, 'reached target cloudconfig availability': 900, 'reached target network is online': 901, 'reached target system initialization': 902, 'condition check resulted in process error reports when automatic reporting is enabled file watch being skipped': 903, 'started daily apt download activities': 904, 'started daily apt upgrade and clean activities': 905, 'started periodic ext online metadata check for all filesystems': 906, 'started discard unused blocks once a week': 907, 'started refresh fwupd metadata regularly': 908, 'started daily rotation of log files': 909, 'started daily mandb regeneration': 910, 'started message of the day': 911, 'condition check resulted in timer to automatically fetch and run repair assertions being skipped': 912, 'started daily cleanup of temporary directories': 913, 'condition check resulted in unix socket for apport crash forwarding being skipped': 914, 'listening on dbus system message bus socket': 915, 'listening on openiscsi iscsid socket': 916, 'listening on socket unix for snap application lxddaemon': 917, 'starting socket activation for snappy daemon': 918, 'listening on uuid daemon activation socket': 919, 'condition check resulted in login to default iscsi targets being skipped': 920, 'reached target remote file systems pre': 921, 'reached target remote file systems': 922, 'starting availability of block devices': 923, 'listening on socket activation for snappy daemon': 924, 'finished availability of block devices': 925, 'starting accounts service': 926, 'starting lsb automatic crash report generation': 927, 'starting deferred execution scheduler': 928, 'started regular background program processing daemon': 929, 'started dbus system message bus': 930, 'started save initial kernel messages after boot': 931, 'starting remove stale online ext metadata check snapshots': 932, 'condition check resulted in getty on ttytty if dbus and logind are not available being skipped': 933, 'starting lsb record successful boot for grub': 934, 'started irqbalance daemon': 935, 'starting dispatcher daemon for systemdnetworkd': 936, 'condition check resulted in set the cpu frequency scaling governor being skipped': 937, 'condition check resulted in pollinate to seed the pseudo random number generator being skipped': 938, 'condition check resulted in fast remote file copy program daemon being skipped': 939, 'starting system logging service': 940, 'condition check resulted in secure boot updates for db and dbx being skipped': 941, 'starting service for snap application lxdactivate': 942, 'condition check resulted in automatically repair incorrect ownerpermissions on core devices being skipped': 943, 'condition check resulted in wait for the ubuntu core chooser trigger being skipped': 944, 'starting snap daemon': 945, 'starting openbsd secure shell server': 946, 'starting login service': 947, 'starting permit user sessions': 948, 'starting thermal daemon service': 949, 'started deferred execution scheduler': 950, 'finished permit user sessions': 951, 'starting hold until boot process finishes up': 952, 'starting terminate plymouth boot screen': 953, 'plymouthquitwaitservice succeeded': 954, 'finished hold until boot process finishes up': 955, 'started serial getty on ttys': 956, 'starting set console scheme': 957, 'plymouthquitservice succeeded': 958, 'finished terminate plymouth boot screen': 959, 'finished set console scheme': 960, 'created slice systemgettyslice': 961, 'started getty on tty': 962, 'reached target login prompts': 963, 'escrubreapservice succeeded': 964, 'finished remove stale online ext metadata check snapshots': 965, 'started lsb automatic crash report generation': 966, 'started lsb record successful boot for grub': 967, 'starting grub failed boot detection': 968, 'started login service': 969, 'starting hostname service': 970, 'started unattended upgrades shutdown': 971, 'grubinitrdfallbackservice succeeded': 972, 'finished grub failed boot detection': 973, 'started system logging service': 974, 'starting haproxy load balancer': 975, 'started openbsd secure shell server': 976, 'started hostname service': 977, 'starting authorization manager': 978, 'started authorization manager': 979, 'started haproxy load balancer': 980, 'started thermal daemon service': 981, 'started dispatcher daemon for systemdnetworkd': 982, 'thermaldservice succeeded': 983, 'started accounts service': 984, 'tmpsnaprootfskcbcxmount succeeded': 985, 'tmpsanityxdmountpointxdmount succeeded': 986, 'started snap daemon': 987, 'starting wait until snapd is fully seeded': 988, 'finished wait until snapd is fully seeded': 989, 'starting apply the settings specified in cloudconfig': 990, 'condition check resulted in auto import assertions from block devices being skipped': 991, 'snaplxdactivateservice succeeded': 992, 'finished service for snap application lxdactivate': 993, 'reached target multiuser system': 994, 'reached target graphical interface': 995, 'starting update utmp about system runlevel changes': 996, 'systemdupdateutmprunlevelservice succeeded': 997, 'finished update utmp about system runlevel changes': 998, 'finished apply the settings specified in cloudconfig': 999, 'starting execute cloud userfinal scripts': 1000, 'finished execute cloud userfinal scripts': 1001, 'reached target cloudinit target': 1002, 'startup finished in s kernel s userspace s': 1003, 'dmesgservice succeeded': 1004, 'warnno rapl sysfs present': 1005, 'warn cpuid levels familymodelstepping x': 1006, 'warn need linux powercap sysfs': 1007, 'io warning failed to load external entity etcthermaldthermalconfxml': 1008, 'warnerror could not parse file etcthermaldthermalconfxml': 1009, 'warnunsupported cpu model use thermalconfxml file or run with ignorecpuidcheck': 1010, 'errthd engine start failed': 1011, 'systemdudevsettleservice is deprecated': 1012, 'collectd pluginreadthread readfunction of the virt plugin took seconds which is above its read interval seconds you might want to adjust the interval or readthreads settings': 1013, 'kernel kvm vcpu guest rip xffffffffaee disabled perfctr wrmsr xc data xffff': 1014, 'random crng init done': 1015, 'random urandom warnings missed due to ratelimiting': 1016, 'timesyncd initial synchronization to time server ntpubuntucom': 1017, 'systemdfsckdservice succeeded': 1018, 'systemdhostnamedservice succeeded': 1019, 'kernel kvm vcpu guest rip xffffffffce disabled perfctr wrmsr xc data xffff': 1020, 'kernel kvm vcpu guest rip xffffffff disabled perfctr wrmsr xc data xffff': 1021}\n",
            "input_sequences= [[136], [137], [138], [139], [140], [141], [10], [11], [17], [18], [142], [143], [144], [19], [20], [21], [22], [23], [47], [48], [49], [50], [51], [145], [146], [147], [52], [52], [53], [54], [24], [148], [149], [150], [151], [152], [55], [153], [154], [155], [156], [157], [56], [57], [158], [159], [160], [161], [162], [58], [59], [60], [61], [10], [11], [53], [54], [10], [11], [62], [62], [63], [63], [25], [25], [26], [64], [26], [64], [27], [27], [65], [66], [67], [68], [69], [28], [70], [71], [72], [73], [74], [75], [76], [77], [78], [79], [80], [163], [164], [165], [166], [167], [168], [169], [170], [171], [172], [173], [174], [175], [176], [177], [178], [179], [180], [17], [18], [19], [20], [21], [22], [23], [81], [82], [83], [24], [47], [48], [49], [50], [51], [17], [18], [19], [20], [21], [22], [23], [55], [56], [57], [24], [10], [11], [58], [59], [60], [61], [29], [30], [31], [84], [85], [86], [87], [88], [32], [33], [89], [90], [91], [92], [93], [94], [95], [96], [97], [34], [35], [98], [99], [100], [36], [25], [181], [182], [183], [184], [185], [186], [187], [188], [189], [101], [190], [101], [191], [192], [193], [194], [4], [195], [4], [196], [197], [198], [199], [102], [102], [4], [103], [4], [200], [4], [104], [104], [105], [105], [201], [202], [4], [103], [4], [203], [4], [106], [106], [107], [107], [108], [108], [4], [204], [205], [109], [206], [207], [208], [209], [210], [211], [212], [213], [214], [215], [109], [216], [217], [218], [219], [220], [221], [222], [223], [224], [225], [226], [227], [228], [229], [230], [231], [232], [233], [234], [235], [236], [237], [238], [239], [240], [241], [242], [243], [244], [245], [246], [247], [248], [249], [250], [251], [252], [253], [254], [255], [256], [257], [258], [259], [260], [261], [262], [263], [264], [265], [266], [267], [268], [269], [6], [6], [6], [6], [6], [6], [6], [270], [271], [272], [273], [274], [275], [276], [277], [278], [279], [280], [281], [282], [283], [110], [12], [12], [12], [12], [284], [285], [286], [287], [288], [289], [290], [291], [292], [293], [294], [295], [296], [297], [298], [299], [300], [301], [302], [111], [303], [112], [111], [112], [304], [305], [306], [110], [307], [308], [309], [13], [13], [13], [13], [8], [8], [8], [8], [8], [310], [311], [312], [313], [314], [315], [316], [317], [318], [319], [320], [321], [322], [323], [324], [325], [326], [327], [14], [328], [329], [330], [331], [332], [333], [334], [335], [336], [337], [338], [339], [340], [341], [342], [343], [344], [345], [346], [347], [348], [349], [350], [351], [352], [353], [354], [355], [356], [357], [358], [359], [360], [361], [362], [363], [364], [365], [113], [113], [366], [367], [368], [369], [370], [371], [372], [373], [374], [375], [376], [377], [378], [379], [380], [114], [37], [14], [381], [], [114], [37], [14], [382], [], [383], [37], [14], [384], [385], [386], [387], [388], [389], [390], [391], [392], [393], [7], [394], [395], [396], [397], [398], [399], [400], [401], [402], [403], [404], [405], [406], [407], [408], [409], [410], [411], [412], [413], [414], [415], [416], [417], [418], [2], [2], [2], [2], [2], [2], [2], [2], [2], [2], [2], [2], [2], [2], [2], [2], [2], [2], [2], [2], [2], [2], [2], [2], [2], [2], [2], [2], [2], [419], [420], [421], [422], [423], [424], [425], [15], [15], [15], [38], [426], [427], [428], [429], [430], [431], [15], [432], [433], [434], [435], [16], [115], [39], [38], [16], [116], [436], [39], [38], [16], [116], [115], [39], [437], [16], [438], [439], [440], [441], [442], [443], [444], [445], [446], [447], [448], [449], [450], [451], [452], [453], [454], [455], [456], [457], [458], [459], [460], [461], [462], [463], [464], [465], [466], [467], [468], [469], [470], [471], [472], [473], [474], [475], [476], [477], [478], [40], [479], [480], [40], [40], [481], [482], [483], [484], [485], [486], [487], [488], [489], [490], [491], [492], [7], [493], [494], [495], [496], [497], [498], [7], [7], [499], [500], [501], [502], [503], [504], [505], [506], [507], [508], [509], [510], [511], [512], [513], [514], [515], [516], [517], [117], [117], [518], [519], [520], [521], [522], [523], [524], [525], [526], [527], [528], [529], [530], [531], [532], [533], [534], [118], [118], [535], [536], [537], [538], [539], [540], [541], [542], [543], [544], [545], [546], [547], [548], [549], [550], [551], [552], [553], [554], [555], [556], [557], [558], [559], [560], [561], [562], [563], [564], [565], [566], [567], [568], [569], [570], [571], [5], [5], [5], [5], [5], [5], [5], [5], [572], [573], [574], [575], [576], [577], [578], [7], [579], [580], [581], [582], [583], [7], [584], [585], [586], [587], [588], [589], [590], [591], [592], [593], [119], [119], [594], [595], [596], [597], [598], [599], [600], [601], [602], [603], [604], [605], [606], [607], [608], [609], [610], [611], [612], [41], [613], [41], [41], [120], [614], [120], [615], [121], [616], [617], [121], [618], [619], [620], [621], [622], [623], [624], [122], [625], [626], [122], [627], [42], [43], [42], [43], [42], [43], [628], [629], [630], [631], [632], [633], [634], [635], [636], [637], [44], [44], [44], [638], [639], [640], [641], [642], [643], [644], [645], [646], [647], [648], [649], [650], [651], [652], [653], [654], [655], [656], [657], [658], [659], [660], [661], [662], [663], [664], [665], [666], [667], [668], [669], [670], [671], [672], [673], [674], [675], [676], [677], [678], [679], [680], [681], [682], [683], [684], [685], [686], [687], [688], [689], [690], [691], [692], [693], [694], [695], [696], [697], [698], [699], [700], [701], [702], [703], [704], [705], [706], [707], [708], [709], [710], [711], [712], [713], [714], [715], [716], [717], [718], [719], [720], [721], [722], [723], [724], [123], [123], [725], [726], [727], [124], [124], [728], [729], [730], [26], [731], [732], [733], [125], [125], [126], [126], [734], [127], [127], [128], [129], [128], [129], [130], [130], [131], [131], [735], [736], [737], [738], [739], [740], [9], [9], [9], [9], [9], [132], [132], [45], [133], [45], [133], [45], [741], [742], [28], [743], [744], [745], [746], [747], [748], [749], [750], [751], [752], [753], [754], [755], [756], [757], [758], [759], [760], [761], [762], [763], [764], [765], [766], [767], [768], [769], [770], [771], [772], [773], [774], [775], [776], [777], [778], [779], [780], [781], [782], [783], [784], [785], [786], [787], [788], [789], [790], [791], [792], [793], [794], [795], [796], [797], [798], [799], [800], [801], [802], [803], [804], [805], [806], [807], [808], [809], [810], [811], [812], [813], [814], [815], [816], [817], [818], [819], [820], [27], [821], [65], [66], [67], [68], [69], [28], [70], [71], [72], [73], [74], [75], [76], [77], [78], [79], [80], [822], [823], [824], [825], [826], [827], [828], [829], [830], [831], [832], [833], [834], [835], [836], [837], [838], [839], [840], [841], [842], [843], [844], [845], [846], [847], [848], [849], [134], [134], [850], [851], [852], [853], [135], [854], [135], [855], [856], [857], [858], [859], [860], [861], [862], [863], [864], [865], [866], [867], [868], [869], [870], [871], [872], [873], [874], [875], [876], [877], [878], [879], [880], [881], [882], [883], [884], [885], [886], [887], [888], [889], [890], [891], [892], [893], [894], [895], [896], [897], [898], [899], [900], [901], [902], [903], [904], [905], [906], [907], [908], [909], [910], [911], [912], [913], [32], [33], [914], [915], [916], [917], [918], [919], [920], [921], [922], [923], [924], [925], [34], [35], [926], [927], [928], [929], [930], [931], [932], [933], [934], [935], [936], [937], [938], [939], [940], [941], [942], [943], [944], [945], [946], [947], [948], [949], [950], [951], [952], [953], [954], [955], [956], [957], [958], [959], [960], [961], [962], [963], [964], [965], [966], [967], [968], [969], [970], [971], [972], [973], [974], [975], [976], [977], [978], [979], [980], [981], [982], [983], [984], [985], [986], [987], [988], [989], [990], [991], [992], [993], [994], [995], [996], [997], [998], [999], [1000], [1001], [1002], [1003], [1004], [1005], [1006], [1007], [1008], [1009], [1010], [1011], [1012], [1013], [1014], [46], [3], [3], [3], [3], [3], [1015], [1016], [1017], [1018], [1019], [1020], [1021], [46], [3], [29], [30], [31], [84], [85], [86], [87], [88], [32], [33], [89], [90], [91], [92], [93], [94], [95], [96], [97], [34], [35], [99], [36], [98], [100], [29], [30], [31], [36], [46], [3], [3], [3], [3], [3], [81], [82], [83]]\n",
            "Total input sequences:  1264\n"
          ]
        }
      ]
    },
    {
      "cell_type": "code",
      "source": [
        "# 모델 학습을 위한 Xs, ys 추출은 불필요함."
      ],
      "metadata": {
        "id": "i87NCCshFiuE"
      },
      "execution_count": null,
      "outputs": []
    },
    {
      "cell_type": "code",
      "source": [
        "from google.colab import files     # Colab에서 local PC내의 훈련 모델을  읽어 들임\n",
        "uploaded = files.upload()         # 10MB  2분 소요\n",
        "# 저장위치 :  /content/lstm_sent_predict.h5"
      ],
      "metadata": {
        "colab": {
          "base_uri": "https://localhost:8080/",
          "height": 41
        },
        "id": "wJzYCcYj6T1E",
        "outputId": "1071df6a-fdf6-4f32-8a63-2b1ddf34393d"
      },
      "execution_count": null,
      "outputs": [
        {
          "output_type": "display_data",
          "data": {
            "text/plain": [
              "<IPython.core.display.HTML object>"
            ],
            "text/html": [
              "\n",
              "     <input type=\"file\" id=\"files-3b7488ba-c8c5-4854-aef1-7c03a120dd25\" name=\"files[]\" multiple disabled\n",
              "        style=\"border:none\" />\n",
              "     <output id=\"result-3b7488ba-c8c5-4854-aef1-7c03a120dd25\">\n",
              "      Upload widget is only available when the cell has been executed in the\n",
              "      current browser session. Please rerun this cell to enable.\n",
              "      </output>\n",
              "      <script>// Copyright 2017 Google LLC\n",
              "//\n",
              "// Licensed under the Apache License, Version 2.0 (the \"License\");\n",
              "// you may not use this file except in compliance with the License.\n",
              "// You may obtain a copy of the License at\n",
              "//\n",
              "//      http://www.apache.org/licenses/LICENSE-2.0\n",
              "//\n",
              "// Unless required by applicable law or agreed to in writing, software\n",
              "// distributed under the License is distributed on an \"AS IS\" BASIS,\n",
              "// WITHOUT WARRANTIES OR CONDITIONS OF ANY KIND, either express or implied.\n",
              "// See the License for the specific language governing permissions and\n",
              "// limitations under the License.\n",
              "\n",
              "/**\n",
              " * @fileoverview Helpers for google.colab Python module.\n",
              " */\n",
              "(function(scope) {\n",
              "function span(text, styleAttributes = {}) {\n",
              "  const element = document.createElement('span');\n",
              "  element.textContent = text;\n",
              "  for (const key of Object.keys(styleAttributes)) {\n",
              "    element.style[key] = styleAttributes[key];\n",
              "  }\n",
              "  return element;\n",
              "}\n",
              "\n",
              "// Max number of bytes which will be uploaded at a time.\n",
              "const MAX_PAYLOAD_SIZE = 100 * 1024;\n",
              "\n",
              "function _uploadFiles(inputId, outputId) {\n",
              "  const steps = uploadFilesStep(inputId, outputId);\n",
              "  const outputElement = document.getElementById(outputId);\n",
              "  // Cache steps on the outputElement to make it available for the next call\n",
              "  // to uploadFilesContinue from Python.\n",
              "  outputElement.steps = steps;\n",
              "\n",
              "  return _uploadFilesContinue(outputId);\n",
              "}\n",
              "\n",
              "// This is roughly an async generator (not supported in the browser yet),\n",
              "// where there are multiple asynchronous steps and the Python side is going\n",
              "// to poll for completion of each step.\n",
              "// This uses a Promise to block the python side on completion of each step,\n",
              "// then passes the result of the previous step as the input to the next step.\n",
              "function _uploadFilesContinue(outputId) {\n",
              "  const outputElement = document.getElementById(outputId);\n",
              "  const steps = outputElement.steps;\n",
              "\n",
              "  const next = steps.next(outputElement.lastPromiseValue);\n",
              "  return Promise.resolve(next.value.promise).then((value) => {\n",
              "    // Cache the last promise value to make it available to the next\n",
              "    // step of the generator.\n",
              "    outputElement.lastPromiseValue = value;\n",
              "    return next.value.response;\n",
              "  });\n",
              "}\n",
              "\n",
              "/**\n",
              " * Generator function which is called between each async step of the upload\n",
              " * process.\n",
              " * @param {string} inputId Element ID of the input file picker element.\n",
              " * @param {string} outputId Element ID of the output display.\n",
              " * @return {!Iterable<!Object>} Iterable of next steps.\n",
              " */\n",
              "function* uploadFilesStep(inputId, outputId) {\n",
              "  const inputElement = document.getElementById(inputId);\n",
              "  inputElement.disabled = false;\n",
              "\n",
              "  const outputElement = document.getElementById(outputId);\n",
              "  outputElement.innerHTML = '';\n",
              "\n",
              "  const pickedPromise = new Promise((resolve) => {\n",
              "    inputElement.addEventListener('change', (e) => {\n",
              "      resolve(e.target.files);\n",
              "    });\n",
              "  });\n",
              "\n",
              "  const cancel = document.createElement('button');\n",
              "  inputElement.parentElement.appendChild(cancel);\n",
              "  cancel.textContent = 'Cancel upload';\n",
              "  const cancelPromise = new Promise((resolve) => {\n",
              "    cancel.onclick = () => {\n",
              "      resolve(null);\n",
              "    };\n",
              "  });\n",
              "\n",
              "  // Wait for the user to pick the files.\n",
              "  const files = yield {\n",
              "    promise: Promise.race([pickedPromise, cancelPromise]),\n",
              "    response: {\n",
              "      action: 'starting',\n",
              "    }\n",
              "  };\n",
              "\n",
              "  cancel.remove();\n",
              "\n",
              "  // Disable the input element since further picks are not allowed.\n",
              "  inputElement.disabled = true;\n",
              "\n",
              "  if (!files) {\n",
              "    return {\n",
              "      response: {\n",
              "        action: 'complete',\n",
              "      }\n",
              "    };\n",
              "  }\n",
              "\n",
              "  for (const file of files) {\n",
              "    const li = document.createElement('li');\n",
              "    li.append(span(file.name, {fontWeight: 'bold'}));\n",
              "    li.append(span(\n",
              "        `(${file.type || 'n/a'}) - ${file.size} bytes, ` +\n",
              "        `last modified: ${\n",
              "            file.lastModifiedDate ? file.lastModifiedDate.toLocaleDateString() :\n",
              "                                    'n/a'} - `));\n",
              "    const percent = span('0% done');\n",
              "    li.appendChild(percent);\n",
              "\n",
              "    outputElement.appendChild(li);\n",
              "\n",
              "    const fileDataPromise = new Promise((resolve) => {\n",
              "      const reader = new FileReader();\n",
              "      reader.onload = (e) => {\n",
              "        resolve(e.target.result);\n",
              "      };\n",
              "      reader.readAsArrayBuffer(file);\n",
              "    });\n",
              "    // Wait for the data to be ready.\n",
              "    let fileData = yield {\n",
              "      promise: fileDataPromise,\n",
              "      response: {\n",
              "        action: 'continue',\n",
              "      }\n",
              "    };\n",
              "\n",
              "    // Use a chunked sending to avoid message size limits. See b/62115660.\n",
              "    let position = 0;\n",
              "    do {\n",
              "      const length = Math.min(fileData.byteLength - position, MAX_PAYLOAD_SIZE);\n",
              "      const chunk = new Uint8Array(fileData, position, length);\n",
              "      position += length;\n",
              "\n",
              "      const base64 = btoa(String.fromCharCode.apply(null, chunk));\n",
              "      yield {\n",
              "        response: {\n",
              "          action: 'append',\n",
              "          file: file.name,\n",
              "          data: base64,\n",
              "        },\n",
              "      };\n",
              "\n",
              "      let percentDone = fileData.byteLength === 0 ?\n",
              "          100 :\n",
              "          Math.round((position / fileData.byteLength) * 100);\n",
              "      percent.textContent = `${percentDone}% done`;\n",
              "\n",
              "    } while (position < fileData.byteLength);\n",
              "  }\n",
              "\n",
              "  // All done.\n",
              "  yield {\n",
              "    response: {\n",
              "      action: 'complete',\n",
              "    }\n",
              "  };\n",
              "}\n",
              "\n",
              "scope.google = scope.google || {};\n",
              "scope.google.colab = scope.google.colab || {};\n",
              "scope.google.colab._files = {\n",
              "  _uploadFiles,\n",
              "  _uploadFilesContinue,\n",
              "};\n",
              "})(self);\n",
              "</script> "
            ]
          },
          "metadata": {}
        }
      ]
    },
    {
      "cell_type": "code",
      "source": [
        "# https://www.tensorflow.org/guide/keras/save_and_serialize?hl=ko\n",
        "from tensorflow import keras\n",
        "model = keras.models.load_model('/content/lstm_sent_predict.h5') # 훈련 모델을 다시 불러옴\n",
        "\n",
        "print(model.summary())"
      ],
      "metadata": {
        "id": "Ti-LNGDKQFbZ",
        "colab": {
          "base_uri": "https://localhost:8080/"
        },
        "outputId": "138e70fc-e7d0-4b56-92f4-51bb767c621b"
      },
      "execution_count": null,
      "outputs": [
        {
          "output_type": "stream",
          "name": "stdout",
          "text": [
            "Model: \"sequential\"\n",
            "_________________________________________________________________\n",
            " Layer (type)                Output Shape              Param #   \n",
            "=================================================================\n",
            " embedding (Embedding)       (None, 2, 200)            182800    \n",
            "                                                                 \n",
            " bidirectional (Bidirectiona  (None, 300)              421200    \n",
            " l)                                                              \n",
            "                                                                 \n",
            " dense (Dense)               (None, 914)               275114    \n",
            "                                                                 \n",
            "=================================================================\n",
            "Total params: 879,114\n",
            "Trainable params: 879,114\n",
            "Non-trainable params: 0\n",
            "_________________________________________________________________\n",
            "None\n"
          ]
        }
      ]
    },
    {
      "cell_type": "code",
      "source": [
        "# matplotlib으로 학습과정을 그래프로 그리는 것은 학습과정(model.compile)에서 metric이 저장되지 않았으므로 사용 불가함."
      ],
      "metadata": {
        "id": "TH6V6bMCQFh-"
      },
      "execution_count": null,
      "outputs": []
    },
    {
      "cell_type": "markdown",
      "source": [
        "# Model 시험하기\n",
        "\n",
        "연속된 2개의 문장으로 한 개의 다음 문장 예측하기"
      ],
      "metadata": {
        "id": "SwWzK7_EO3Ww"
      }
    },
    {
      "cell_type": "code",
      "source": [
        "# 연속된 2개의 문장으로 한 개의 다음 문장 예측하기\n",
        "\n",
        "seed_text = 'init ciinfo', 'init ciinfo route '\n",
        "\n",
        "''' --------------------  실제 log msg를 파일에서 읽어 처리할 때  ------------------------'''\n",
        "# model.pridict에 입력할 token_list 만들기\n",
        "seed_tok=[]\n",
        "for i in range(2):\n",
        "    sd =  nltk.sent_tokenize(seed_text[i])   #  한 줄의 log msg를 sentence 단위로 토큰화\n",
        "    seed_tok.append(sd)\n",
        "print(\"seed_tok=\", seed_tok)\n",
        "\n",
        "token = tokenizer.texts_to_sequences(seed_tok)\n",
        "print(\"token_list=\", token)                 # 입력 문장의 index 값\n",
        "\n",
        "token_list=[]\n",
        "for a in token:\n",
        "    token_list.append(a[0])\n",
        "token_list=[token_list]\n",
        "print(\"token_list=\", token_list)             # token_list = [[1, 2]] 와 같은 2차원 배열로 표시되어야 함\n",
        "'''-------------------------------------------------------------------------------------------'''\n",
        "\n",
        "y_prob = model.predict(token_list, verbose=0)    # model.predicted()는 token_list(X-train)의 개수만큼 예측 결과를 출력함\n",
        "print(y_prob[0][:20], len(y_prob[0]))                    # total_words(913개 unique 문장) 각각에 대한 확률 --> [[1.3384e-06 1.2275e-06 5.1810e-04 ... 3.392e-05]]\n",
        "\n",
        "\n",
        "predicted = y_prob[0].argmax(axis=-1)            # 가장 큰 확률 값을 갖는 단어의 index를 선택\n",
        "                                                    # axis가 0 이면 2차원 행렬에서 열(가장 높은 차원), axis=1이면 행(다음으로 높은 차원), axis=-1이면 마지막 차원(가장 낮은 차원, 2차원에서는 행)을 기준 축으로 함\n",
        "                                                    # argmax()는 가장 큰 값이 아닌 그 값의 인덱스 값을 반환함.\n",
        "print(\"predicted=\", predicted)\n",
        "prob= np.max(y_prob, axis=1)\n",
        "\n",
        "#pred_rank = sorted(y_prob[0], reverse = True)                  #  값이 큰 것부터 정렬(reverse=True), sort()는 원본 자료를 수정하고, sorted()는 원본은 그대로 두고 수정한 것을 리턴함.\n",
        "#print(pred_rank[0][:5])\n",
        "#print(pred_rank)\n",
        "\n",
        "output_word = \"\"\n",
        "for word, index in tokenizer.word_index.items():   # 실제 단어로 변환하여 출력에 append 함.\n",
        "    if index == predicted:\n",
        "        output_word = word\n",
        "        break\n",
        "seed_text = output_word\n",
        "print(seed_text, prob)\n"
      ],
      "metadata": {
        "colab": {
          "base_uri": "https://localhost:8080/"
        },
        "id": "0ngdLk4Vodh6",
        "outputId": "1e25f283-9b21-4a13-d4eb-45ba893858d0"
      },
      "execution_count": null,
      "outputs": [
        {
          "output_type": "stream",
          "name": "stdout",
          "text": [
            "seed_tok= [['init ciinfo'], ['init ciinfo route']]\n",
            "token_list= [[3], [1]]\n",
            "token_list= [[3, 1]]\n",
            "[1.0300854e-06 1.2203216e-06 4.4184503e-06 9.6786690e-01 7.3109049e-06\n",
            " 1.8712765e-06 1.8790925e-05 5.3053518e-06 9.3162311e-07 4.8569264e-06\n",
            " 1.8277681e-06 1.1951645e-05 2.0325801e-05 5.8447733e-07 1.2526841e-05\n",
            " 3.5367996e-06 5.5209607e-06 3.6956033e-06 9.2586297e-06 8.4288916e-07] 914\n",
            "predicted= 3\n",
            "init ciinfo [0.9678669]\n"
          ]
        }
      ]
    },
    {
      "cell_type": "markdown",
      "source": [
        "연속된 2개의 문장으로 다수의 Next Sentence를 예측하기"
      ],
      "metadata": {
        "id": "nIphxQm1uN1n"
      }
    },
    {
      "cell_type": "code",
      "source": [
        "\n",
        "seed_text = 'systemd stopped target default', 'systemd stopped target basic system'\n",
        "\n",
        "num_to_predict = 5    # 예측할  다음 문장의 개수\n",
        "''' --------------------  실제 log msg를 파일에서 읽어 처리할 때  ------------------------'''\n",
        "# model.pridict에 입력할 token_list 만들기\n",
        "seed_tok=[]\n",
        "for i in range(2):\n",
        "    sd =  nltk.sent_tokenize(seed_text[i])   #  한 줄의 log msg를 sentence 단위로 토큰화\n",
        "    seed_tok.append(sd)\n",
        "print(\"seed_tok=\", seed_tok)\n",
        "\n",
        "token = tokenizer.texts_to_sequences(seed_tok)\n",
        "print(\"token_list=\", token)                 # 입력 문장의 index 값\n",
        "\n",
        "token_list=[]\n",
        "for a in token:\n",
        "    token_list.append(a[0])\n",
        "token_list=[token_list]\n",
        "print(\"token_list=\", token_list)            # token_list = [[1, 2]] 와 같은 2차원 배열로 표시되어야 함\n",
        "'''-------------------------------------------------------------------------------------------'''\n",
        "print(\"\")\n",
        "\n",
        "y_prob = model.predict(token_list, verbose=0)    # model.predicted_classes 는 deprecated\n",
        "#print(y_prob)\n",
        "\n",
        "for i in range(num_to_predict):\n",
        "    predicted = y_prob[0].argmax(axis=-1)\n",
        "    print(\"predicted index =\", predicted)\n",
        "\n",
        "    prob= np.max(y_prob, axis=1)         # 2차원 array인 경우에 axis 사용함, 하나의 row에서 최대인 값\n",
        "    np.put(y_prob[0], predicted, 0)         # np.array는 요소를 delete를 하면 새 array를 return하고 원본에서는 삭제가 안된다. 단, np.put(array, index, value) 등으로 변경은 가능하다.\n",
        "    #np.delete(y_prob, predicted)\n",
        "\n",
        "    output_word = \"\"\n",
        "    for word, index in tokenizer.word_index.items():   # 실제 단어로 변환하여 출력에 append 함.\n",
        "        if index == predicted:\n",
        "            output_word = word\n",
        "            break\n",
        "    print(\"[\", i+1,\"번 ]\", output_word, prob)\n"
      ],
      "metadata": {
        "colab": {
          "base_uri": "https://localhost:8080/"
        },
        "id": "6zsdLACA6oAx",
        "outputId": "e2acd1c5-155d-43bd-84c9-7136c293ed43"
      },
      "execution_count": null,
      "outputs": [
        {
          "output_type": "stream",
          "name": "stdout",
          "text": [
            "seed_tok= [['systemd stopped target default'], ['systemd stopped target basic system']]\n",
            "token_list= [[1], [1]]\n",
            "token_list= [[1, 1]]\n",
            "\n",
            "predicted index = 143\n",
            "[ 1 번 ] lvmlvmpolldsocket succeeded [0.01044711]\n",
            "predicted index = 145\n",
            "[ 2 번 ] systemdrfkillsocket succeeded [0.00890795]\n",
            "predicted index = 343\n",
            "[ 3 번 ] xmm memory block size mb [0.00722101]\n",
            "predicted index = 841\n",
            "[ 4 번 ] started getty on tty [0.00683403]\n",
            "predicted index = 262\n",
            "[ 5 번 ] ioapic apicid version address xfec gsi [0.00614791]\n"
          ]
        }
      ]
    },
    {
      "cell_type": "markdown",
      "source": [
        "# EOF"
      ],
      "metadata": {
        "id": "l_4bu_bMTaOA"
      }
    },
    {
      "cell_type": "code",
      "source": [],
      "metadata": {
        "id": "MR1BKNpwu6Dy"
      },
      "execution_count": null,
      "outputs": []
    },
    {
      "cell_type": "markdown",
      "source": [
        "(참고) Google Drive에 model 저장하기"
      ],
      "metadata": {
        "id": "v1Vu3exeSGa1"
      }
    },
    {
      "cell_type": "code",
      "source": [
        "from google.colab import drive\n",
        "drive.mount('/content/drive/')"
      ],
      "metadata": {
        "colab": {
          "base_uri": "https://localhost:8080/"
        },
        "id": "R-s-LG_sV69K",
        "outputId": "21a34eec-4bf3-4dfe-c6d8-0820babe11a9"
      },
      "execution_count": null,
      "outputs": [
        {
          "output_type": "stream",
          "name": "stdout",
          "text": [
            "Drive already mounted at /content/drive/; to attempt to forcibly remount, call drive.mount(\"/content/drive/\", force_remount=True).\n"
          ]
        }
      ]
    },
    {
      "cell_type": "code",
      "source": [
        "model.save('/content/drive/My Drive/Colab Notebooks/lstm_sent_predict.h5') # Colab 좌측 창에 임시 저장된 h5 파일을 다운로드 하여 저장한다."
      ],
      "metadata": {
        "id": "nYuyUbA9WERA"
      },
      "execution_count": null,
      "outputs": []
    },
    {
      "cell_type": "code",
      "source": [],
      "metadata": {
        "id": "CHoZHrrDXqyo"
      },
      "execution_count": null,
      "outputs": []
    },
    {
      "cell_type": "markdown",
      "source": [
        "(참고) Source Code 저장하기"
      ],
      "metadata": {
        "id": "jmIlnOdSWXyw"
      }
    },
    {
      "cell_type": "code",
      "source": [
        "# 인용--> https://blog.naver.com/PostView.nhn?blogId=wideeyed&logNo=221564411127&categoryNo=49&parentCategoryNo=0&viewDate=&currentPage=1&postListTopCurrentPage=1&from=postView\n",
        "\n",
        "from os import path\n",
        "from google.colab import drive\n",
        "\n",
        "notebooks_dir_name = 'Colab Notebooks'\n",
        "drive.mount('/content/drive')\n",
        "notebooks_base_dir = path.join('./drive/My Drive/', notebooks_dir_name)\n",
        "if not path.exists(notebooks_base_dir):\n",
        "    print('Check your google drive directory\"')\n",
        "\n",
        "with open(path.join(notebooks_base_dir, \"파일 이름\"),\"w\") as f:\n",
        "          f.write(\"Colab Keras code saved\")"
      ],
      "metadata": {
        "id": "hCKT8PgASEMV"
      },
      "execution_count": null,
      "outputs": []
    },
    {
      "cell_type": "code",
      "source": [
        "from keras.models import load_model\n",
        "\n",
        "model.save('lstm_sent_predict')  # 모델을 저장\n",
        "\n",
        "del model       # 테스트를 위해 Colab 메모리 내의 모델을 삭제\n",
        "loaded_model = model.load('lstm_sent_predict') # 모델을 새로 불러옴\n",
        "\n",
        "print(\"\\n Test Accuracy: %.4f\" % (loaded_model.evaluate(X_test, Y_test)[1]))  # 불러온 모델로 테스트 실행"
      ],
      "metadata": {
        "id": "JX11_6UI7HrQ"
      },
      "execution_count": null,
      "outputs": []
    }
  ]
}